{
  "cells": [
    {
      "cell_type": "code",
      "execution_count": 36,
      "metadata": {
        "colab": {
          "base_uri": "https://localhost:8080/"
        },
        "id": "PTpF22Vf3eoY",
        "outputId": "1a6a8d97-f7c5-4c6d-e954-0221f36ba968"
      },
      "outputs": [
        {
          "name": "stdout",
          "output_type": "stream",
          "text": [
            "running in LOCAL environment\n"
          ]
        }
      ],
      "source": [
        "\n",
        "import pandas as pd\n",
        "import numpy as np\n",
        "import matplotlib.pyplot as plt\n",
        "from sklearn.preprocessing import MinMaxScaler\n",
        "from sklearn.ensemble import IsolationForest\n",
        "\n",
        "from sklearn.metrics import accuracy_score, precision_score, recall_score, f1_score, confusion_matrix\n",
        "\n",
        "try:\n",
        "  from google.colab import drive\n",
        "  IN_COLAB = True\n",
        "  print(\"running in COLAB environment\")\n",
        "except:\n",
        "  IN_COLAB = False\n",
        "  print(\"running in LOCAL environment\")\n",
        "\n",
        "\n",
        "if IN_COLAB:\n",
        "    df = pd.read_csv(\"/content/drive/MyDrive/Colab Notebooks/csgo_round_snapshots.csv\")\n",
        "else:\n",
        "    df = pd.read_csv(\"csgo_round_snapshots.csv\")"
      ]
    },
    {
      "cell_type": "code",
      "execution_count": 37,
      "metadata": {
        "id": "i4emohf8bmdP"
      },
      "outputs": [],
      "source": [
        "PcaNumberOfCompontents = 40\n",
        "    # number of dimensions after downsizing data set using PCA\n",
        "\n",
        "TestSize = 0.15\n",
        "    # float between 0 and 1 - ratio of data that will be seperated and used as testing data in training various models\n",
        "\n",
        "SeparateMaps = True\n",
        "    # bool - decide if you want replace map column with multiple columns, one for each map\n",
        "\n",
        "NeighboursCount = 40\n",
        "    # number of neighbours in KNeighboursClassifier"
      ]
    },
    {
      "cell_type": "code",
      "execution_count": 38,
      "metadata": {
        "colab": {
          "base_uri": "https://localhost:8080/",
          "height": 488
        },
        "id": "vDVCFhanVysh",
        "outputId": "1125fb6a-0d60-4869-ebb3-900624ff9c85"
      },
      "outputs": [
        {
          "data": {
            "text/html": [
              "<div>\n",
              "<style scoped>\n",
              "    .dataframe tbody tr th:only-of-type {\n",
              "        vertical-align: middle;\n",
              "    }\n",
              "\n",
              "    .dataframe tbody tr th {\n",
              "        vertical-align: top;\n",
              "    }\n",
              "\n",
              "    .dataframe thead th {\n",
              "        text-align: right;\n",
              "    }\n",
              "</style>\n",
              "<table border=\"1\" class=\"dataframe\">\n",
              "  <thead>\n",
              "    <tr style=\"text-align: right;\">\n",
              "      <th></th>\n",
              "      <th>time_left</th>\n",
              "      <th>ct_score</th>\n",
              "      <th>t_score</th>\n",
              "      <th>map</th>\n",
              "      <th>bomb_planted</th>\n",
              "      <th>ct_health</th>\n",
              "      <th>t_health</th>\n",
              "      <th>ct_armor</th>\n",
              "      <th>t_armor</th>\n",
              "      <th>ct_money</th>\n",
              "      <th>...</th>\n",
              "      <th>t_grenade_flashbang</th>\n",
              "      <th>ct_grenade_smokegrenade</th>\n",
              "      <th>t_grenade_smokegrenade</th>\n",
              "      <th>ct_grenade_incendiarygrenade</th>\n",
              "      <th>t_grenade_incendiarygrenade</th>\n",
              "      <th>ct_grenade_molotovgrenade</th>\n",
              "      <th>t_grenade_molotovgrenade</th>\n",
              "      <th>ct_grenade_decoygrenade</th>\n",
              "      <th>t_grenade_decoygrenade</th>\n",
              "      <th>round_winner</th>\n",
              "    </tr>\n",
              "  </thead>\n",
              "  <tbody>\n",
              "    <tr>\n",
              "      <th>0</th>\n",
              "      <td>175.00</td>\n",
              "      <td>0.0</td>\n",
              "      <td>0.0</td>\n",
              "      <td>de_dust2</td>\n",
              "      <td>False</td>\n",
              "      <td>500.0</td>\n",
              "      <td>500.0</td>\n",
              "      <td>0.0</td>\n",
              "      <td>0.0</td>\n",
              "      <td>4000.0</td>\n",
              "      <td>...</td>\n",
              "      <td>0.0</td>\n",
              "      <td>0.0</td>\n",
              "      <td>0.0</td>\n",
              "      <td>0.0</td>\n",
              "      <td>0.0</td>\n",
              "      <td>0.0</td>\n",
              "      <td>0.0</td>\n",
              "      <td>0.0</td>\n",
              "      <td>0.0</td>\n",
              "      <td>CT</td>\n",
              "    </tr>\n",
              "    <tr>\n",
              "      <th>1</th>\n",
              "      <td>156.03</td>\n",
              "      <td>0.0</td>\n",
              "      <td>0.0</td>\n",
              "      <td>de_dust2</td>\n",
              "      <td>False</td>\n",
              "      <td>500.0</td>\n",
              "      <td>500.0</td>\n",
              "      <td>400.0</td>\n",
              "      <td>300.0</td>\n",
              "      <td>600.0</td>\n",
              "      <td>...</td>\n",
              "      <td>0.0</td>\n",
              "      <td>0.0</td>\n",
              "      <td>2.0</td>\n",
              "      <td>0.0</td>\n",
              "      <td>0.0</td>\n",
              "      <td>0.0</td>\n",
              "      <td>0.0</td>\n",
              "      <td>0.0</td>\n",
              "      <td>0.0</td>\n",
              "      <td>CT</td>\n",
              "    </tr>\n",
              "    <tr>\n",
              "      <th>2</th>\n",
              "      <td>96.03</td>\n",
              "      <td>0.0</td>\n",
              "      <td>0.0</td>\n",
              "      <td>de_dust2</td>\n",
              "      <td>False</td>\n",
              "      <td>391.0</td>\n",
              "      <td>400.0</td>\n",
              "      <td>294.0</td>\n",
              "      <td>200.0</td>\n",
              "      <td>750.0</td>\n",
              "      <td>...</td>\n",
              "      <td>0.0</td>\n",
              "      <td>0.0</td>\n",
              "      <td>2.0</td>\n",
              "      <td>0.0</td>\n",
              "      <td>0.0</td>\n",
              "      <td>0.0</td>\n",
              "      <td>0.0</td>\n",
              "      <td>0.0</td>\n",
              "      <td>0.0</td>\n",
              "      <td>CT</td>\n",
              "    </tr>\n",
              "    <tr>\n",
              "      <th>3</th>\n",
              "      <td>76.03</td>\n",
              "      <td>0.0</td>\n",
              "      <td>0.0</td>\n",
              "      <td>de_dust2</td>\n",
              "      <td>False</td>\n",
              "      <td>391.0</td>\n",
              "      <td>400.0</td>\n",
              "      <td>294.0</td>\n",
              "      <td>200.0</td>\n",
              "      <td>750.0</td>\n",
              "      <td>...</td>\n",
              "      <td>0.0</td>\n",
              "      <td>0.0</td>\n",
              "      <td>0.0</td>\n",
              "      <td>0.0</td>\n",
              "      <td>0.0</td>\n",
              "      <td>0.0</td>\n",
              "      <td>0.0</td>\n",
              "      <td>0.0</td>\n",
              "      <td>0.0</td>\n",
              "      <td>CT</td>\n",
              "    </tr>\n",
              "    <tr>\n",
              "      <th>4</th>\n",
              "      <td>174.97</td>\n",
              "      <td>1.0</td>\n",
              "      <td>0.0</td>\n",
              "      <td>de_dust2</td>\n",
              "      <td>False</td>\n",
              "      <td>500.0</td>\n",
              "      <td>500.0</td>\n",
              "      <td>192.0</td>\n",
              "      <td>0.0</td>\n",
              "      <td>18350.0</td>\n",
              "      <td>...</td>\n",
              "      <td>0.0</td>\n",
              "      <td>0.0</td>\n",
              "      <td>0.0</td>\n",
              "      <td>0.0</td>\n",
              "      <td>0.0</td>\n",
              "      <td>0.0</td>\n",
              "      <td>0.0</td>\n",
              "      <td>0.0</td>\n",
              "      <td>0.0</td>\n",
              "      <td>CT</td>\n",
              "    </tr>\n",
              "    <tr>\n",
              "      <th>...</th>\n",
              "      <td>...</td>\n",
              "      <td>...</td>\n",
              "      <td>...</td>\n",
              "      <td>...</td>\n",
              "      <td>...</td>\n",
              "      <td>...</td>\n",
              "      <td>...</td>\n",
              "      <td>...</td>\n",
              "      <td>...</td>\n",
              "      <td>...</td>\n",
              "      <td>...</td>\n",
              "      <td>...</td>\n",
              "      <td>...</td>\n",
              "      <td>...</td>\n",
              "      <td>...</td>\n",
              "      <td>...</td>\n",
              "      <td>...</td>\n",
              "      <td>...</td>\n",
              "      <td>...</td>\n",
              "      <td>...</td>\n",
              "      <td>...</td>\n",
              "    </tr>\n",
              "    <tr>\n",
              "      <th>122405</th>\n",
              "      <td>15.41</td>\n",
              "      <td>11.0</td>\n",
              "      <td>14.0</td>\n",
              "      <td>de_train</td>\n",
              "      <td>True</td>\n",
              "      <td>200.0</td>\n",
              "      <td>242.0</td>\n",
              "      <td>195.0</td>\n",
              "      <td>359.0</td>\n",
              "      <td>100.0</td>\n",
              "      <td>...</td>\n",
              "      <td>2.0</td>\n",
              "      <td>1.0</td>\n",
              "      <td>1.0</td>\n",
              "      <td>0.0</td>\n",
              "      <td>0.0</td>\n",
              "      <td>0.0</td>\n",
              "      <td>0.0</td>\n",
              "      <td>0.0</td>\n",
              "      <td>0.0</td>\n",
              "      <td>T</td>\n",
              "    </tr>\n",
              "    <tr>\n",
              "      <th>122406</th>\n",
              "      <td>174.93</td>\n",
              "      <td>11.0</td>\n",
              "      <td>15.0</td>\n",
              "      <td>de_train</td>\n",
              "      <td>False</td>\n",
              "      <td>500.0</td>\n",
              "      <td>500.0</td>\n",
              "      <td>95.0</td>\n",
              "      <td>175.0</td>\n",
              "      <td>11500.0</td>\n",
              "      <td>...</td>\n",
              "      <td>2.0</td>\n",
              "      <td>1.0</td>\n",
              "      <td>0.0</td>\n",
              "      <td>0.0</td>\n",
              "      <td>0.0</td>\n",
              "      <td>0.0</td>\n",
              "      <td>0.0</td>\n",
              "      <td>0.0</td>\n",
              "      <td>0.0</td>\n",
              "      <td>T</td>\n",
              "    </tr>\n",
              "    <tr>\n",
              "      <th>122407</th>\n",
              "      <td>114.93</td>\n",
              "      <td>11.0</td>\n",
              "      <td>15.0</td>\n",
              "      <td>de_train</td>\n",
              "      <td>False</td>\n",
              "      <td>500.0</td>\n",
              "      <td>500.0</td>\n",
              "      <td>495.0</td>\n",
              "      <td>475.0</td>\n",
              "      <td>1200.0</td>\n",
              "      <td>...</td>\n",
              "      <td>4.0</td>\n",
              "      <td>3.0</td>\n",
              "      <td>5.0</td>\n",
              "      <td>1.0</td>\n",
              "      <td>0.0</td>\n",
              "      <td>0.0</td>\n",
              "      <td>5.0</td>\n",
              "      <td>0.0</td>\n",
              "      <td>0.0</td>\n",
              "      <td>T</td>\n",
              "    </tr>\n",
              "    <tr>\n",
              "      <th>122408</th>\n",
              "      <td>94.93</td>\n",
              "      <td>11.0</td>\n",
              "      <td>15.0</td>\n",
              "      <td>de_train</td>\n",
              "      <td>False</td>\n",
              "      <td>500.0</td>\n",
              "      <td>500.0</td>\n",
              "      <td>495.0</td>\n",
              "      <td>475.0</td>\n",
              "      <td>1200.0</td>\n",
              "      <td>...</td>\n",
              "      <td>5.0</td>\n",
              "      <td>0.0</td>\n",
              "      <td>3.0</td>\n",
              "      <td>0.0</td>\n",
              "      <td>0.0</td>\n",
              "      <td>0.0</td>\n",
              "      <td>4.0</td>\n",
              "      <td>0.0</td>\n",
              "      <td>0.0</td>\n",
              "      <td>T</td>\n",
              "    </tr>\n",
              "    <tr>\n",
              "      <th>122409</th>\n",
              "      <td>74.93</td>\n",
              "      <td>11.0</td>\n",
              "      <td>15.0</td>\n",
              "      <td>de_train</td>\n",
              "      <td>False</td>\n",
              "      <td>375.0</td>\n",
              "      <td>479.0</td>\n",
              "      <td>395.0</td>\n",
              "      <td>466.0</td>\n",
              "      <td>1100.0</td>\n",
              "      <td>...</td>\n",
              "      <td>3.0</td>\n",
              "      <td>0.0</td>\n",
              "      <td>2.0</td>\n",
              "      <td>0.0</td>\n",
              "      <td>0.0</td>\n",
              "      <td>0.0</td>\n",
              "      <td>3.0</td>\n",
              "      <td>0.0</td>\n",
              "      <td>0.0</td>\n",
              "      <td>T</td>\n",
              "    </tr>\n",
              "  </tbody>\n",
              "</table>\n",
              "<p>122410 rows × 97 columns</p>\n",
              "</div>"
            ],
            "text/plain": [
              "        time_left  ct_score  t_score       map  bomb_planted  ct_health   \n",
              "0          175.00       0.0      0.0  de_dust2         False      500.0  \\\n",
              "1          156.03       0.0      0.0  de_dust2         False      500.0   \n",
              "2           96.03       0.0      0.0  de_dust2         False      391.0   \n",
              "3           76.03       0.0      0.0  de_dust2         False      391.0   \n",
              "4          174.97       1.0      0.0  de_dust2         False      500.0   \n",
              "...           ...       ...      ...       ...           ...        ...   \n",
              "122405      15.41      11.0     14.0  de_train          True      200.0   \n",
              "122406     174.93      11.0     15.0  de_train         False      500.0   \n",
              "122407     114.93      11.0     15.0  de_train         False      500.0   \n",
              "122408      94.93      11.0     15.0  de_train         False      500.0   \n",
              "122409      74.93      11.0     15.0  de_train         False      375.0   \n",
              "\n",
              "        t_health  ct_armor  t_armor  ct_money  ...  t_grenade_flashbang   \n",
              "0          500.0       0.0      0.0    4000.0  ...                  0.0  \\\n",
              "1          500.0     400.0    300.0     600.0  ...                  0.0   \n",
              "2          400.0     294.0    200.0     750.0  ...                  0.0   \n",
              "3          400.0     294.0    200.0     750.0  ...                  0.0   \n",
              "4          500.0     192.0      0.0   18350.0  ...                  0.0   \n",
              "...          ...       ...      ...       ...  ...                  ...   \n",
              "122405     242.0     195.0    359.0     100.0  ...                  2.0   \n",
              "122406     500.0      95.0    175.0   11500.0  ...                  2.0   \n",
              "122407     500.0     495.0    475.0    1200.0  ...                  4.0   \n",
              "122408     500.0     495.0    475.0    1200.0  ...                  5.0   \n",
              "122409     479.0     395.0    466.0    1100.0  ...                  3.0   \n",
              "\n",
              "        ct_grenade_smokegrenade  t_grenade_smokegrenade   \n",
              "0                           0.0                     0.0  \\\n",
              "1                           0.0                     2.0   \n",
              "2                           0.0                     2.0   \n",
              "3                           0.0                     0.0   \n",
              "4                           0.0                     0.0   \n",
              "...                         ...                     ...   \n",
              "122405                      1.0                     1.0   \n",
              "122406                      1.0                     0.0   \n",
              "122407                      3.0                     5.0   \n",
              "122408                      0.0                     3.0   \n",
              "122409                      0.0                     2.0   \n",
              "\n",
              "        ct_grenade_incendiarygrenade  t_grenade_incendiarygrenade   \n",
              "0                                0.0                          0.0  \\\n",
              "1                                0.0                          0.0   \n",
              "2                                0.0                          0.0   \n",
              "3                                0.0                          0.0   \n",
              "4                                0.0                          0.0   \n",
              "...                              ...                          ...   \n",
              "122405                           0.0                          0.0   \n",
              "122406                           0.0                          0.0   \n",
              "122407                           1.0                          0.0   \n",
              "122408                           0.0                          0.0   \n",
              "122409                           0.0                          0.0   \n",
              "\n",
              "        ct_grenade_molotovgrenade  t_grenade_molotovgrenade   \n",
              "0                             0.0                       0.0  \\\n",
              "1                             0.0                       0.0   \n",
              "2                             0.0                       0.0   \n",
              "3                             0.0                       0.0   \n",
              "4                             0.0                       0.0   \n",
              "...                           ...                       ...   \n",
              "122405                        0.0                       0.0   \n",
              "122406                        0.0                       0.0   \n",
              "122407                        0.0                       5.0   \n",
              "122408                        0.0                       4.0   \n",
              "122409                        0.0                       3.0   \n",
              "\n",
              "        ct_grenade_decoygrenade  t_grenade_decoygrenade  round_winner  \n",
              "0                           0.0                     0.0            CT  \n",
              "1                           0.0                     0.0            CT  \n",
              "2                           0.0                     0.0            CT  \n",
              "3                           0.0                     0.0            CT  \n",
              "4                           0.0                     0.0            CT  \n",
              "...                         ...                     ...           ...  \n",
              "122405                      0.0                     0.0             T  \n",
              "122406                      0.0                     0.0             T  \n",
              "122407                      0.0                     0.0             T  \n",
              "122408                      0.0                     0.0             T  \n",
              "122409                      0.0                     0.0             T  \n",
              "\n",
              "[122410 rows x 97 columns]"
            ]
          },
          "execution_count": 38,
          "metadata": {},
          "output_type": "execute_result"
        }
      ],
      "source": [
        "df"
      ]
    },
    {
      "cell_type": "code",
      "execution_count": 39,
      "metadata": {
        "colab": {
          "base_uri": "https://localhost:8080/"
        },
        "id": "xe0-oeQHZKBG",
        "outputId": "f1077176-b5f5-4d55-fef9-55c2bfb88f85"
      },
      "outputs": [
        {
          "data": {
            "text/plain": [
              "Index(['time_left', 'ct_score', 't_score', 'map', 'bomb_planted', 'ct_health',\n",
              "       't_health', 'ct_armor', 't_armor', 'ct_money', 't_money', 'ct_helmets',\n",
              "       't_helmets', 'ct_defuse_kits', 'ct_players_alive', 't_players_alive',\n",
              "       'ct_weapon_ak47', 't_weapon_ak47', 'ct_weapon_aug', 't_weapon_aug',\n",
              "       'ct_weapon_awp', 't_weapon_awp', 'ct_weapon_bizon', 't_weapon_bizon',\n",
              "       'ct_weapon_cz75auto', 't_weapon_cz75auto', 'ct_weapon_elite',\n",
              "       't_weapon_elite', 'ct_weapon_famas', 't_weapon_famas',\n",
              "       'ct_weapon_g3sg1', 't_weapon_g3sg1', 'ct_weapon_galilar',\n",
              "       't_weapon_galilar', 'ct_weapon_glock', 't_weapon_glock',\n",
              "       'ct_weapon_m249', 't_weapon_m249', 'ct_weapon_m4a1s', 't_weapon_m4a1s',\n",
              "       'ct_weapon_m4a4', 't_weapon_m4a4', 'ct_weapon_mac10', 't_weapon_mac10',\n",
              "       'ct_weapon_mag7', 't_weapon_mag7', 'ct_weapon_mp5sd', 't_weapon_mp5sd',\n",
              "       'ct_weapon_mp7', 't_weapon_mp7', 'ct_weapon_mp9', 't_weapon_mp9',\n",
              "       'ct_weapon_negev', 't_weapon_negev', 'ct_weapon_nova', 't_weapon_nova',\n",
              "       'ct_weapon_p90', 't_weapon_p90', 'ct_weapon_r8revolver',\n",
              "       't_weapon_r8revolver', 'ct_weapon_sawedoff', 't_weapon_sawedoff',\n",
              "       'ct_weapon_scar20', 't_weapon_scar20', 'ct_weapon_sg553',\n",
              "       't_weapon_sg553', 'ct_weapon_ssg08', 't_weapon_ssg08',\n",
              "       'ct_weapon_ump45', 't_weapon_ump45', 'ct_weapon_xm1014',\n",
              "       't_weapon_xm1014', 'ct_weapon_deagle', 't_weapon_deagle',\n",
              "       'ct_weapon_fiveseven', 't_weapon_fiveseven', 'ct_weapon_usps',\n",
              "       't_weapon_usps', 'ct_weapon_p250', 't_weapon_p250', 'ct_weapon_p2000',\n",
              "       't_weapon_p2000', 'ct_weapon_tec9', 't_weapon_tec9',\n",
              "       'ct_grenade_hegrenade', 't_grenade_hegrenade', 'ct_grenade_flashbang',\n",
              "       't_grenade_flashbang', 'ct_grenade_smokegrenade',\n",
              "       't_grenade_smokegrenade', 'ct_grenade_incendiarygrenade',\n",
              "       't_grenade_incendiarygrenade', 'ct_grenade_molotovgrenade',\n",
              "       't_grenade_molotovgrenade', 'ct_grenade_decoygrenade',\n",
              "       't_grenade_decoygrenade', 'round_winner'],\n",
              "      dtype='object')"
            ]
          },
          "execution_count": 39,
          "metadata": {},
          "output_type": "execute_result"
        }
      ],
      "source": [
        "df.keys()"
      ]
    },
    {
      "cell_type": "code",
      "execution_count": 40,
      "metadata": {
        "colab": {
          "base_uri": "https://localhost:8080/",
          "height": 703
        },
        "id": "a6BE3IR_Eih0",
        "outputId": "03d17e8e-de51-4dcf-d625-f175b3b7fc8b"
      },
      "outputs": [
        {
          "name": "stdout",
          "output_type": "stream",
          "text": [
            "map\n",
            "de_inferno     23811\n",
            "de_dust2       22144\n",
            "de_nuke        19025\n",
            "de_mirage      18576\n",
            "de_overpass    14081\n",
            "de_train       13491\n",
            "de_vertigo     11137\n",
            "de_cache         145\n",
            "Name: count, dtype: int64\n"
          ]
        },
        {
          "data": {
            "text/plain": [
              "Text(0, 0.5, 'Count')"
            ]
          },
          "execution_count": 40,
          "metadata": {},
          "output_type": "execute_result"
        },
        {
          "data": {
            "image/png": "[encoded data removed]",
            "text/plain": [
              "<Figure size 640x480 with 1 Axes>"
            ]
          },
          "metadata": {},
          "output_type": "display_data"
        }
      ],
      "source": [
        "\n",
        "counts = df['map'].value_counts()\n",
        "print(counts)\n",
        "total = counts.sum()\n",
        "percentages = counts / total * 100\n",
        "\n",
        "plt.bar(counts.index, counts.values)\n",
        "\n",
        "plt.xticks(rotation=45, ha='right')\n",
        "plt.title('Count of maps played')\n",
        "plt.xlabel('Map')\n",
        "plt.ylabel('Count')"
      ]
    },
    {
      "cell_type": "code",
      "execution_count": 41,
      "metadata": {
        "colab": {
          "base_uri": "https://localhost:8080/"
        },
        "id": "5vkZwYBGhJNo",
        "outputId": "0f6ff6f5-3acd-468c-c8a3-d0d3a47a0759"
      },
      "outputs": [
        {
          "data": {
            "text/plain": [
              "map\n",
              "de_cache         145\n",
              "de_dust2       22144\n",
              "de_inferno     23811\n",
              "de_mirage      18576\n",
              "de_nuke        19025\n",
              "de_overpass    14081\n",
              "de_train       13491\n",
              "de_vertigo     11137\n",
              "Name: map, dtype: int64"
            ]
          },
          "execution_count": 41,
          "metadata": {},
          "output_type": "execute_result"
        }
      ],
      "source": [
        "df.groupby('map')['map'].count()"
      ]
    },
    {
      "cell_type": "code",
      "execution_count": 42,
      "metadata": {
        "colab": {
          "base_uri": "https://localhost:8080/"
        },
        "id": "Tr9gYktWhJWX",
        "outputId": "65fe99d8-c66a-4540-9bc1-714806034b54"
      },
      "outputs": [
        {
          "data": {
            "text/plain": [
              "array([  145, 22144, 23811, 18576, 19025, 14081, 13491, 11137],\n",
              "      dtype=int64)"
            ]
          },
          "execution_count": 42,
          "metadata": {},
          "output_type": "execute_result"
        }
      ],
      "source": [
        "df.groupby('map')['map'].count().values"
      ]
    },
    {
      "cell_type": "code",
      "execution_count": 43,
      "metadata": {
        "colab": {
          "base_uri": "https://localhost:8080/"
        },
        "id": "HgZXDto5hJd2",
        "outputId": "2c084be7-2938-42f2-e2d0-395a34a233c3"
      },
      "outputs": [
        {
          "data": {
            "text/plain": [
              "array([[  145],\n",
              "       [22144],\n",
              "       [23811],\n",
              "       [18576],\n",
              "       [19025],\n",
              "       [14081],\n",
              "       [13491],\n",
              "       [11137]], dtype=int64)"
            ]
          },
          "execution_count": 43,
          "metadata": {},
          "output_type": "execute_result"
        }
      ],
      "source": [
        "df.groupby('map')['map'].count().values.reshape(-1, 1)"
      ]
    },
    {
      "cell_type": "code",
      "execution_count": 44,
      "metadata": {
        "colab": {
          "base_uri": "https://localhost:8080/",
          "height": 622
        },
        "id": "-VnxnHCtZGs2",
        "outputId": "63a96223-8033-496b-8d1b-34a5d8404d5a"
      },
      "outputs": [
        {
          "data": {
            "image/png": "[encoded data removed]",
            "text/plain": [
              "<Figure size 1000x600 with 1 Axes>"
            ]
          },
          "metadata": {},
          "output_type": "display_data"
        }
      ],
      "source": [
        "map_win_pct = df.groupby(['map', 'round_winner'])['round_winner'].count().unstack() / df.groupby('map')['map'].count().values.reshape(-1, 1)\n",
        "ct_win_pct = map_win_pct['CT']*100\n",
        "\n",
        "ct_win_pct = ct_win_pct.sort_values(ascending=False)\n",
        "\n",
        "plt.figure(figsize=(10,6))\n",
        "plt.bar(ct_win_pct.index, ct_win_pct)\n",
        "plt.xticks(rotation=45)\n",
        "\n",
        "plt.xlabel('Map')\n",
        "plt.ylabel('Percentage of Rounds Won by CT')\n",
        "plt.title('CT winrate - in relation to maps')\n",
        "plt.show()"
      ]
    },
    {
      "attachments": {},
      "cell_type": "markdown",
      "metadata": {
        "id": "0WcoLffGbmdS"
      },
      "source": [
        "## following elements need to be converted to numbers:\n",
        "\n",
        "\n",
        "| map      | bomb_planted | round_winner |\n",
        "|----------|--------------|--------------|\n",
        "| de_dust2 | False        | CT           |\n",
        "\n",
        "Additionaly map can be converted to multiple columns, where each one conatins binary value."
      ]
    },
    {
      "cell_type": "code",
      "execution_count": 45,
      "metadata": {
        "colab": {
          "base_uri": "https://localhost:8080/"
        },
        "id": "bZKkqz_IbmdT",
        "outputId": "49bd829e-ae08-4a71-88e4-33fd42a92445"
      },
      "outputs": [
        {
          "name": "stdout",
          "output_type": "stream",
          "text": [
            "{'time_left': 0, 'ct_score': 1, 't_score': 2, 'bomb_planted': 3, 'ct_health': 4, 't_health': 5, 'ct_armor': 6, 't_armor': 7, 'ct_money': 8, 't_money': 9, 'ct_helmets': 10, 't_helmets': 11, 'ct_defuse_kits': 12, 'ct_players_alive': 13, 't_players_alive': 14, 'ct_weapon_ak47': 15, 't_weapon_ak47': 16, 'ct_weapon_aug': 17, 't_weapon_aug': 18, 'ct_weapon_awp': 19, 't_weapon_awp': 20, 'ct_weapon_bizon': 21, 't_weapon_bizon': 22, 'ct_weapon_cz75auto': 23, 't_weapon_cz75auto': 24, 'ct_weapon_elite': 25, 't_weapon_elite': 26, 'ct_weapon_famas': 27, 't_weapon_famas': 28, 'ct_weapon_g3sg1': 29, 't_weapon_g3sg1': 30, 'ct_weapon_galilar': 31, 't_weapon_galilar': 32, 'ct_weapon_glock': 33, 't_weapon_glock': 34, 'ct_weapon_m249': 35, 't_weapon_m249': 36, 'ct_weapon_m4a1s': 37, 't_weapon_m4a1s': 38, 'ct_weapon_m4a4': 39, 't_weapon_m4a4': 40, 'ct_weapon_mac10': 41, 't_weapon_mac10': 42, 'ct_weapon_mag7': 43, 't_weapon_mag7': 44, 'ct_weapon_mp5sd': 45, 't_weapon_mp5sd': 46, 'ct_weapon_mp7': 47, 't_weapon_mp7': 48, 'ct_weapon_mp9': 49, 't_weapon_mp9': 50, 'ct_weapon_negev': 51, 't_weapon_negev': 52, 'ct_weapon_nova': 53, 't_weapon_nova': 54, 'ct_weapon_p90': 55, 't_weapon_p90': 56, 'ct_weapon_r8revolver': 57, 't_weapon_r8revolver': 58, 'ct_weapon_sawedoff': 59, 't_weapon_sawedoff': 60, 'ct_weapon_scar20': 61, 't_weapon_scar20': 62, 'ct_weapon_sg553': 63, 't_weapon_sg553': 64, 'ct_weapon_ssg08': 65, 't_weapon_ssg08': 66, 'ct_weapon_ump45': 67, 't_weapon_ump45': 68, 'ct_weapon_xm1014': 69, 't_weapon_xm1014': 70, 'ct_weapon_deagle': 71, 't_weapon_deagle': 72, 'ct_weapon_fiveseven': 73, 't_weapon_fiveseven': 74, 'ct_weapon_usps': 75, 't_weapon_usps': 76, 'ct_weapon_p250': 77, 't_weapon_p250': 78, 'ct_weapon_p2000': 79, 't_weapon_p2000': 80, 'ct_weapon_tec9': 81, 't_weapon_tec9': 82, 'ct_grenade_hegrenade': 83, 't_grenade_hegrenade': 84, 'ct_grenade_flashbang': 85, 't_grenade_flashbang': 86, 'ct_grenade_smokegrenade': 87, 't_grenade_smokegrenade': 88, 'ct_grenade_incendiarygrenade': 89, 't_grenade_incendiarygrenade': 90, 'ct_grenade_molotovgrenade': 91, 't_grenade_molotovgrenade': 92, 'ct_grenade_decoygrenade': 93, 't_grenade_decoygrenade': 94, 'round_winner': 95, 'de_cache': 96, 'de_dust2': 97, 'de_inferno': 98, 'de_mirage': 99, 'de_nuke': 100, 'de_overpass': 101, 'de_train': 102, 'de_vertigo': 103}\n"
          ]
        }
      ],
      "source": [
        "# changing strings to nubmers\n",
        "\n",
        "bool_to_numbers = {\n",
        "    'False': 0,\n",
        "    'True': 1\n",
        "}\n",
        "\n",
        "team_to_number = {\n",
        "    'CT': 0,\n",
        "    'T': 1\n",
        "}\n",
        "\n",
        "map_to_number = {\n",
        "    'de_cache': 1,\n",
        "    'de_dust2': 2,\n",
        "    'de_inferno': 3,\n",
        "    'de_mirage': 4,\n",
        "    'de_nuke': 5,\n",
        "    'de_overpass': 6,\n",
        "    'de_train': 7,\n",
        "    'de_vertigo': 8\n",
        "}\n",
        "\n",
        "if(SeparateMaps):\n",
        "    mapColumns = pd.get_dummies(df['map'], dtype=int)\n",
        "    df = df.drop('map', axis=1)\n",
        "    df = pd.concat([df, mapColumns], axis=1)\n",
        "else:\n",
        "    df['map'] = df['map'].replace(map_to_number)\n",
        "\n",
        "df['bomb_planted'] = df['bomb_planted'].replace(bool_to_numbers)\n",
        "df['round_winner'] = df['round_winner'].replace(team_to_number)\n",
        "\n",
        "attrToIndex = {attr: index for index, attr in enumerate(df.keys())}\n",
        "print(attrToIndex)"
      ]
    },
    {
      "cell_type": "code",
      "execution_count": 46,
      "metadata": {
        "id": "GMKpjJtkbmdX"
      },
      "outputs": [],
      "source": [
        "scaler = MinMaxScaler()\n",
        "scaled_features = scaler.fit_transform(df)\n",
        "scaled_df = pd.DataFrame(scaled_features, columns=df.columns)\n",
        "\n"
      ]
    },
    {
      "cell_type": "code",
      "execution_count": 47,
      "metadata": {
        "colab": {
          "base_uri": "https://localhost:8080/",
          "height": 1000
        },
        "id": "Ln-_uNjObmdX",
        "outputId": "66ac3fb3-d923-426e-f0dc-a9f4b46de29a"
      },
      "outputs": [
        {
          "data": {
            "text/plain": [
              "{'whiskers': [<matplotlib.lines.Line2D at 0x211029f20b0>,\n",
              "  <matplotlib.lines.Line2D at 0x211029f2350>,\n",
              "  <matplotlib.lines.Line2D at 0x211029f3310>,\n",
              "  <matplotlib.lines.Line2D at 0x211029f35b0>,\n",
              "  <matplotlib.lines.Line2D at 0x211029a85b0>,\n",
              "  <matplotlib.lines.Line2D at 0x211029a8850>,\n",
              "  <matplotlib.lines.Line2D at 0x211029a9810>,\n",
              "  <matplotlib.lines.Line2D at 0x211029a9ab0>,\n",
              "  <matplotlib.lines.Line2D at 0x211029aaa70>,\n",
              "  <matplotlib.lines.Line2D at 0x211029aad10>,\n",
              "  <matplotlib.lines.Line2D at 0x211029abcd0>,\n",
              "  <matplotlib.lines.Line2D at 0x211029abf70>,\n",
              "  <matplotlib.lines.Line2D at 0x21102974f70>,\n",
              "  <matplotlib.lines.Line2D at 0x21102975210>,\n",
              "  <matplotlib.lines.Line2D at 0x211029761d0>,\n",
              "  <matplotlib.lines.Line2D at 0x21102976470>,\n",
              "  <matplotlib.lines.Line2D at 0x21102977430>,\n",
              "  <matplotlib.lines.Line2D at 0x211029776d0>,\n",
              "  <matplotlib.lines.Line2D at 0x211029346d0>,\n",
              "  <matplotlib.lines.Line2D at 0x21102934970>,\n",
              "  <matplotlib.lines.Line2D at 0x21102935930>,\n",
              "  <matplotlib.lines.Line2D at 0x21102935bd0>,\n",
              "  <matplotlib.lines.Line2D at 0x21102936b90>,\n",
              "  <matplotlib.lines.Line2D at 0x21102936e30>,\n",
              "  <matplotlib.lines.Line2D at 0x21102937ca0>,\n",
              "  <matplotlib.lines.Line2D at 0x21102937f70>,\n",
              "  <matplotlib.lines.Line2D at 0x21174488f70>,\n",
              "  <matplotlib.lines.Line2D at 0x21174489210>,\n",
              "  <matplotlib.lines.Line2D at 0x2117448a1d0>,\n",
              "  <matplotlib.lines.Line2D at 0x2117448a470>,\n",
              "  <matplotlib.lines.Line2D at 0x2117448b430>,\n",
              "  <matplotlib.lines.Line2D at 0x2117448b6d0>,\n",
              "  <matplotlib.lines.Line2D at 0x2117444c6d0>,\n",
              "  <matplotlib.lines.Line2D at 0x2117444c970>,\n",
              "  <matplotlib.lines.Line2D at 0x2117444d930>,\n",
              "  <matplotlib.lines.Line2D at 0x2117444dbd0>,\n",
              "  <matplotlib.lines.Line2D at 0x2117444eb90>,\n",
              "  <matplotlib.lines.Line2D at 0x2117444ee30>,\n",
              "  <matplotlib.lines.Line2D at 0x2117444fdf0>,\n",
              "  <matplotlib.lines.Line2D at 0x2117441c0d0>,\n",
              "  <matplotlib.lines.Line2D at 0x2117441d090>,\n",
              "  <matplotlib.lines.Line2D at 0x2117441d330>,\n",
              "  <matplotlib.lines.Line2D at 0x2117441e2f0>,\n",
              "  <matplotlib.lines.Line2D at 0x2117441e590>,\n",
              "  <matplotlib.lines.Line2D at 0x2117441f550>,\n",
              "  <matplotlib.lines.Line2D at 0x2117441f7f0>,\n",
              "  <matplotlib.lines.Line2D at 0x211744d07f0>,\n",
              "  <matplotlib.lines.Line2D at 0x211744d0a90>,\n",
              "  <matplotlib.lines.Line2D at 0x211744d1a50>,\n",
              "  <matplotlib.lines.Line2D at 0x211744d1cf0>,\n",
              "  <matplotlib.lines.Line2D at 0x211744d2cb0>,\n",
              "  <matplotlib.lines.Line2D at 0x211744d2f50>,\n",
              "  <matplotlib.lines.Line2D at 0x211744d3f10>,\n",
              "  <matplotlib.lines.Line2D at 0x211023f41f0>,\n",
              "  <matplotlib.lines.Line2D at 0x211023f51b0>,\n",
              "  <matplotlib.lines.Line2D at 0x211023f5450>,\n",
              "  <matplotlib.lines.Line2D at 0x211023f6410>,\n",
              "  <matplotlib.lines.Line2D at 0x211023f66b0>,\n",
              "  <matplotlib.lines.Line2D at 0x211023f7670>,\n",
              "  <matplotlib.lines.Line2D at 0x211023f7910>,\n",
              "  <matplotlib.lines.Line2D at 0x211023b8910>,\n",
              "  <matplotlib.lines.Line2D at 0x211023b8bb0>,\n",
              "  <matplotlib.lines.Line2D at 0x211023b9b70>,\n",
              "  <matplotlib.lines.Line2D at 0x211023b9e10>,\n",
              "  <matplotlib.lines.Line2D at 0x211023badd0>,\n",
              "  <matplotlib.lines.Line2D at 0x211023bb070>,\n",
              "  <matplotlib.lines.Line2D at 0x21102380070>,\n",
              "  <matplotlib.lines.Line2D at 0x21102380310>,\n",
              "  <matplotlib.lines.Line2D at 0x211023812d0>,\n",
              "  <matplotlib.lines.Line2D at 0x21102381570>,\n",
              "  <matplotlib.lines.Line2D at 0x21102382560>,\n",
              "  <matplotlib.lines.Line2D at 0x21102382800>,\n",
              "  <matplotlib.lines.Line2D at 0x211023837c0>,\n",
              "  <matplotlib.lines.Line2D at 0x21102383a60>,\n",
              "  <matplotlib.lines.Line2D at 0x21102340a60>,\n",
              "  <matplotlib.lines.Line2D at 0x21102340d00>,\n",
              "  <matplotlib.lines.Line2D at 0x21102341cf0>,\n",
              "  <matplotlib.lines.Line2D at 0x21102341f90>,\n",
              "  <matplotlib.lines.Line2D at 0x21102342f50>,\n",
              "  <matplotlib.lines.Line2D at 0x211023431f0>,\n",
              "  <matplotlib.lines.Line2D at 0x211023101f0>,\n",
              "  <matplotlib.lines.Line2D at 0x21102310490>,\n",
              "  <matplotlib.lines.Line2D at 0x21102311450>,\n",
              "  <matplotlib.lines.Line2D at 0x211023116f0>,\n",
              "  <matplotlib.lines.Line2D at 0x21102312710>,\n",
              "  <matplotlib.lines.Line2D at 0x211023129e0>,\n",
              "  <matplotlib.lines.Line2D at 0x211023139a0>,\n",
              "  <matplotlib.lines.Line2D at 0x21102313c40>,\n",
              "  <matplotlib.lines.Line2D at 0x21102624c40>,\n",
              "  <matplotlib.lines.Line2D at 0x21102624ee0>,\n",
              "  <matplotlib.lines.Line2D at 0x21102625ea0>,\n",
              "  <matplotlib.lines.Line2D at 0x21102626140>,\n",
              "  <matplotlib.lines.Line2D at 0x21102627100>,\n",
              "  <matplotlib.lines.Line2D at 0x211026273a0>,\n",
              "  <matplotlib.lines.Line2D at 0x211026683a0>,\n",
              "  <matplotlib.lines.Line2D at 0x21102668640>,\n",
              "  <matplotlib.lines.Line2D at 0x21102669600>,\n",
              "  <matplotlib.lines.Line2D at 0x211026698a0>,\n",
              "  <matplotlib.lines.Line2D at 0x2110266a860>,\n",
              "  <matplotlib.lines.Line2D at 0x2110266ab00>,\n",
              "  <matplotlib.lines.Line2D at 0x2110266bac0>,\n",
              "  <matplotlib.lines.Line2D at 0x2110266bd60>,\n",
              "  <matplotlib.lines.Line2D at 0x21102698d60>,\n",
              "  <matplotlib.lines.Line2D at 0x21102699000>,\n",
              "  <matplotlib.lines.Line2D at 0x21102699fc0>,\n",
              "  <matplotlib.lines.Line2D at 0x2110269a260>,\n",
              "  <matplotlib.lines.Line2D at 0x2110269b220>,\n",
              "  <matplotlib.lines.Line2D at 0x2110269b4c0>,\n",
              "  <matplotlib.lines.Line2D at 0x211026d44c0>,\n",
              "  <matplotlib.lines.Line2D at 0x211026d4760>,\n",
              "  <matplotlib.lines.Line2D at 0x211026d5720>,\n",
              "  <matplotlib.lines.Line2D at 0x211026d59c0>,\n",
              "  <matplotlib.lines.Line2D at 0x211026d6980>,\n",
              "  <matplotlib.lines.Line2D at 0x211026d6c20>,\n",
              "  <matplotlib.lines.Line2D at 0x211026d7be0>,\n",
              "  <matplotlib.lines.Line2D at 0x211026d7e80>,\n",
              "  <matplotlib.lines.Line2D at 0x21102810e80>,\n",
              "  <matplotlib.lines.Line2D at 0x21102811120>,\n",
              "  <matplotlib.lines.Line2D at 0x211028120e0>,\n",
              "  <matplotlib.lines.Line2D at 0x21102812380>,\n",
              "  <matplotlib.lines.Line2D at 0x21102813340>,\n",
              "  <matplotlib.lines.Line2D at 0x211028135e0>,\n",
              "  <matplotlib.lines.Line2D at 0x2110284c5e0>,\n",
              "  <matplotlib.lines.Line2D at 0x2110284c880>,\n",
              "  <matplotlib.lines.Line2D at 0x2110284d840>,\n",
              "  <matplotlib.lines.Line2D at 0x2110284dae0>,\n",
              "  <matplotlib.lines.Line2D at 0x2110284eaa0>,\n",
              "  <matplotlib.lines.Line2D at 0x2110284ed40>,\n",
              "  <matplotlib.lines.Line2D at 0x2110284fd00>,\n",
              "  <matplotlib.lines.Line2D at 0x2110284ffa0>,\n",
              "  <matplotlib.lines.Line2D at 0x2110287cfa0>,\n",
              "  <matplotlib.lines.Line2D at 0x2110287d240>,\n",
              "  <matplotlib.lines.Line2D at 0x2110287e200>,\n",
              "  <matplotlib.lines.Line2D at 0x2110287e4a0>,\n",
              "  <matplotlib.lines.Line2D at 0x2110287f460>,\n",
              "  <matplotlib.lines.Line2D at 0x2110287f700>,\n",
              "  <matplotlib.lines.Line2D at 0x211028bc700>,\n",
              "  <matplotlib.lines.Line2D at 0x211028bc9a0>,\n",
              "  <matplotlib.lines.Line2D at 0x211028bd960>,\n",
              "  <matplotlib.lines.Line2D at 0x211028bdc00>,\n",
              "  <matplotlib.lines.Line2D at 0x211028bebc0>,\n",
              "  <matplotlib.lines.Line2D at 0x211028bee60>,\n",
              "  <matplotlib.lines.Line2D at 0x211028bfe20>,\n",
              "  <matplotlib.lines.Line2D at 0x211028f4100>,\n",
              "  <matplotlib.lines.Line2D at 0x211028f50c0>,\n",
              "  <matplotlib.lines.Line2D at 0x211028f5360>,\n",
              "  <matplotlib.lines.Line2D at 0x211028f6320>,\n",
              "  <matplotlib.lines.Line2D at 0x211028f65c0>,\n",
              "  <matplotlib.lines.Line2D at 0x211028f7580>,\n",
              "  <matplotlib.lines.Line2D at 0x211028f7820>,\n",
              "  <matplotlib.lines.Line2D at 0x2111b130820>,\n",
              "  <matplotlib.lines.Line2D at 0x2111b130ac0>,\n",
              "  <matplotlib.lines.Line2D at 0x2111b131a80>,\n",
              "  <matplotlib.lines.Line2D at 0x2111b131d20>,\n",
              "  <matplotlib.lines.Line2D at 0x2111b132ce0>,\n",
              "  <matplotlib.lines.Line2D at 0x2111b132f80>,\n",
              "  <matplotlib.lines.Line2D at 0x2111b133f40>,\n",
              "  <matplotlib.lines.Line2D at 0x2111b168220>,\n",
              "  <matplotlib.lines.Line2D at 0x2111b1691e0>,\n",
              "  <matplotlib.lines.Line2D at 0x2111b169480>,\n",
              "  <matplotlib.lines.Line2D at 0x2111b16a440>,\n",
              "  <matplotlib.lines.Line2D at 0x2111b16a6e0>,\n",
              "  <matplotlib.lines.Line2D at 0x2111b16b6a0>,\n",
              "  <matplotlib.lines.Line2D at 0x2111b16b940>,\n",
              "  <matplotlib.lines.Line2D at 0x2111b1a0940>,\n",
              "  <matplotlib.lines.Line2D at 0x2111b1a0be0>,\n",
              "  <matplotlib.lines.Line2D at 0x2111b1a1ba0>,\n",
              "  <matplotlib.lines.Line2D at 0x2111b1a1e40>,\n",
              "  <matplotlib.lines.Line2D at 0x2111b1a2e00>,\n",
              "  <matplotlib.lines.Line2D at 0x2111b1a30a0>,\n",
              "  <matplotlib.lines.Line2D at 0x2111b1dc0a0>,\n",
              "  <matplotlib.lines.Line2D at 0x2111b1dc340>,\n",
              "  <matplotlib.lines.Line2D at 0x2111b1dd300>,\n",
              "  <matplotlib.lines.Line2D at 0x2111b1dd5a0>,\n",
              "  <matplotlib.lines.Line2D at 0x2111b1de560>,\n",
              "  <matplotlib.lines.Line2D at 0x2111b1de800>,\n",
              "  <matplotlib.lines.Line2D at 0x2111b1df7c0>,\n",
              "  <matplotlib.lines.Line2D at 0x2111b1dfa60>,\n",
              "  <matplotlib.lines.Line2D at 0x2111bc14a60>,\n",
              "  <matplotlib.lines.Line2D at 0x2111bc14d00>,\n",
              "  <matplotlib.lines.Line2D at 0x2111bc15cc0>,\n",
              "  <matplotlib.lines.Line2D at 0x2111bc15f60>,\n",
              "  <matplotlib.lines.Line2D at 0x2111bc16f20>,\n",
              "  <matplotlib.lines.Line2D at 0x2111bc171c0>,\n",
              "  <matplotlib.lines.Line2D at 0x2111bc4c1c0>,\n",
              "  <matplotlib.lines.Line2D at 0x2111bc4c460>,\n",
              "  <matplotlib.lines.Line2D at 0x2111bc4d420>,\n",
              "  <matplotlib.lines.Line2D at 0x2111bc4d6c0>,\n",
              "  <matplotlib.lines.Line2D at 0x2111bc4e680>,\n",
              "  <matplotlib.lines.Line2D at 0x2111bc4e920>,\n",
              "  <matplotlib.lines.Line2D at 0x2111bc4f8e0>,\n",
              "  <matplotlib.lines.Line2D at 0x2111bc4fb80>,\n",
              "  <matplotlib.lines.Line2D at 0x2111bc88b80>,\n",
              "  <matplotlib.lines.Line2D at 0x2111bc88e20>,\n",
              "  <matplotlib.lines.Line2D at 0x2111bc89de0>,\n",
              "  <matplotlib.lines.Line2D at 0x2111bc8a080>,\n",
              "  <matplotlib.lines.Line2D at 0x2111bc8b040>,\n",
              "  <matplotlib.lines.Line2D at 0x2111bc8b2e0>,\n",
              "  <matplotlib.lines.Line2D at 0x2111bcc82e0>,\n",
              "  <matplotlib.lines.Line2D at 0x2111bcc8580>,\n",
              "  <matplotlib.lines.Line2D at 0x2111bcc9540>,\n",
              "  <matplotlib.lines.Line2D at 0x2111bcc97e0>,\n",
              "  <matplotlib.lines.Line2D at 0x2111bcca7a0>,\n",
              "  <matplotlib.lines.Line2D at 0x2111bccaa40>,\n",
              "  <matplotlib.lines.Line2D at 0x2111bccba00>,\n",
              "  <matplotlib.lines.Line2D at 0x2111bccbca0>,\n",
              "  <matplotlib.lines.Line2D at 0x2111bcfcca0>,\n",
              "  <matplotlib.lines.Line2D at 0x2111bcfcf40>],\n",
              " 'caps': [<matplotlib.lines.Line2D at 0x211029f25f0>,\n",
              "  <matplotlib.lines.Line2D at 0x211029f2890>,\n",
              "  <matplotlib.lines.Line2D at 0x211029f3850>,\n",
              "  <matplotlib.lines.Line2D at 0x211029f3af0>,\n",
              "  <matplotlib.lines.Line2D at 0x211029a8af0>,\n",
              "  <matplotlib.lines.Line2D at 0x211029a8d90>,\n",
              "  <matplotlib.lines.Line2D at 0x211029a9d50>,\n",
              "  <matplotlib.lines.Line2D at 0x211029a9ff0>,\n",
              "  <matplotlib.lines.Line2D at 0x211029aafb0>,\n",
              "  <matplotlib.lines.Line2D at 0x211029ab250>,\n",
              "  <matplotlib.lines.Line2D at 0x21102974250>,\n",
              "  <matplotlib.lines.Line2D at 0x211029744f0>,\n",
              "  <matplotlib.lines.Line2D at 0x211029754b0>,\n",
              "  <matplotlib.lines.Line2D at 0x21102975750>,\n",
              "  <matplotlib.lines.Line2D at 0x21102976710>,\n",
              "  <matplotlib.lines.Line2D at 0x211029769b0>,\n",
              "  <matplotlib.lines.Line2D at 0x21102977970>,\n",
              "  <matplotlib.lines.Line2D at 0x21102977c10>,\n",
              "  <matplotlib.lines.Line2D at 0x21102934c10>,\n",
              "  <matplotlib.lines.Line2D at 0x21102934eb0>,\n",
              "  <matplotlib.lines.Line2D at 0x21102935e70>,\n",
              "  <matplotlib.lines.Line2D at 0x21102936110>,\n",
              "  <matplotlib.lines.Line2D at 0x211029370d0>,\n",
              "  <matplotlib.lines.Line2D at 0x21102937370>,\n",
              "  <matplotlib.lines.Line2D at 0x21174488250>,\n",
              "  <matplotlib.lines.Line2D at 0x211744884f0>,\n",
              "  <matplotlib.lines.Line2D at 0x211744894b0>,\n",
              "  <matplotlib.lines.Line2D at 0x21174489750>,\n",
              "  <matplotlib.lines.Line2D at 0x2117448a710>,\n",
              "  <matplotlib.lines.Line2D at 0x2117448a9b0>,\n",
              "  <matplotlib.lines.Line2D at 0x2117448b970>,\n",
              "  <matplotlib.lines.Line2D at 0x2117448bc10>,\n",
              "  <matplotlib.lines.Line2D at 0x2117444cc10>,\n",
              "  <matplotlib.lines.Line2D at 0x2117444ceb0>,\n",
              "  <matplotlib.lines.Line2D at 0x2117444de70>,\n",
              "  <matplotlib.lines.Line2D at 0x2117444e110>,\n",
              "  <matplotlib.lines.Line2D at 0x2117444f0d0>,\n",
              "  <matplotlib.lines.Line2D at 0x2117444f370>,\n",
              "  <matplotlib.lines.Line2D at 0x2117441c370>,\n",
              "  <matplotlib.lines.Line2D at 0x2117441c610>,\n",
              "  <matplotlib.lines.Line2D at 0x2117441d5d0>,\n",
              "  <matplotlib.lines.Line2D at 0x2117441d870>,\n",
              "  <matplotlib.lines.Line2D at 0x2117441e830>,\n",
              "  <matplotlib.lines.Line2D at 0x2117441ead0>,\n",
              "  <matplotlib.lines.Line2D at 0x2117441fa90>,\n",
              "  <matplotlib.lines.Line2D at 0x2117441fd30>,\n",
              "  <matplotlib.lines.Line2D at 0x211744d0d30>,\n",
              "  <matplotlib.lines.Line2D at 0x211744d0fd0>,\n",
              "  <matplotlib.lines.Line2D at 0x211744d1f90>,\n",
              "  <matplotlib.lines.Line2D at 0x211744d2230>,\n",
              "  <matplotlib.lines.Line2D at 0x211744d31f0>,\n",
              "  <matplotlib.lines.Line2D at 0x211744d3490>,\n",
              "  <matplotlib.lines.Line2D at 0x211023f4490>,\n",
              "  <matplotlib.lines.Line2D at 0x211023f4730>,\n",
              "  <matplotlib.lines.Line2D at 0x211023f56f0>,\n",
              "  <matplotlib.lines.Line2D at 0x211023f5990>,\n",
              "  <matplotlib.lines.Line2D at 0x211023f6950>,\n",
              "  <matplotlib.lines.Line2D at 0x211023f6bf0>,\n",
              "  <matplotlib.lines.Line2D at 0x211023f7bb0>,\n",
              "  <matplotlib.lines.Line2D at 0x211023f7e50>,\n",
              "  <matplotlib.lines.Line2D at 0x211023b8e50>,\n",
              "  <matplotlib.lines.Line2D at 0x211023b90f0>,\n",
              "  <matplotlib.lines.Line2D at 0x211023ba0b0>,\n",
              "  <matplotlib.lines.Line2D at 0x211023ba350>,\n",
              "  <matplotlib.lines.Line2D at 0x211023bb310>,\n",
              "  <matplotlib.lines.Line2D at 0x211023bb5b0>,\n",
              "  <matplotlib.lines.Line2D at 0x211023805b0>,\n",
              "  <matplotlib.lines.Line2D at 0x21102380850>,\n",
              "  <matplotlib.lines.Line2D at 0x21102381810>,\n",
              "  <matplotlib.lines.Line2D at 0x21102381ab0>,\n",
              "  <matplotlib.lines.Line2D at 0x21102382aa0>,\n",
              "  <matplotlib.lines.Line2D at 0x21102382d40>,\n",
              "  <matplotlib.lines.Line2D at 0x21102383d00>,\n",
              "  <matplotlib.lines.Line2D at 0x21102383fa0>,\n",
              "  <matplotlib.lines.Line2D at 0x21102340fa0>,\n",
              "  <matplotlib.lines.Line2D at 0x21102341240>,\n",
              "  <matplotlib.lines.Line2D at 0x21102342230>,\n",
              "  <matplotlib.lines.Line2D at 0x211023424d0>,\n",
              "  <matplotlib.lines.Line2D at 0x21102343490>,\n",
              "  <matplotlib.lines.Line2D at 0x21102343730>,\n",
              "  <matplotlib.lines.Line2D at 0x21102310730>,\n",
              "  <matplotlib.lines.Line2D at 0x211023109d0>,\n",
              "  <matplotlib.lines.Line2D at 0x21102311990>,\n",
              "  <matplotlib.lines.Line2D at 0x21102311c30>,\n",
              "  <matplotlib.lines.Line2D at 0x21102312c80>,\n",
              "  <matplotlib.lines.Line2D at 0x21102312f20>,\n",
              "  <matplotlib.lines.Line2D at 0x21102313ee0>,\n",
              "  <matplotlib.lines.Line2D at 0x211026241c0>,\n",
              "  <matplotlib.lines.Line2D at 0x21102625180>,\n",
              "  <matplotlib.lines.Line2D at 0x21102625420>,\n",
              "  <matplotlib.lines.Line2D at 0x211026263e0>,\n",
              "  <matplotlib.lines.Line2D at 0x21102626680>,\n",
              "  <matplotlib.lines.Line2D at 0x21102627640>,\n",
              "  <matplotlib.lines.Line2D at 0x211026278e0>,\n",
              "  <matplotlib.lines.Line2D at 0x211026688e0>,\n",
              "  <matplotlib.lines.Line2D at 0x21102668b80>,\n",
              "  <matplotlib.lines.Line2D at 0x21102669b40>,\n",
              "  <matplotlib.lines.Line2D at 0x21102669de0>,\n",
              "  <matplotlib.lines.Line2D at 0x2110266ada0>,\n",
              "  <matplotlib.lines.Line2D at 0x2110266b040>,\n",
              "  <matplotlib.lines.Line2D at 0x21102698040>,\n",
              "  <matplotlib.lines.Line2D at 0x211026982e0>,\n",
              "  <matplotlib.lines.Line2D at 0x211026992a0>,\n",
              "  <matplotlib.lines.Line2D at 0x21102699540>,\n",
              "  <matplotlib.lines.Line2D at 0x2110269a500>,\n",
              "  <matplotlib.lines.Line2D at 0x2110269a7a0>,\n",
              "  <matplotlib.lines.Line2D at 0x2110269b760>,\n",
              "  <matplotlib.lines.Line2D at 0x2110269ba00>,\n",
              "  <matplotlib.lines.Line2D at 0x211026d4a00>,\n",
              "  <matplotlib.lines.Line2D at 0x211026d4ca0>,\n",
              "  <matplotlib.lines.Line2D at 0x211026d5c60>,\n",
              "  <matplotlib.lines.Line2D at 0x211026d5f00>,\n",
              "  <matplotlib.lines.Line2D at 0x211026d6ec0>,\n",
              "  <matplotlib.lines.Line2D at 0x211026d7160>,\n",
              "  <matplotlib.lines.Line2D at 0x21102810160>,\n",
              "  <matplotlib.lines.Line2D at 0x21102810400>,\n",
              "  <matplotlib.lines.Line2D at 0x211028113c0>,\n",
              "  <matplotlib.lines.Line2D at 0x21102811660>,\n",
              "  <matplotlib.lines.Line2D at 0x21102812620>,\n",
              "  <matplotlib.lines.Line2D at 0x211028128c0>,\n",
              "  <matplotlib.lines.Line2D at 0x21102813880>,\n",
              "  <matplotlib.lines.Line2D at 0x21102813b20>,\n",
              "  <matplotlib.lines.Line2D at 0x2110284cb20>,\n",
              "  <matplotlib.lines.Line2D at 0x2110284cdc0>,\n",
              "  <matplotlib.lines.Line2D at 0x2110284dd80>,\n",
              "  <matplotlib.lines.Line2D at 0x2110284e020>,\n",
              "  <matplotlib.lines.Line2D at 0x2110284efe0>,\n",
              "  <matplotlib.lines.Line2D at 0x2110284f280>,\n",
              "  <matplotlib.lines.Line2D at 0x2110287c280>,\n",
              "  <matplotlib.lines.Line2D at 0x2110287c520>,\n",
              "  <matplotlib.lines.Line2D at 0x2110287d4e0>,\n",
              "  <matplotlib.lines.Line2D at 0x2110287d780>,\n",
              "  <matplotlib.lines.Line2D at 0x2110287e740>,\n",
              "  <matplotlib.lines.Line2D at 0x2110287e9e0>,\n",
              "  <matplotlib.lines.Line2D at 0x2110287f9a0>,\n",
              "  <matplotlib.lines.Line2D at 0x2110287fc40>,\n",
              "  <matplotlib.lines.Line2D at 0x211028bcc40>,\n",
              "  <matplotlib.lines.Line2D at 0x211028bcee0>,\n",
              "  <matplotlib.lines.Line2D at 0x211028bdea0>,\n",
              "  <matplotlib.lines.Line2D at 0x211028be140>,\n",
              "  <matplotlib.lines.Line2D at 0x211028bf100>,\n",
              "  <matplotlib.lines.Line2D at 0x211028bf3a0>,\n",
              "  <matplotlib.lines.Line2D at 0x211028f43a0>,\n",
              "  <matplotlib.lines.Line2D at 0x211028f4640>,\n",
              "  <matplotlib.lines.Line2D at 0x211028f5600>,\n",
              "  <matplotlib.lines.Line2D at 0x211028f58a0>,\n",
              "  <matplotlib.lines.Line2D at 0x211028f6860>,\n",
              "  <matplotlib.lines.Line2D at 0x211028f6b00>,\n",
              "  <matplotlib.lines.Line2D at 0x211028f7ac0>,\n",
              "  <matplotlib.lines.Line2D at 0x211028f7d60>,\n",
              "  <matplotlib.lines.Line2D at 0x2111b130d60>,\n",
              "  <matplotlib.lines.Line2D at 0x2111b131000>,\n",
              "  <matplotlib.lines.Line2D at 0x2111b131fc0>,\n",
              "  <matplotlib.lines.Line2D at 0x2111b132260>,\n",
              "  <matplotlib.lines.Line2D at 0x2111b133220>,\n",
              "  <matplotlib.lines.Line2D at 0x2111b1334c0>,\n",
              "  <matplotlib.lines.Line2D at 0x2111b1684c0>,\n",
              "  <matplotlib.lines.Line2D at 0x2111b168760>,\n",
              "  <matplotlib.lines.Line2D at 0x2111b169720>,\n",
              "  <matplotlib.lines.Line2D at 0x2111b1699c0>,\n",
              "  <matplotlib.lines.Line2D at 0x2111b16a980>,\n",
              "  <matplotlib.lines.Line2D at 0x2111b16ac20>,\n",
              "  <matplotlib.lines.Line2D at 0x2111b16bbe0>,\n",
              "  <matplotlib.lines.Line2D at 0x2111b16be80>,\n",
              "  <matplotlib.lines.Line2D at 0x2111b1a0e80>,\n",
              "  <matplotlib.lines.Line2D at 0x2111b1a1120>,\n",
              "  <matplotlib.lines.Line2D at 0x2111b1a20e0>,\n",
              "  <matplotlib.lines.Line2D at 0x2111b1a2380>,\n",
              "  <matplotlib.lines.Line2D at 0x2111b1a3340>,\n",
              "  <matplotlib.lines.Line2D at 0x2111b1a35e0>,\n",
              "  <matplotlib.lines.Line2D at 0x2111b1dc5e0>,\n",
              "  <matplotlib.lines.Line2D at 0x2111b1dc880>,\n",
              "  <matplotlib.lines.Line2D at 0x2111b1dd840>,\n",
              "  <matplotlib.lines.Line2D at 0x2111b1ddae0>,\n",
              "  <matplotlib.lines.Line2D at 0x2111b1deaa0>,\n",
              "  <matplotlib.lines.Line2D at 0x2111b1ded40>,\n",
              "  <matplotlib.lines.Line2D at 0x2111b1dfd00>,\n",
              "  <matplotlib.lines.Line2D at 0x2111b1dffa0>,\n",
              "  <matplotlib.lines.Line2D at 0x2111bc14fa0>,\n",
              "  <matplotlib.lines.Line2D at 0x2111bc15240>,\n",
              "  <matplotlib.lines.Line2D at 0x2111bc16200>,\n",
              "  <matplotlib.lines.Line2D at 0x2111bc164a0>,\n",
              "  <matplotlib.lines.Line2D at 0x2111bc17460>,\n",
              "  <matplotlib.lines.Line2D at 0x2111bc17700>,\n",
              "  <matplotlib.lines.Line2D at 0x2111bc4c700>,\n",
              "  <matplotlib.lines.Line2D at 0x2111bc4c9a0>,\n",
              "  <matplotlib.lines.Line2D at 0x2111bc4d960>,\n",
              "  <matplotlib.lines.Line2D at 0x2111bc4dc00>,\n",
              "  <matplotlib.lines.Line2D at 0x2111bc4ebc0>,\n",
              "  <matplotlib.lines.Line2D at 0x2111bc4ee60>,\n",
              "  <matplotlib.lines.Line2D at 0x2111bc4fe20>,\n",
              "  <matplotlib.lines.Line2D at 0x2111bc88100>,\n",
              "  <matplotlib.lines.Line2D at 0x2111bc890c0>,\n",
              "  <matplotlib.lines.Line2D at 0x2111bc89360>,\n",
              "  <matplotlib.lines.Line2D at 0x2111bc8a320>,\n",
              "  <matplotlib.lines.Line2D at 0x2111bc8a5c0>,\n",
              "  <matplotlib.lines.Line2D at 0x2111bc8b580>,\n",
              "  <matplotlib.lines.Line2D at 0x2111bc8b820>,\n",
              "  <matplotlib.lines.Line2D at 0x2111bcc8820>,\n",
              "  <matplotlib.lines.Line2D at 0x2111bcc8ac0>,\n",
              "  <matplotlib.lines.Line2D at 0x2111bcc9a80>,\n",
              "  <matplotlib.lines.Line2D at 0x2111bcc9d20>,\n",
              "  <matplotlib.lines.Line2D at 0x2111bccace0>,\n",
              "  <matplotlib.lines.Line2D at 0x2111bccaf80>,\n",
              "  <matplotlib.lines.Line2D at 0x2111bccbf40>,\n",
              "  <matplotlib.lines.Line2D at 0x2111bcfc220>,\n",
              "  <matplotlib.lines.Line2D at 0x2111bcfd1e0>,\n",
              "  <matplotlib.lines.Line2D at 0x2111bcfd480>],\n",
              " 'boxes': [<matplotlib.lines.Line2D at 0x211029f1e10>,\n",
              "  <matplotlib.lines.Line2D at 0x211029f3070>,\n",
              "  <matplotlib.lines.Line2D at 0x211029a8310>,\n",
              "  <matplotlib.lines.Line2D at 0x211029a9570>,\n",
              "  <matplotlib.lines.Line2D at 0x211029aa7d0>,\n",
              "  <matplotlib.lines.Line2D at 0x211029aba30>,\n",
              "  <matplotlib.lines.Line2D at 0x21102974cd0>,\n",
              "  <matplotlib.lines.Line2D at 0x21102975f30>,\n",
              "  <matplotlib.lines.Line2D at 0x21102977190>,\n",
              "  <matplotlib.lines.Line2D at 0x21102934430>,\n",
              "  <matplotlib.lines.Line2D at 0x21102935690>,\n",
              "  <matplotlib.lines.Line2D at 0x211029368f0>,\n",
              "  <matplotlib.lines.Line2D at 0x21102937b50>,\n",
              "  <matplotlib.lines.Line2D at 0x21174488cd0>,\n",
              "  <matplotlib.lines.Line2D at 0x21174489f30>,\n",
              "  <matplotlib.lines.Line2D at 0x2117448b190>,\n",
              "  <matplotlib.lines.Line2D at 0x2117444c430>,\n",
              "  <matplotlib.lines.Line2D at 0x2117444d690>,\n",
              "  <matplotlib.lines.Line2D at 0x2117444e8f0>,\n",
              "  <matplotlib.lines.Line2D at 0x2117444fb50>,\n",
              "  <matplotlib.lines.Line2D at 0x2117441cdf0>,\n",
              "  <matplotlib.lines.Line2D at 0x2117441e050>,\n",
              "  <matplotlib.lines.Line2D at 0x2117441f2b0>,\n",
              "  <matplotlib.lines.Line2D at 0x211744d0550>,\n",
              "  <matplotlib.lines.Line2D at 0x211744d17b0>,\n",
              "  <matplotlib.lines.Line2D at 0x211744d2a10>,\n",
              "  <matplotlib.lines.Line2D at 0x211744d3c70>,\n",
              "  <matplotlib.lines.Line2D at 0x211023f4f10>,\n",
              "  <matplotlib.lines.Line2D at 0x211023f6170>,\n",
              "  <matplotlib.lines.Line2D at 0x211023f73d0>,\n",
              "  <matplotlib.lines.Line2D at 0x211023b8670>,\n",
              "  <matplotlib.lines.Line2D at 0x211023b98d0>,\n",
              "  <matplotlib.lines.Line2D at 0x211023bab30>,\n",
              "  <matplotlib.lines.Line2D at 0x211023bbd90>,\n",
              "  <matplotlib.lines.Line2D at 0x21102381030>,\n",
              "  <matplotlib.lines.Line2D at 0x21102382290>,\n",
              "  <matplotlib.lines.Line2D at 0x21102383520>,\n",
              "  <matplotlib.lines.Line2D at 0x211023407c0>,\n",
              "  <matplotlib.lines.Line2D at 0x21102341a50>,\n",
              "  <matplotlib.lines.Line2D at 0x21102342cb0>,\n",
              "  <matplotlib.lines.Line2D at 0x21102343f10>,\n",
              "  <matplotlib.lines.Line2D at 0x211023111b0>,\n",
              "  <matplotlib.lines.Line2D at 0x21102312410>,\n",
              "  <matplotlib.lines.Line2D at 0x21102313700>,\n",
              "  <matplotlib.lines.Line2D at 0x211026249a0>,\n",
              "  <matplotlib.lines.Line2D at 0x21102625c00>,\n",
              "  <matplotlib.lines.Line2D at 0x21102626e60>,\n",
              "  <matplotlib.lines.Line2D at 0x21102668100>,\n",
              "  <matplotlib.lines.Line2D at 0x21102669360>,\n",
              "  <matplotlib.lines.Line2D at 0x2110266a5c0>,\n",
              "  <matplotlib.lines.Line2D at 0x2110266b820>,\n",
              "  <matplotlib.lines.Line2D at 0x21102698ac0>,\n",
              "  <matplotlib.lines.Line2D at 0x21102699d20>,\n",
              "  <matplotlib.lines.Line2D at 0x2110269af80>,\n",
              "  <matplotlib.lines.Line2D at 0x211026d4220>,\n",
              "  <matplotlib.lines.Line2D at 0x211026d5480>,\n",
              "  <matplotlib.lines.Line2D at 0x211026d66e0>,\n",
              "  <matplotlib.lines.Line2D at 0x211026d7940>,\n",
              "  <matplotlib.lines.Line2D at 0x21102810be0>,\n",
              "  <matplotlib.lines.Line2D at 0x21102811e40>,\n",
              "  <matplotlib.lines.Line2D at 0x211028130a0>,\n",
              "  <matplotlib.lines.Line2D at 0x2110284c340>,\n",
              "  <matplotlib.lines.Line2D at 0x2110284d5a0>,\n",
              "  <matplotlib.lines.Line2D at 0x2110284e800>,\n",
              "  <matplotlib.lines.Line2D at 0x2110284fa60>,\n",
              "  <matplotlib.lines.Line2D at 0x2110287cd00>,\n",
              "  <matplotlib.lines.Line2D at 0x2110287df60>,\n",
              "  <matplotlib.lines.Line2D at 0x2110287f1c0>,\n",
              "  <matplotlib.lines.Line2D at 0x211028bc460>,\n",
              "  <matplotlib.lines.Line2D at 0x211028bd6c0>,\n",
              "  <matplotlib.lines.Line2D at 0x211028be920>,\n",
              "  <matplotlib.lines.Line2D at 0x211028bfb80>,\n",
              "  <matplotlib.lines.Line2D at 0x211028f4e20>,\n",
              "  <matplotlib.lines.Line2D at 0x211028f6080>,\n",
              "  <matplotlib.lines.Line2D at 0x211028f72e0>,\n",
              "  <matplotlib.lines.Line2D at 0x2111b130580>,\n",
              "  <matplotlib.lines.Line2D at 0x2111b1317e0>,\n",
              "  <matplotlib.lines.Line2D at 0x2111b132a40>,\n",
              "  <matplotlib.lines.Line2D at 0x2111b133ca0>,\n",
              "  <matplotlib.lines.Line2D at 0x2111b168f40>,\n",
              "  <matplotlib.lines.Line2D at 0x2111b16a1a0>,\n",
              "  <matplotlib.lines.Line2D at 0x2111b16b400>,\n",
              "  <matplotlib.lines.Line2D at 0x2111b1a06a0>,\n",
              "  <matplotlib.lines.Line2D at 0x2111b1a1900>,\n",
              "  <matplotlib.lines.Line2D at 0x2111b1a2b60>,\n",
              "  <matplotlib.lines.Line2D at 0x2111b1a3dc0>,\n",
              "  <matplotlib.lines.Line2D at 0x2111b1dd060>,\n",
              "  <matplotlib.lines.Line2D at 0x2111b1de2c0>,\n",
              "  <matplotlib.lines.Line2D at 0x2111b1df520>,\n",
              "  <matplotlib.lines.Line2D at 0x2111bc147c0>,\n",
              "  <matplotlib.lines.Line2D at 0x2111bc15a20>,\n",
              "  <matplotlib.lines.Line2D at 0x2111bc16c80>,\n",
              "  <matplotlib.lines.Line2D at 0x2111bc17ee0>,\n",
              "  <matplotlib.lines.Line2D at 0x2111bc4d180>,\n",
              "  <matplotlib.lines.Line2D at 0x2111bc4e3e0>,\n",
              "  <matplotlib.lines.Line2D at 0x2111bc4f640>,\n",
              "  <matplotlib.lines.Line2D at 0x2111bc888e0>,\n",
              "  <matplotlib.lines.Line2D at 0x2111bc89b40>,\n",
              "  <matplotlib.lines.Line2D at 0x2111bc8ada0>,\n",
              "  <matplotlib.lines.Line2D at 0x2111bcc8040>,\n",
              "  <matplotlib.lines.Line2D at 0x2111bcc92a0>,\n",
              "  <matplotlib.lines.Line2D at 0x2111bcca500>,\n",
              "  <matplotlib.lines.Line2D at 0x2111bccb760>,\n",
              "  <matplotlib.lines.Line2D at 0x2111bcfca00>],\n",
              " 'medians': [<matplotlib.lines.Line2D at 0x211029f2b30>,\n",
              "  <matplotlib.lines.Line2D at 0x211029f3d90>,\n",
              "  <matplotlib.lines.Line2D at 0x211029a9030>,\n",
              "  <matplotlib.lines.Line2D at 0x211029aa290>,\n",
              "  <matplotlib.lines.Line2D at 0x211029ab4f0>,\n",
              "  <matplotlib.lines.Line2D at 0x21102974790>,\n",
              "  <matplotlib.lines.Line2D at 0x211029759f0>,\n",
              "  <matplotlib.lines.Line2D at 0x21102976c50>,\n",
              "  <matplotlib.lines.Line2D at 0x21102977eb0>,\n",
              "  <matplotlib.lines.Line2D at 0x21102935150>,\n",
              "  <matplotlib.lines.Line2D at 0x211029363b0>,\n",
              "  <matplotlib.lines.Line2D at 0x21102937610>,\n",
              "  <matplotlib.lines.Line2D at 0x21174488790>,\n",
              "  <matplotlib.lines.Line2D at 0x211744899f0>,\n",
              "  <matplotlib.lines.Line2D at 0x2117448ac50>,\n",
              "  <matplotlib.lines.Line2D at 0x2117448beb0>,\n",
              "  <matplotlib.lines.Line2D at 0x2117444d150>,\n",
              "  <matplotlib.lines.Line2D at 0x2117444e3b0>,\n",
              "  <matplotlib.lines.Line2D at 0x2117444f610>,\n",
              "  <matplotlib.lines.Line2D at 0x2117441c8b0>,\n",
              "  <matplotlib.lines.Line2D at 0x2117441db10>,\n",
              "  <matplotlib.lines.Line2D at 0x2117441ed70>,\n",
              "  <matplotlib.lines.Line2D at 0x2117441ffd0>,\n",
              "  <matplotlib.lines.Line2D at 0x211744d1270>,\n",
              "  <matplotlib.lines.Line2D at 0x211744d24d0>,\n",
              "  <matplotlib.lines.Line2D at 0x211744d3730>,\n",
              "  <matplotlib.lines.Line2D at 0x211023f49d0>,\n",
              "  <matplotlib.lines.Line2D at 0x211023f5c30>,\n",
              "  <matplotlib.lines.Line2D at 0x211023f6e90>,\n",
              "  <matplotlib.lines.Line2D at 0x211023b8130>,\n",
              "  <matplotlib.lines.Line2D at 0x211023b9390>,\n",
              "  <matplotlib.lines.Line2D at 0x211023ba5f0>,\n",
              "  <matplotlib.lines.Line2D at 0x211023bb850>,\n",
              "  <matplotlib.lines.Line2D at 0x21102380af0>,\n",
              "  <matplotlib.lines.Line2D at 0x21102381d50>,\n",
              "  <matplotlib.lines.Line2D at 0x21102382fe0>,\n",
              "  <matplotlib.lines.Line2D at 0x21102340280>,\n",
              "  <matplotlib.lines.Line2D at 0x21102341510>,\n",
              "  <matplotlib.lines.Line2D at 0x21102342770>,\n",
              "  <matplotlib.lines.Line2D at 0x211023439d0>,\n",
              "  <matplotlib.lines.Line2D at 0x21102310c70>,\n",
              "  <matplotlib.lines.Line2D at 0x21102311ed0>,\n",
              "  <matplotlib.lines.Line2D at 0x211023131c0>,\n",
              "  <matplotlib.lines.Line2D at 0x21102624460>,\n",
              "  <matplotlib.lines.Line2D at 0x211026256c0>,\n",
              "  <matplotlib.lines.Line2D at 0x21102626920>,\n",
              "  <matplotlib.lines.Line2D at 0x21102627b80>,\n",
              "  <matplotlib.lines.Line2D at 0x21102668e20>,\n",
              "  <matplotlib.lines.Line2D at 0x2110266a080>,\n",
              "  <matplotlib.lines.Line2D at 0x2110266b2e0>,\n",
              "  <matplotlib.lines.Line2D at 0x21102698580>,\n",
              "  <matplotlib.lines.Line2D at 0x211026997e0>,\n",
              "  <matplotlib.lines.Line2D at 0x2110269aa40>,\n",
              "  <matplotlib.lines.Line2D at 0x2110269bca0>,\n",
              "  <matplotlib.lines.Line2D at 0x211026d4f40>,\n",
              "  <matplotlib.lines.Line2D at 0x211026d61a0>,\n",
              "  <matplotlib.lines.Line2D at 0x211026d7400>,\n",
              "  <matplotlib.lines.Line2D at 0x211028106a0>,\n",
              "  <matplotlib.lines.Line2D at 0x21102811900>,\n",
              "  <matplotlib.lines.Line2D at 0x21102812b60>,\n",
              "  <matplotlib.lines.Line2D at 0x21102813dc0>,\n",
              "  <matplotlib.lines.Line2D at 0x2110284d060>,\n",
              "  <matplotlib.lines.Line2D at 0x2110284e2c0>,\n",
              "  <matplotlib.lines.Line2D at 0x2110284f520>,\n",
              "  <matplotlib.lines.Line2D at 0x2110287c7c0>,\n",
              "  <matplotlib.lines.Line2D at 0x2110287da20>,\n",
              "  <matplotlib.lines.Line2D at 0x2110287ec80>,\n",
              "  <matplotlib.lines.Line2D at 0x2110287fee0>,\n",
              "  <matplotlib.lines.Line2D at 0x211028bd180>,\n",
              "  <matplotlib.lines.Line2D at 0x211028be3e0>,\n",
              "  <matplotlib.lines.Line2D at 0x211028bf640>,\n",
              "  <matplotlib.lines.Line2D at 0x211028f48e0>,\n",
              "  <matplotlib.lines.Line2D at 0x211028f5b40>,\n",
              "  <matplotlib.lines.Line2D at 0x211028f6da0>,\n",
              "  <matplotlib.lines.Line2D at 0x2111b130040>,\n",
              "  <matplotlib.lines.Line2D at 0x2111b1312a0>,\n",
              "  <matplotlib.lines.Line2D at 0x2111b132500>,\n",
              "  <matplotlib.lines.Line2D at 0x2111b133760>,\n",
              "  <matplotlib.lines.Line2D at 0x2111b168a00>,\n",
              "  <matplotlib.lines.Line2D at 0x2111b169c60>,\n",
              "  <matplotlib.lines.Line2D at 0x2111b16aec0>,\n",
              "  <matplotlib.lines.Line2D at 0x2111b1a0160>,\n",
              "  <matplotlib.lines.Line2D at 0x2111b1a13c0>,\n",
              "  <matplotlib.lines.Line2D at 0x2111b1a2620>,\n",
              "  <matplotlib.lines.Line2D at 0x2111b1a3880>,\n",
              "  <matplotlib.lines.Line2D at 0x2111b1dcb20>,\n",
              "  <matplotlib.lines.Line2D at 0x2111b1ddd80>,\n",
              "  <matplotlib.lines.Line2D at 0x2111b1defe0>,\n",
              "  <matplotlib.lines.Line2D at 0x2111bc14280>,\n",
              "  <matplotlib.lines.Line2D at 0x2111bc154e0>,\n",
              "  <matplotlib.lines.Line2D at 0x2111bc16740>,\n",
              "  <matplotlib.lines.Line2D at 0x2111bc179a0>,\n",
              "  <matplotlib.lines.Line2D at 0x2111bc4cc40>,\n",
              "  <matplotlib.lines.Line2D at 0x2111bc4dea0>,\n",
              "  <matplotlib.lines.Line2D at 0x2111bc4f100>,\n",
              "  <matplotlib.lines.Line2D at 0x2111bc883a0>,\n",
              "  <matplotlib.lines.Line2D at 0x2111bc89600>,\n",
              "  <matplotlib.lines.Line2D at 0x2111bc8a860>,\n",
              "  <matplotlib.lines.Line2D at 0x2111bc8bac0>,\n",
              "  <matplotlib.lines.Line2D at 0x2111bcc8d60>,\n",
              "  <matplotlib.lines.Line2D at 0x2111bcc9fc0>,\n",
              "  <matplotlib.lines.Line2D at 0x2111bccb220>,\n",
              "  <matplotlib.lines.Line2D at 0x2111bcfc4c0>,\n",
              "  <matplotlib.lines.Line2D at 0x2111bcfd720>],\n",
              " 'fliers': [<matplotlib.lines.Line2D at 0x211029f2dd0>,\n",
              "  <matplotlib.lines.Line2D at 0x211029a8070>,\n",
              "  <matplotlib.lines.Line2D at 0x211029a92d0>,\n",
              "  <matplotlib.lines.Line2D at 0x211029aa530>,\n",
              "  <matplotlib.lines.Line2D at 0x211029ab790>,\n",
              "  <matplotlib.lines.Line2D at 0x21102974a30>,\n",
              "  <matplotlib.lines.Line2D at 0x21102975c90>,\n",
              "  <matplotlib.lines.Line2D at 0x21102976ef0>,\n",
              "  <matplotlib.lines.Line2D at 0x21102934190>,\n",
              "  <matplotlib.lines.Line2D at 0x211029353f0>,\n",
              "  <matplotlib.lines.Line2D at 0x21102936650>,\n",
              "  <matplotlib.lines.Line2D at 0x211029378b0>,\n",
              "  <matplotlib.lines.Line2D at 0x21174488a30>,\n",
              "  <matplotlib.lines.Line2D at 0x21174489c90>,\n",
              "  <matplotlib.lines.Line2D at 0x2117448aef0>,\n",
              "  <matplotlib.lines.Line2D at 0x2117444c190>,\n",
              "  <matplotlib.lines.Line2D at 0x2117444d3f0>,\n",
              "  <matplotlib.lines.Line2D at 0x2117444e650>,\n",
              "  <matplotlib.lines.Line2D at 0x2117444f8b0>,\n",
              "  <matplotlib.lines.Line2D at 0x2117441cb50>,\n",
              "  <matplotlib.lines.Line2D at 0x2117441ddb0>,\n",
              "  <matplotlib.lines.Line2D at 0x2117441f010>,\n",
              "  <matplotlib.lines.Line2D at 0x211744d02b0>,\n",
              "  <matplotlib.lines.Line2D at 0x211744d1510>,\n",
              "  <matplotlib.lines.Line2D at 0x211744d2770>,\n",
              "  <matplotlib.lines.Line2D at 0x211744d39d0>,\n",
              "  <matplotlib.lines.Line2D at 0x211023f4c70>,\n",
              "  <matplotlib.lines.Line2D at 0x211023f5ed0>,\n",
              "  <matplotlib.lines.Line2D at 0x211023f7130>,\n",
              "  <matplotlib.lines.Line2D at 0x211023b83d0>,\n",
              "  <matplotlib.lines.Line2D at 0x211023b9630>,\n",
              "  <matplotlib.lines.Line2D at 0x211023ba890>,\n",
              "  <matplotlib.lines.Line2D at 0x211023bbaf0>,\n",
              "  <matplotlib.lines.Line2D at 0x21102380d90>,\n",
              "  <matplotlib.lines.Line2D at 0x21102381ff0>,\n",
              "  <matplotlib.lines.Line2D at 0x21102383280>,\n",
              "  <matplotlib.lines.Line2D at 0x21102340520>,\n",
              "  <matplotlib.lines.Line2D at 0x211023417b0>,\n",
              "  <matplotlib.lines.Line2D at 0x21102342a10>,\n",
              "  <matplotlib.lines.Line2D at 0x21102343c70>,\n",
              "  <matplotlib.lines.Line2D at 0x21102310f10>,\n",
              "  <matplotlib.lines.Line2D at 0x21102312170>,\n",
              "  <matplotlib.lines.Line2D at 0x21102313460>,\n",
              "  <matplotlib.lines.Line2D at 0x21102624700>,\n",
              "  <matplotlib.lines.Line2D at 0x21102625960>,\n",
              "  <matplotlib.lines.Line2D at 0x21102626bc0>,\n",
              "  <matplotlib.lines.Line2D at 0x21102627e20>,\n",
              "  <matplotlib.lines.Line2D at 0x211026690c0>,\n",
              "  <matplotlib.lines.Line2D at 0x2110266a320>,\n",
              "  <matplotlib.lines.Line2D at 0x2110266b580>,\n",
              "  <matplotlib.lines.Line2D at 0x21102698820>,\n",
              "  <matplotlib.lines.Line2D at 0x21102699a80>,\n",
              "  <matplotlib.lines.Line2D at 0x2110269ace0>,\n",
              "  <matplotlib.lines.Line2D at 0x2110269bf40>,\n",
              "  <matplotlib.lines.Line2D at 0x211026d51e0>,\n",
              "  <matplotlib.lines.Line2D at 0x211026d6440>,\n",
              "  <matplotlib.lines.Line2D at 0x211026d76a0>,\n",
              "  <matplotlib.lines.Line2D at 0x21102810940>,\n",
              "  <matplotlib.lines.Line2D at 0x21102811ba0>,\n",
              "  <matplotlib.lines.Line2D at 0x21102812e00>,\n",
              "  <matplotlib.lines.Line2D at 0x2110284c0a0>,\n",
              "  <matplotlib.lines.Line2D at 0x2110284d300>,\n",
              "  <matplotlib.lines.Line2D at 0x2110284e560>,\n",
              "  <matplotlib.lines.Line2D at 0x2110284f7c0>,\n",
              "  <matplotlib.lines.Line2D at 0x2110287ca60>,\n",
              "  <matplotlib.lines.Line2D at 0x2110287dcc0>,\n",
              "  <matplotlib.lines.Line2D at 0x2110287ef20>,\n",
              "  <matplotlib.lines.Line2D at 0x211028bc1c0>,\n",
              "  <matplotlib.lines.Line2D at 0x211028bd420>,\n",
              "  <matplotlib.lines.Line2D at 0x211028be680>,\n",
              "  <matplotlib.lines.Line2D at 0x211028bf8e0>,\n",
              "  <matplotlib.lines.Line2D at 0x211028f4b80>,\n",
              "  <matplotlib.lines.Line2D at 0x211028f5de0>,\n",
              "  <matplotlib.lines.Line2D at 0x211028f7040>,\n",
              "  <matplotlib.lines.Line2D at 0x2111b1302e0>,\n",
              "  <matplotlib.lines.Line2D at 0x2111b131540>,\n",
              "  <matplotlib.lines.Line2D at 0x2111b1327a0>,\n",
              "  <matplotlib.lines.Line2D at 0x2111b133a00>,\n",
              "  <matplotlib.lines.Line2D at 0x2111b168ca0>,\n",
              "  <matplotlib.lines.Line2D at 0x2111b169f00>,\n",
              "  <matplotlib.lines.Line2D at 0x2111b16b160>,\n",
              "  <matplotlib.lines.Line2D at 0x2111b1a0400>,\n",
              "  <matplotlib.lines.Line2D at 0x2111b1a1660>,\n",
              "  <matplotlib.lines.Line2D at 0x2111b1a28c0>,\n",
              "  <matplotlib.lines.Line2D at 0x2111b1a3b20>,\n",
              "  <matplotlib.lines.Line2D at 0x2111b1dcdc0>,\n",
              "  <matplotlib.lines.Line2D at 0x2111b1de020>,\n",
              "  <matplotlib.lines.Line2D at 0x2111b1df280>,\n",
              "  <matplotlib.lines.Line2D at 0x2111bc14520>,\n",
              "  <matplotlib.lines.Line2D at 0x2111bc15780>,\n",
              "  <matplotlib.lines.Line2D at 0x2111bc169e0>,\n",
              "  <matplotlib.lines.Line2D at 0x2111bc17c40>,\n",
              "  <matplotlib.lines.Line2D at 0x2111bc4cee0>,\n",
              "  <matplotlib.lines.Line2D at 0x2111bc4e140>,\n",
              "  <matplotlib.lines.Line2D at 0x2111bc4f3a0>,\n",
              "  <matplotlib.lines.Line2D at 0x2111bc88640>,\n",
              "  <matplotlib.lines.Line2D at 0x2111bc898a0>,\n",
              "  <matplotlib.lines.Line2D at 0x2111bc8ab00>,\n",
              "  <matplotlib.lines.Line2D at 0x2111bc8bd60>,\n",
              "  <matplotlib.lines.Line2D at 0x2111bcc9000>,\n",
              "  <matplotlib.lines.Line2D at 0x2111bcca260>,\n",
              "  <matplotlib.lines.Line2D at 0x2111bccb4c0>,\n",
              "  <matplotlib.lines.Line2D at 0x2111bcfc760>,\n",
              "  <matplotlib.lines.Line2D at 0x2111bcfd9c0>],\n",
              " 'means': []}"
            ]
          },
          "execution_count": 47,
          "metadata": {},
          "output_type": "execute_result"
        },
        {
          "data": {
            "image/png": "[encoded data removed]",
            "text/plain": [
              "<Figure size 2500x1200 with 1 Axes>"
            ]
          },
          "metadata": {},
          "output_type": "display_data"
        }
      ],
      "source": [
        "fig, ax = plt.subplots(figsize=(25,12))\n",
        "\n",
        "ax.boxplot(scaled_df.to_numpy())"
      ]
    },
    {
      "cell_type": "code",
      "execution_count": 48,
      "metadata": {
        "colab": {
          "base_uri": "https://localhost:8080/",
          "height": 75
        },
        "id": "jRtBjBH1bmdY",
        "outputId": "e1980e36-2bda-40b8-926c-3b7ef6479bb2"
      },
      "outputs": [
        {
          "data": {
            "text/html": [
              "<style>#sk-container-id-4 {color: black;background-color: white;}#sk-container-id-4 pre{padding: 0;}#sk-container-id-4 div.sk-toggleable {background-color: white;}#sk-container-id-4 label.sk-toggleable__label {cursor: pointer;display: block;width: 100%;margin-bottom: 0;padding: 0.3em;box-sizing: border-box;text-align: center;}#sk-container-id-4 label.sk-toggleable__label-arrow:before {content: \"▸\";float: left;margin-right: 0.25em;color: #696969;}#sk-container-id-4 label.sk-toggleable__label-arrow:hover:before {color: black;}#sk-container-id-4 div.sk-estimator:hover label.sk-toggleable__label-arrow:before {color: black;}#sk-container-id-4 div.sk-toggleable__content {max-height: 0;max-width: 0;overflow: hidden;text-align: left;background-color: #f0f8ff;}#sk-container-id-4 div.sk-toggleable__content pre {margin: 0.2em;color: black;border-radius: 0.25em;background-color: #f0f8ff;}#sk-container-id-4 input.sk-toggleable__control:checked~div.sk-toggleable__content {max-height: 200px;max-width: 100%;overflow: auto;}#sk-container-id-4 input.sk-toggleable__control:checked~label.sk-toggleable__label-arrow:before {content: \"▾\";}#sk-container-id-4 div.sk-estimator input.sk-toggleable__control:checked~label.sk-toggleable__label {background-color: #d4ebff;}#sk-container-id-4 div.sk-label input.sk-toggleable__control:checked~label.sk-toggleable__label {background-color: #d4ebff;}#sk-container-id-4 input.sk-hidden--visually {border: 0;clip: rect(1px 1px 1px 1px);clip: rect(1px, 1px, 1px, 1px);height: 1px;margin: -1px;overflow: hidden;padding: 0;position: absolute;width: 1px;}#sk-container-id-4 div.sk-estimator {font-family: monospace;background-color: #f0f8ff;border: 1px dotted black;border-radius: 0.25em;box-sizing: border-box;margin-bottom: 0.5em;}#sk-container-id-4 div.sk-estimator:hover {background-color: #d4ebff;}#sk-container-id-4 div.sk-parallel-item::after {content: \"\";width: 100%;border-bottom: 1px solid gray;flex-grow: 1;}#sk-container-id-4 div.sk-label:hover label.sk-toggleable__label {background-color: #d4ebff;}#sk-container-id-4 div.sk-serial::before {content: \"\";position: absolute;border-left: 1px solid gray;box-sizing: border-box;top: 0;bottom: 0;left: 50%;z-index: 0;}#sk-container-id-4 div.sk-serial {display: flex;flex-direction: column;align-items: center;background-color: white;padding-right: 0.2em;padding-left: 0.2em;position: relative;}#sk-container-id-4 div.sk-item {position: relative;z-index: 1;}#sk-container-id-4 div.sk-parallel {display: flex;align-items: stretch;justify-content: center;background-color: white;position: relative;}#sk-container-id-4 div.sk-item::before, #sk-container-id-4 div.sk-parallel-item::before {content: \"\";position: absolute;border-left: 1px solid gray;box-sizing: border-box;top: 0;bottom: 0;left: 50%;z-index: -1;}#sk-container-id-4 div.sk-parallel-item {display: flex;flex-direction: column;z-index: 1;position: relative;background-color: white;}#sk-container-id-4 div.sk-parallel-item:first-child::after {align-self: flex-end;width: 50%;}#sk-container-id-4 div.sk-parallel-item:last-child::after {align-self: flex-start;width: 50%;}#sk-container-id-4 div.sk-parallel-item:only-child::after {width: 0;}#sk-container-id-4 div.sk-dashed-wrapped {border: 1px dashed gray;margin: 0 0.4em 0.5em 0.4em;box-sizing: border-box;padding-bottom: 0.4em;background-color: white;}#sk-container-id-4 div.sk-label label {font-family: monospace;font-weight: bold;display: inline-block;line-height: 1.2em;}#sk-container-id-4 div.sk-label-container {text-align: center;}#sk-container-id-4 div.sk-container {/* jupyter's `normalize.less` sets `[hidden] { display: none; }` but bootstrap.min.css set `[hidden] { display: none !important; }` so we also need the `!important` here to be able to override the default hidden behavior on the sphinx rendered scikit-learn.org. See: https://github.com/scikit-learn/scikit-learn/issues/21755 */display: inline-block !important;position: relative;}#sk-container-id-4 div.sk-text-repr-fallback {display: none;}</style><div id=\"sk-container-id-4\" class=\"sk-top-container\"><div class=\"sk-text-repr-fallback\"><pre>IsolationForest()</pre><b>In a Jupyter environment, please rerun this cell to show the HTML representation or trust the notebook. <br />On GitHub, the HTML representation is unable to render, please try loading this page with nbviewer.org.</b></div><div class=\"sk-container\" hidden><div class=\"sk-item\"><div class=\"sk-estimator sk-toggleable\"><input class=\"sk-toggleable__control sk-hidden--visually\" id=\"sk-estimator-id-4\" type=\"checkbox\" checked><label for=\"sk-estimator-id-4\" class=\"sk-toggleable__label sk-toggleable__label-arrow\">IsolationForest</label><div class=\"sk-toggleable__content\"><pre>IsolationForest()</pre></div></div></div></div></div>"
            ],
            "text/plain": [
              "IsolationForest()"
            ]
          },
          "execution_count": 48,
          "metadata": {},
          "output_type": "execute_result"
        }
      ],
      "source": [
        "from sklearn.ensemble import IsolationForest\n",
        "\n",
        "IF = IsolationForest(n_estimators=100, max_samples='auto', contamination='auto')\n",
        "IF.fit(scaled_df)"
      ]
    },
    {
      "cell_type": "code",
      "execution_count": 49,
      "metadata": {
        "id": "hLaYwQjBbmdY"
      },
      "outputs": [],
      "source": [
        "if_results = IF.predict(scaled_df)  \n",
        "scaled_df_without_outliers = scaled_df[if_results==1]\n",
        "outliers = scaled_df[if_results==-1]\n",
        "\n",
        "class_results = scaled_df_without_outliers['round_winner']\n",
        "scaled_df_without_outliers = scaled_df_without_outliers.drop('round_winner',axis=1)"
      ]
    },
    {
      "cell_type": "code",
      "execution_count": 50,
      "metadata": {
        "colab": {
          "base_uri": "https://localhost:8080/"
        },
        "id": "JNC_MnhdbmdZ",
        "outputId": "19182800-e890-400f-f5b0-1436424eb9f3"
      },
      "outputs": [
        {
          "name": "stdout",
          "output_type": "stream",
          "text": [
            "(122410, 104)\n",
            "(121977, 103)\n",
            "(121977,)\n",
            "0.9999999999999999\n"
          ]
        }
      ],
      "source": [
        "print(scaled_df.shape)\n",
        "print(scaled_df_without_outliers.shape)\n",
        "print(class_results.shape)\n",
        "print(max(scaled_df_without_outliers.to_numpy()[:,0]))"
      ]
    },
    {
      "cell_type": "code",
      "execution_count": 51,
      "metadata": {
        "colab": {
          "base_uri": "https://localhost:8080/"
        },
        "id": "Lzc1VJdVbmdZ",
        "outputId": "3a6f2b60-5a9e-478b-db83-417436a42c81"
      },
      "outputs": [
        {
          "name": "stdout",
          "output_type": "stream",
          "text": [
            "0\n"
          ]
        }
      ],
      "source": [
        "# check missing data\n",
        "missing_data = df.isnull()\n",
        "print(missing_data.sum().sum())"
      ]
    },
    {
      "cell_type": "code",
      "execution_count": 52,
      "metadata": {
        "colab": {
          "base_uri": "https://localhost:8080/"
        },
        "id": "FTS96SubbmdZ",
        "outputId": "2c498bfd-e575-47ed-f018-ec6db0dafa60"
      },
      "outputs": [],
      "source": [
        "# counts = df['map'].value_counts()\n",
        "# print(counts)\n",
        "\n",
        "# counts = scaled_df['map'].value_counts()\n",
        "# print(counts)"
      ]
    },
    {
      "cell_type": "code",
      "execution_count": 53,
      "metadata": {
        "colab": {
          "base_uri": "https://localhost:8080/"
        },
        "id": "820XNMtGbmdZ",
        "outputId": "47d0dc4f-e456-4213-e465-ceeb40e507c1"
      },
      "outputs": [
        {
          "name": "stdout",
          "output_type": "stream",
          "text": [
            "(121977, 40)\n",
            "[0.21906579 0.11853604 0.09601969 0.06148409 0.05520826 0.04992488\n",
            " 0.04147718 0.03639674 0.03127278 0.02657878 0.02417985 0.02039318\n",
            " 0.01916018 0.01676107 0.01385629 0.01276962 0.01017111 0.00971731\n",
            " 0.00861683 0.00719253 0.0069793  0.00658344 0.00613851 0.00579396\n",
            " 0.0052905  0.00514127 0.00507541 0.00443186 0.00423902 0.00417972\n",
            " 0.00407641 0.00378945 0.0036284  0.00350451 0.00313525 0.00282825\n",
            " 0.00256443 0.0024844  0.0024373  0.0023529 ]\n"
          ]
        }
      ],
      "source": [
        "from sklearn.decomposition import PCA\n",
        "\n",
        "pca = PCA(n_components=PcaNumberOfCompontents)\n",
        "pca.fit(scaled_df_without_outliers)\n",
        "\n",
        "scaled_df_without_outliers_pca = pca.transform(scaled_df_without_outliers)\n",
        "print(scaled_df_without_outliers_pca.shape) \n",
        "print(pca.explained_variance_ratio_)"
      ]
    },
    {
      "attachments": {},
      "cell_type": "markdown",
      "metadata": {
        "id": "2zN_7lBlbmda"
      },
      "source": [
        "# Learining\n",
        "\n",
        "#### prepare to learning:"
      ]
    },
    {
      "cell_type": "code",
      "execution_count": 54,
      "metadata": {},
      "outputs": [],
      "source": [
        "from sklearn.model_selection import train_test_split\n",
        "\n",
        "# classifiers:\n",
        "from sklearn.neighbors import KNeighborsClassifier\n",
        "from sklearn.ensemble import RandomForestClassifier\n",
        "\n",
        "# divide data:\n",
        "x_scaled_train, x_scaled_test, y_scaled_train, y_scaled_test = train_test_split(scaled_df_without_outliers_pca, class_results, test_size=TestSize, shuffle=True, random_state=None, stratify=class_results)"
      ]
    },
    {
      "attachments": {},
      "cell_type": "markdown",
      "metadata": {},
      "source": [
        "#### KNeighboursClassifier method:"
      ]
    },
    {
      "cell_type": "code",
      "execution_count": 55,
      "metadata": {
        "id": "SXgVogUzbmda"
      },
      "outputs": [],
      "source": [
        "\n",
        "\n",
        "\n",
        "knn = KNeighborsClassifier(n_neighbors=NeighboursCount, weights='distance', algorithm='ball_tree')\n",
        "\n"
      ]
    },
    {
      "cell_type": "code",
      "execution_count": 56,
      "metadata": {
        "colab": {
          "base_uri": "https://localhost:8080/",
          "height": 75
        },
        "id": "hw9xMocNbmda",
        "outputId": "ffa9ed04-4661-46e8-ba93-d2bb8ff1b52f"
      },
      "outputs": [
        {
          "data": {
            "text/html": [
              "<style>#sk-container-id-5 {color: black;background-color: white;}#sk-container-id-5 pre{padding: 0;}#sk-container-id-5 div.sk-toggleable {background-color: white;}#sk-container-id-5 label.sk-toggleable__label {cursor: pointer;display: block;width: 100%;margin-bottom: 0;padding: 0.3em;box-sizing: border-box;text-align: center;}#sk-container-id-5 label.sk-toggleable__label-arrow:before {content: \"▸\";float: left;margin-right: 0.25em;color: #696969;}#sk-container-id-5 label.sk-toggleable__label-arrow:hover:before {color: black;}#sk-container-id-5 div.sk-estimator:hover label.sk-toggleable__label-arrow:before {color: black;}#sk-container-id-5 div.sk-toggleable__content {max-height: 0;max-width: 0;overflow: hidden;text-align: left;background-color: #f0f8ff;}#sk-container-id-5 div.sk-toggleable__content pre {margin: 0.2em;color: black;border-radius: 0.25em;background-color: #f0f8ff;}#sk-container-id-5 input.sk-toggleable__control:checked~div.sk-toggleable__content {max-height: 200px;max-width: 100%;overflow: auto;}#sk-container-id-5 input.sk-toggleable__control:checked~label.sk-toggleable__label-arrow:before {content: \"▾\";}#sk-container-id-5 div.sk-estimator input.sk-toggleable__control:checked~label.sk-toggleable__label {background-color: #d4ebff;}#sk-container-id-5 div.sk-label input.sk-toggleable__control:checked~label.sk-toggleable__label {background-color: #d4ebff;}#sk-container-id-5 input.sk-hidden--visually {border: 0;clip: rect(1px 1px 1px 1px);clip: rect(1px, 1px, 1px, 1px);height: 1px;margin: -1px;overflow: hidden;padding: 0;position: absolute;width: 1px;}#sk-container-id-5 div.sk-estimator {font-family: monospace;background-color: #f0f8ff;border: 1px dotted black;border-radius: 0.25em;box-sizing: border-box;margin-bottom: 0.5em;}#sk-container-id-5 div.sk-estimator:hover {background-color: #d4ebff;}#sk-container-id-5 div.sk-parallel-item::after {content: \"\";width: 100%;border-bottom: 1px solid gray;flex-grow: 1;}#sk-container-id-5 div.sk-label:hover label.sk-toggleable__label {background-color: #d4ebff;}#sk-container-id-5 div.sk-serial::before {content: \"\";position: absolute;border-left: 1px solid gray;box-sizing: border-box;top: 0;bottom: 0;left: 50%;z-index: 0;}#sk-container-id-5 div.sk-serial {display: flex;flex-direction: column;align-items: center;background-color: white;padding-right: 0.2em;padding-left: 0.2em;position: relative;}#sk-container-id-5 div.sk-item {position: relative;z-index: 1;}#sk-container-id-5 div.sk-parallel {display: flex;align-items: stretch;justify-content: center;background-color: white;position: relative;}#sk-container-id-5 div.sk-item::before, #sk-container-id-5 div.sk-parallel-item::before {content: \"\";position: absolute;border-left: 1px solid gray;box-sizing: border-box;top: 0;bottom: 0;left: 50%;z-index: -1;}#sk-container-id-5 div.sk-parallel-item {display: flex;flex-direction: column;z-index: 1;position: relative;background-color: white;}#sk-container-id-5 div.sk-parallel-item:first-child::after {align-self: flex-end;width: 50%;}#sk-container-id-5 div.sk-parallel-item:last-child::after {align-self: flex-start;width: 50%;}#sk-container-id-5 div.sk-parallel-item:only-child::after {width: 0;}#sk-container-id-5 div.sk-dashed-wrapped {border: 1px dashed gray;margin: 0 0.4em 0.5em 0.4em;box-sizing: border-box;padding-bottom: 0.4em;background-color: white;}#sk-container-id-5 div.sk-label label {font-family: monospace;font-weight: bold;display: inline-block;line-height: 1.2em;}#sk-container-id-5 div.sk-label-container {text-align: center;}#sk-container-id-5 div.sk-container {/* jupyter's `normalize.less` sets `[hidden] { display: none; }` but bootstrap.min.css set `[hidden] { display: none !important; }` so we also need the `!important` here to be able to override the default hidden behavior on the sphinx rendered scikit-learn.org. See: https://github.com/scikit-learn/scikit-learn/issues/21755 */display: inline-block !important;position: relative;}#sk-container-id-5 div.sk-text-repr-fallback {display: none;}</style><div id=\"sk-container-id-5\" class=\"sk-top-container\"><div class=\"sk-text-repr-fallback\"><pre>KNeighborsClassifier(algorithm=&#x27;ball_tree&#x27;, n_neighbors=40, weights=&#x27;distance&#x27;)</pre><b>In a Jupyter environment, please rerun this cell to show the HTML representation or trust the notebook. <br />On GitHub, the HTML representation is unable to render, please try loading this page with nbviewer.org.</b></div><div class=\"sk-container\" hidden><div class=\"sk-item\"><div class=\"sk-estimator sk-toggleable\"><input class=\"sk-toggleable__control sk-hidden--visually\" id=\"sk-estimator-id-5\" type=\"checkbox\" checked><label for=\"sk-estimator-id-5\" class=\"sk-toggleable__label sk-toggleable__label-arrow\">KNeighborsClassifier</label><div class=\"sk-toggleable__content\"><pre>KNeighborsClassifier(algorithm=&#x27;ball_tree&#x27;, n_neighbors=40, weights=&#x27;distance&#x27;)</pre></div></div></div></div></div>"
            ],
            "text/plain": [
              "KNeighborsClassifier(algorithm='ball_tree', n_neighbors=40, weights='distance')"
            ]
          },
          "execution_count": 56,
          "metadata": {},
          "output_type": "execute_result"
        }
      ],
      "source": [
        "knn.fit(x_scaled_train,y_scaled_train)"
      ]
    },
    {
      "cell_type": "code",
      "execution_count": 57,
      "metadata": {
        "colab": {
          "base_uri": "https://localhost:8080/"
        },
        "id": "5lE9iMoLbmda",
        "outputId": "cb89c1a6-9a0c-4929-9979-b2228d272a2e"
      },
      "outputs": [
        {
          "data": {
            "text/plain": [
              "0.8031371263048587"
            ]
          },
          "execution_count": 57,
          "metadata": {},
          "output_type": "execute_result"
        }
      ],
      "source": [
        "knn.score(x_scaled_test,y_scaled_test)"
      ]
    },
    {
      "attachments": {},
      "cell_type": "markdown",
      "metadata": {},
      "source": [
        "Result of learning without dividing map column:\n",
        "\n",
        "    0.7997264770240701\n",
        "\n",
        "    0.7967084039586637\n",
        "\n",
        "    0.8017495899398579\n",
        "    \n",
        "Result of learning with dividing map column:\n",
        "\n",
        "    0.8035332199484282\n",
        "\n",
        "    0.8089063953170305\n",
        "\n",
        "    0.8106234305055137"
      ]
    },
    {
      "attachments": {},
      "cell_type": "markdown",
      "metadata": {},
      "source": [
        "#### RandomForestClassifier method:"
      ]
    },
    {
      "cell_type": "code",
      "execution_count": 58,
      "metadata": {
        "id": "cggOFMYhbmda"
      },
      "outputs": [],
      "source": [
        "\n",
        "\n",
        "rfc = RandomForestClassifier()\n"
      ]
    },
    {
      "cell_type": "code",
      "execution_count": 59,
      "metadata": {},
      "outputs": [
        {
          "data": {
            "text/html": [
              "<style>#sk-container-id-6 {color: black;background-color: white;}#sk-container-id-6 pre{padding: 0;}#sk-container-id-6 div.sk-toggleable {background-color: white;}#sk-container-id-6 label.sk-toggleable__label {cursor: pointer;display: block;width: 100%;margin-bottom: 0;padding: 0.3em;box-sizing: border-box;text-align: center;}#sk-container-id-6 label.sk-toggleable__label-arrow:before {content: \"▸\";float: left;margin-right: 0.25em;color: #696969;}#sk-container-id-6 label.sk-toggleable__label-arrow:hover:before {color: black;}#sk-container-id-6 div.sk-estimator:hover label.sk-toggleable__label-arrow:before {color: black;}#sk-container-id-6 div.sk-toggleable__content {max-height: 0;max-width: 0;overflow: hidden;text-align: left;background-color: #f0f8ff;}#sk-container-id-6 div.sk-toggleable__content pre {margin: 0.2em;color: black;border-radius: 0.25em;background-color: #f0f8ff;}#sk-container-id-6 input.sk-toggleable__control:checked~div.sk-toggleable__content {max-height: 200px;max-width: 100%;overflow: auto;}#sk-container-id-6 input.sk-toggleable__control:checked~label.sk-toggleable__label-arrow:before {content: \"▾\";}#sk-container-id-6 div.sk-estimator input.sk-toggleable__control:checked~label.sk-toggleable__label {background-color: #d4ebff;}#sk-container-id-6 div.sk-label input.sk-toggleable__control:checked~label.sk-toggleable__label {background-color: #d4ebff;}#sk-container-id-6 input.sk-hidden--visually {border: 0;clip: rect(1px 1px 1px 1px);clip: rect(1px, 1px, 1px, 1px);height: 1px;margin: -1px;overflow: hidden;padding: 0;position: absolute;width: 1px;}#sk-container-id-6 div.sk-estimator {font-family: monospace;background-color: #f0f8ff;border: 1px dotted black;border-radius: 0.25em;box-sizing: border-box;margin-bottom: 0.5em;}#sk-container-id-6 div.sk-estimator:hover {background-color: #d4ebff;}#sk-container-id-6 div.sk-parallel-item::after {content: \"\";width: 100%;border-bottom: 1px solid gray;flex-grow: 1;}#sk-container-id-6 div.sk-label:hover label.sk-toggleable__label {background-color: #d4ebff;}#sk-container-id-6 div.sk-serial::before {content: \"\";position: absolute;border-left: 1px solid gray;box-sizing: border-box;top: 0;bottom: 0;left: 50%;z-index: 0;}#sk-container-id-6 div.sk-serial {display: flex;flex-direction: column;align-items: center;background-color: white;padding-right: 0.2em;padding-left: 0.2em;position: relative;}#sk-container-id-6 div.sk-item {position: relative;z-index: 1;}#sk-container-id-6 div.sk-parallel {display: flex;align-items: stretch;justify-content: center;background-color: white;position: relative;}#sk-container-id-6 div.sk-item::before, #sk-container-id-6 div.sk-parallel-item::before {content: \"\";position: absolute;border-left: 1px solid gray;box-sizing: border-box;top: 0;bottom: 0;left: 50%;z-index: -1;}#sk-container-id-6 div.sk-parallel-item {display: flex;flex-direction: column;z-index: 1;position: relative;background-color: white;}#sk-container-id-6 div.sk-parallel-item:first-child::after {align-self: flex-end;width: 50%;}#sk-container-id-6 div.sk-parallel-item:last-child::after {align-self: flex-start;width: 50%;}#sk-container-id-6 div.sk-parallel-item:only-child::after {width: 0;}#sk-container-id-6 div.sk-dashed-wrapped {border: 1px dashed gray;margin: 0 0.4em 0.5em 0.4em;box-sizing: border-box;padding-bottom: 0.4em;background-color: white;}#sk-container-id-6 div.sk-label label {font-family: monospace;font-weight: bold;display: inline-block;line-height: 1.2em;}#sk-container-id-6 div.sk-label-container {text-align: center;}#sk-container-id-6 div.sk-container {/* jupyter's `normalize.less` sets `[hidden] { display: none; }` but bootstrap.min.css set `[hidden] { display: none !important; }` so we also need the `!important` here to be able to override the default hidden behavior on the sphinx rendered scikit-learn.org. See: https://github.com/scikit-learn/scikit-learn/issues/21755 */display: inline-block !important;position: relative;}#sk-container-id-6 div.sk-text-repr-fallback {display: none;}</style><div id=\"sk-container-id-6\" class=\"sk-top-container\"><div class=\"sk-text-repr-fallback\"><pre>RandomForestClassifier()</pre><b>In a Jupyter environment, please rerun this cell to show the HTML representation or trust the notebook. <br />On GitHub, the HTML representation is unable to render, please try loading this page with nbviewer.org.</b></div><div class=\"sk-container\" hidden><div class=\"sk-item\"><div class=\"sk-estimator sk-toggleable\"><input class=\"sk-toggleable__control sk-hidden--visually\" id=\"sk-estimator-id-6\" type=\"checkbox\" checked><label for=\"sk-estimator-id-6\" class=\"sk-toggleable__label sk-toggleable__label-arrow\">RandomForestClassifier</label><div class=\"sk-toggleable__content\"><pre>RandomForestClassifier()</pre></div></div></div></div></div>"
            ],
            "text/plain": [
              "RandomForestClassifier()"
            ]
          },
          "execution_count": 59,
          "metadata": {},
          "output_type": "execute_result"
        }
      ],
      "source": [
        "rfc.fit(x_scaled_train, y_scaled_train)"
      ]
    },
    {
      "cell_type": "code",
      "execution_count": 60,
      "metadata": {},
      "outputs": [
        {
          "data": {
            "text/plain": [
              "0.8350549270372192"
            ]
          },
          "execution_count": 60,
          "metadata": {},
          "output_type": "execute_result"
        }
      ],
      "source": [
        "rfc.score(x_scaled_test,y_scaled_test)\n"
      ]
    },
    {
      "attachments": {},
      "cell_type": "markdown",
      "metadata": {},
      "source": [
        "Result of learning without dividing map column:\n",
        "    \n",
        "    0.8375857338820302\n",
        "\n",
        "    0.8338892230302367\n",
        "\n",
        "    0.8307271733187535\n",
        "\n",
        "Result of learning with dividing map column:\n",
        "\n",
        "    0.8308004608547759\n",
        "\n",
        "    0.8299141090869303\n",
        "\n",
        "    0.8367725734250464"
      ]
    },
    {
      "attachments": {},
      "cell_type": "markdown",
      "metadata": {},
      "source": [
        "# Models evaluation"
      ]
    },
    {
      "cell_type": "code",
      "execution_count": 61,
      "metadata": {},
      "outputs": [],
      "source": [
        "y_pred_knn = knn.predict(x_scaled_test)\n"
      ]
    },
    {
      "cell_type": "code",
      "execution_count": 62,
      "metadata": {},
      "outputs": [
        {
          "name": "stdout",
          "output_type": "stream",
          "text": [
            "knn accuracy:  0.8031371263048587\n",
            "knn precision:  0.817677104152787\n",
            "knn recall:  0.7897897897897898\n",
            "knn f1-score:  0.8034915439170758\n"
          ]
        }
      ],
      "source": [
        "print('knn accuracy: ', accuracy_score(y_scaled_test, y_pred_knn))\n",
        "print('knn precision: ', precision_score(y_scaled_test, y_pred_knn))\n",
        "print('knn recall: ', recall_score(y_scaled_test, y_pred_knn))\n",
        "print('knn f1-score: ', f1_score(y_scaled_test, y_pred_knn))"
      ]
    },
    {
      "cell_type": "code",
      "execution_count": 63,
      "metadata": {},
      "outputs": [
        {
          "data": {
            "text/plain": [
              "array([[7331, 1642],\n",
              "       [1960, 7364]], dtype=int64)"
            ]
          },
          "execution_count": 63,
          "metadata": {},
          "output_type": "execute_result"
        }
      ],
      "source": [
        "confusion_matrix(y_scaled_test, y_pred_knn)"
      ]
    },
    {
      "cell_type": "code",
      "execution_count": 64,
      "metadata": {},
      "outputs": [],
      "source": [
        "y_pred_rfc = rfc.predict(x_scaled_test)"
      ]
    },
    {
      "cell_type": "code",
      "execution_count": 65,
      "metadata": {},
      "outputs": [
        {
          "name": "stdout",
          "output_type": "stream",
          "text": [
            "rfc accuracy:  0.8350549270372192\n",
            "rfc precision:  0.8539515042658284\n",
            "rfc recall:  0.8158515658515658\n",
            "rfc f1-score:  0.8344668714348399\n"
          ]
        }
      ],
      "source": [
        "print('rfc accuracy: ', accuracy_score(y_scaled_test, y_pred_rfc))\n",
        "print('rfc precision: ', precision_score(y_scaled_test, y_pred_rfc))\n",
        "print('rfc recall: ', recall_score(y_scaled_test, y_pred_rfc))\n",
        "print('rfc f1-score: ', f1_score(y_scaled_test, y_pred_rfc))"
      ]
    },
    {
      "cell_type": "code",
      "execution_count": 66,
      "metadata": {},
      "outputs": [
        {
          "data": {
            "text/plain": [
              "array([[7672, 1301],\n",
              "       [1717, 7607]], dtype=int64)"
            ]
          },
          "execution_count": 66,
          "metadata": {},
          "output_type": "execute_result"
        }
      ],
      "source": [
        "confusion_matrix(y_scaled_test, y_pred_rfc)"
      ]
    }
  ],
  "metadata": {
    "colab": {
      "provenance": []
    },
    "kernelspec": {
      "display_name": "Python 3",
      "name": "python3"
    },
    "language_info": {
      "codemirror_mode": {
        "name": "ipython",
        "version": 3
      },
      "file_extension": ".py",
      "mimetype": "text/x-python",
      "name": "python",
      "nbconvert_exporter": "python",
      "pygments_lexer": "ipython3",
      "version": "3.10.11"
    }
  },
  "nbformat": 4,
  "nbformat_minor": 0
}
