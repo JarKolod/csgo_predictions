{
  "cells": [
    {
      "cell_type": "code",
      "execution_count": null,
      "id": "41461be0-d625-4ae1-9065-bf5740a30578",
      "metadata": {
        "id": "41461be0-d625-4ae1-9065-bf5740a30578"
      },
      "outputs": [],
      "source": [
        "import numpy as np\n",
        "import matplotlib.pyplot as plt\n",
        "import sklearn"
      ]
    },
    {
      "cell_type": "code",
      "execution_count": null,
      "id": "5fa4ab97-05a8-45a5-a8f6-4d6b2094a0c0",
      "metadata": {
        "id": "5fa4ab97-05a8-45a5-a8f6-4d6b2094a0c0"
      },
      "outputs": [],
      "source": [
        "from sklearn.datasets import load_breast_cancer\n",
        "from sklearn.preprocessing import minmax_scale\n",
        "from sklearn.ensemble import IsolationForest\n",
        "from sklearn.impute import SimpleImputer\n",
        "from sklearn.decomposition import PCA"
      ]
    },
    {
      "cell_type": "markdown",
      "source": [
        "### Zbiór danych"
      ],
      "metadata": {
        "id": "X9m9IpTqWKA1"
      },
      "id": "X9m9IpTqWKA1"
    },
    {
      "cell_type": "code",
      "execution_count": null,
      "id": "991b6621-2b40-454a-8e81-a299316ea0bb",
      "metadata": {
        "id": "991b6621-2b40-454a-8e81-a299316ea0bb"
      },
      "outputs": [],
      "source": [
        "x, y = load_breast_cancer(return_X_y=True)"
      ]
    },
    {
      "cell_type": "markdown",
      "source": [
        "### Skalowanie do wartości z przedziału [0;1]"
      ],
      "metadata": {
        "id": "fb2a_kXEWQKX"
      },
      "id": "fb2a_kXEWQKX"
    },
    {
      "cell_type": "code",
      "execution_count": null,
      "id": "293ed159-ef7d-4782-aa51-22abc84f2238",
      "metadata": {
        "id": "293ed159-ef7d-4782-aa51-22abc84f2238"
      },
      "outputs": [],
      "source": [
        "x_norm = minmax_scale(x, axis=0)"
      ]
    },
    {
      "cell_type": "markdown",
      "source": [
        "### boxploty"
      ],
      "metadata": {
        "id": "QW_lwotHWV8s"
      },
      "id": "QW_lwotHWV8s"
    },
    {
      "cell_type": "code",
      "execution_count": null,
      "id": "3056377d-3799-45d0-a851-5eeb84202880",
      "metadata": {
        "colab": {
          "base_uri": "https://localhost:8080/",
          "height": 1000
        },
        "id": "3056377d-3799-45d0-a851-5eeb84202880",
        "outputId": "8489d6e5-e82d-4f92-dc60-2354d931ae37"
      },
      "outputs": [
        {
          "output_type": "execute_result",
          "data": {
            "text/plain": [
              "{'whiskers': [<matplotlib.lines.Line2D at 0x7f3e38bafca0>,\n",
              "  <matplotlib.lines.Line2D at 0x7f3e38baff70>,\n",
              "  <matplotlib.lines.Line2D at 0x7f3e38be3100>,\n",
              "  <matplotlib.lines.Line2D at 0x7f3e38be33d0>,\n",
              "  <matplotlib.lines.Line2D at 0x7f3e38b704f0>,\n",
              "  <matplotlib.lines.Line2D at 0x7f3e38b707c0>,\n",
              "  <matplotlib.lines.Line2D at 0x7f3e38b7c8e0>,\n",
              "  <matplotlib.lines.Line2D at 0x7f3e38b7cbb0>,\n",
              "  <matplotlib.lines.Line2D at 0x7f3e38b89cd0>,\n",
              "  <matplotlib.lines.Line2D at 0x7f3e38b89fa0>,\n",
              "  <matplotlib.lines.Line2D at 0x7f3e38b9e100>,\n",
              "  <matplotlib.lines.Line2D at 0x7f3e38b9e3d0>,\n",
              "  <matplotlib.lines.Line2D at 0x7f3e38b2f4f0>,\n",
              "  <matplotlib.lines.Line2D at 0x7f3e38b2f7c0>,\n",
              "  <matplotlib.lines.Line2D at 0x7f3e38b3d8e0>,\n",
              "  <matplotlib.lines.Line2D at 0x7f3e38b3dbb0>,\n",
              "  <matplotlib.lines.Line2D at 0x7f3e38b49cd0>,\n",
              "  <matplotlib.lines.Line2D at 0x7f3e38b49fa0>,\n",
              "  <matplotlib.lines.Line2D at 0x7f3e38b63100>,\n",
              "  <matplotlib.lines.Line2D at 0x7f3e38b633d0>,\n",
              "  <matplotlib.lines.Line2D at 0x7f3e38af04f0>,\n",
              "  <matplotlib.lines.Line2D at 0x7f3e38af07c0>,\n",
              "  <matplotlib.lines.Line2D at 0x7f3e38afd8e0>,\n",
              "  <matplotlib.lines.Line2D at 0x7f3e38afdbb0>,\n",
              "  <matplotlib.lines.Line2D at 0x7f3e38b0acd0>,\n",
              "  <matplotlib.lines.Line2D at 0x7f3e38b0afa0>,\n",
              "  <matplotlib.lines.Line2D at 0x7f3e38b16fa0>,\n",
              "  <matplotlib.lines.Line2D at 0x7f3e38b242b0>,\n",
              "  <matplotlib.lines.Line2D at 0x7f3e38ab03d0>,\n",
              "  <matplotlib.lines.Line2D at 0x7f3e38ab06a0>,\n",
              "  <matplotlib.lines.Line2D at 0x7f3e38abe7c0>,\n",
              "  <matplotlib.lines.Line2D at 0x7f3e38abea90>,\n",
              "  <matplotlib.lines.Line2D at 0x7f3e38acbbb0>,\n",
              "  <matplotlib.lines.Line2D at 0x7f3e38acbe80>,\n",
              "  <matplotlib.lines.Line2D at 0x7f3e38ad9fa0>,\n",
              "  <matplotlib.lines.Line2D at 0x7f3e38ae52b0>,\n",
              "  <matplotlib.lines.Line2D at 0x7f3e38a703d0>,\n",
              "  <matplotlib.lines.Line2D at 0x7f3e38a706a0>,\n",
              "  <matplotlib.lines.Line2D at 0x7f3e38a7f7c0>,\n",
              "  <matplotlib.lines.Line2D at 0x7f3e38a7fa90>,\n",
              "  <matplotlib.lines.Line2D at 0x7f3e38a8abb0>,\n",
              "  <matplotlib.lines.Line2D at 0x7f3e38a8ae80>,\n",
              "  <matplotlib.lines.Line2D at 0x7f3e38a9afa0>,\n",
              "  <matplotlib.lines.Line2D at 0x7f3e38aa52b0>,\n",
              "  <matplotlib.lines.Line2D at 0x7f3e38a343d0>,\n",
              "  <matplotlib.lines.Line2D at 0x7f3e38a346a0>,\n",
              "  <matplotlib.lines.Line2D at 0x7f3e38a3f7c0>,\n",
              "  <matplotlib.lines.Line2D at 0x7f3e38a3fa90>,\n",
              "  <matplotlib.lines.Line2D at 0x7f3e38a4cbe0>,\n",
              "  <matplotlib.lines.Line2D at 0x7f3e38a4ceb0>,\n",
              "  <matplotlib.lines.Line2D at 0x7f3e38a5afd0>,\n",
              "  <matplotlib.lines.Line2D at 0x7f3e38a672e0>,\n",
              "  <matplotlib.lines.Line2D at 0x7f3e389f2400>,\n",
              "  <matplotlib.lines.Line2D at 0x7f3e389f26d0>,\n",
              "  <matplotlib.lines.Line2D at 0x7f3e389ff7f0>,\n",
              "  <matplotlib.lines.Line2D at 0x7f3e389ffac0>,\n",
              "  <matplotlib.lines.Line2D at 0x7f3e38a0ebe0>,\n",
              "  <matplotlib.lines.Line2D at 0x7f3e38a0eeb0>,\n",
              "  <matplotlib.lines.Line2D at 0x7f3e38a1cfd0>,\n",
              "  <matplotlib.lines.Line2D at 0x7f3e38a272e0>],\n",
              " 'caps': [<matplotlib.lines.Line2D at 0x7f3e38bd4280>,\n",
              "  <matplotlib.lines.Line2D at 0x7f3e38bd4550>,\n",
              "  <matplotlib.lines.Line2D at 0x7f3e38be36a0>,\n",
              "  <matplotlib.lines.Line2D at 0x7f3e38be3970>,\n",
              "  <matplotlib.lines.Line2D at 0x7f3e38b70a90>,\n",
              "  <matplotlib.lines.Line2D at 0x7f3e38b70d60>,\n",
              "  <matplotlib.lines.Line2D at 0x7f3e38b7ce80>,\n",
              "  <matplotlib.lines.Line2D at 0x7f3e38b89190>,\n",
              "  <matplotlib.lines.Line2D at 0x7f3e38b962b0>,\n",
              "  <matplotlib.lines.Line2D at 0x7f3e38b96580>,\n",
              "  <matplotlib.lines.Line2D at 0x7f3e38b9e6a0>,\n",
              "  <matplotlib.lines.Line2D at 0x7f3e38b9e970>,\n",
              "  <matplotlib.lines.Line2D at 0x7f3e38b2fa90>,\n",
              "  <matplotlib.lines.Line2D at 0x7f3e38b2fd60>,\n",
              "  <matplotlib.lines.Line2D at 0x7f3e38b3de80>,\n",
              "  <matplotlib.lines.Line2D at 0x7f3e38b49190>,\n",
              "  <matplotlib.lines.Line2D at 0x7f3e38b572b0>,\n",
              "  <matplotlib.lines.Line2D at 0x7f3e38b57580>,\n",
              "  <matplotlib.lines.Line2D at 0x7f3e38b636a0>,\n",
              "  <matplotlib.lines.Line2D at 0x7f3e38b63970>,\n",
              "  <matplotlib.lines.Line2D at 0x7f3e38af0a90>,\n",
              "  <matplotlib.lines.Line2D at 0x7f3e38af0d60>,\n",
              "  <matplotlib.lines.Line2D at 0x7f3e38afde80>,\n",
              "  <matplotlib.lines.Line2D at 0x7f3e38b0a190>,\n",
              "  <matplotlib.lines.Line2D at 0x7f3e38b162b0>,\n",
              "  <matplotlib.lines.Line2D at 0x7f3e38b16580>,\n",
              "  <matplotlib.lines.Line2D at 0x7f3e38b24580>,\n",
              "  <matplotlib.lines.Line2D at 0x7f3e38b24850>,\n",
              "  <matplotlib.lines.Line2D at 0x7f3e38ab0970>,\n",
              "  <matplotlib.lines.Line2D at 0x7f3e38ab0c40>,\n",
              "  <matplotlib.lines.Line2D at 0x7f3e38abed60>,\n",
              "  <matplotlib.lines.Line2D at 0x7f3e38acb070>,\n",
              "  <matplotlib.lines.Line2D at 0x7f3e38ad9190>,\n",
              "  <matplotlib.lines.Line2D at 0x7f3e38ad9460>,\n",
              "  <matplotlib.lines.Line2D at 0x7f3e38ae5580>,\n",
              "  <matplotlib.lines.Line2D at 0x7f3e38ae5850>,\n",
              "  <matplotlib.lines.Line2D at 0x7f3e38a70970>,\n",
              "  <matplotlib.lines.Line2D at 0x7f3e38a70c40>,\n",
              "  <matplotlib.lines.Line2D at 0x7f3e38a7fd60>,\n",
              "  <matplotlib.lines.Line2D at 0x7f3e38a8a070>,\n",
              "  <matplotlib.lines.Line2D at 0x7f3e38a9a190>,\n",
              "  <matplotlib.lines.Line2D at 0x7f3e38a9a460>,\n",
              "  <matplotlib.lines.Line2D at 0x7f3e38aa5580>,\n",
              "  <matplotlib.lines.Line2D at 0x7f3e38aa5850>,\n",
              "  <matplotlib.lines.Line2D at 0x7f3e38a34970>,\n",
              "  <matplotlib.lines.Line2D at 0x7f3e38a34c40>,\n",
              "  <matplotlib.lines.Line2D at 0x7f3e38a3fd60>,\n",
              "  <matplotlib.lines.Line2D at 0x7f3e38a4c070>,\n",
              "  <matplotlib.lines.Line2D at 0x7f3e38a5a1c0>,\n",
              "  <matplotlib.lines.Line2D at 0x7f3e38a5a490>,\n",
              "  <matplotlib.lines.Line2D at 0x7f3e38a675b0>,\n",
              "  <matplotlib.lines.Line2D at 0x7f3e38a67880>,\n",
              "  <matplotlib.lines.Line2D at 0x7f3e389f29a0>,\n",
              "  <matplotlib.lines.Line2D at 0x7f3e389f2c70>,\n",
              "  <matplotlib.lines.Line2D at 0x7f3e389ffd90>,\n",
              "  <matplotlib.lines.Line2D at 0x7f3e38a0e0a0>,\n",
              "  <matplotlib.lines.Line2D at 0x7f3e38a1c1c0>,\n",
              "  <matplotlib.lines.Line2D at 0x7f3e38a1c490>,\n",
              "  <matplotlib.lines.Line2D at 0x7f3e38a275b0>,\n",
              "  <matplotlib.lines.Line2D at 0x7f3e38a27880>],\n",
              " 'boxes': [<matplotlib.lines.Line2D at 0x7f3e38bafaf0>,\n",
              "  <matplotlib.lines.Line2D at 0x7f3e38bd4df0>,\n",
              "  <matplotlib.lines.Line2D at 0x7f3e38b70220>,\n",
              "  <matplotlib.lines.Line2D at 0x7f3e38b7c610>,\n",
              "  <matplotlib.lines.Line2D at 0x7f3e38b89a00>,\n",
              "  <matplotlib.lines.Line2D at 0x7f3e38b96df0>,\n",
              "  <matplotlib.lines.Line2D at 0x7f3e38b2f220>,\n",
              "  <matplotlib.lines.Line2D at 0x7f3e38b3d610>,\n",
              "  <matplotlib.lines.Line2D at 0x7f3e38b49a00>,\n",
              "  <matplotlib.lines.Line2D at 0x7f3e38b57df0>,\n",
              "  <matplotlib.lines.Line2D at 0x7f3e38af0220>,\n",
              "  <matplotlib.lines.Line2D at 0x7f3e38afd610>,\n",
              "  <matplotlib.lines.Line2D at 0x7f3e38b0aa00>,\n",
              "  <matplotlib.lines.Line2D at 0x7f3e38b16cd0>,\n",
              "  <matplotlib.lines.Line2D at 0x7f3e38ab0100>,\n",
              "  <matplotlib.lines.Line2D at 0x7f3e38abe4f0>,\n",
              "  <matplotlib.lines.Line2D at 0x7f3e38acb8e0>,\n",
              "  <matplotlib.lines.Line2D at 0x7f3e38ad9cd0>,\n",
              "  <matplotlib.lines.Line2D at 0x7f3e38a70100>,\n",
              "  <matplotlib.lines.Line2D at 0x7f3e38a7f4f0>,\n",
              "  <matplotlib.lines.Line2D at 0x7f3e38a8a8e0>,\n",
              "  <matplotlib.lines.Line2D at 0x7f3e38a9acd0>,\n",
              "  <matplotlib.lines.Line2D at 0x7f3e38a34100>,\n",
              "  <matplotlib.lines.Line2D at 0x7f3e38a3f4f0>,\n",
              "  <matplotlib.lines.Line2D at 0x7f3e38a4c8e0>,\n",
              "  <matplotlib.lines.Line2D at 0x7f3e38a5ad00>,\n",
              "  <matplotlib.lines.Line2D at 0x7f3e389f2130>,\n",
              "  <matplotlib.lines.Line2D at 0x7f3e389ff520>,\n",
              "  <matplotlib.lines.Line2D at 0x7f3e38a0e910>,\n",
              "  <matplotlib.lines.Line2D at 0x7f3e38a1cd00>],\n",
              " 'medians': [<matplotlib.lines.Line2D at 0x7f3e38bd4820>,\n",
              "  <matplotlib.lines.Line2D at 0x7f3e38be3c40>,\n",
              "  <matplotlib.lines.Line2D at 0x7f3e38b7c070>,\n",
              "  <matplotlib.lines.Line2D at 0x7f3e38b89460>,\n",
              "  <matplotlib.lines.Line2D at 0x7f3e38b96850>,\n",
              "  <matplotlib.lines.Line2D at 0x7f3e38b9ec40>,\n",
              "  <matplotlib.lines.Line2D at 0x7f3e38b3d070>,\n",
              "  <matplotlib.lines.Line2D at 0x7f3e38b49460>,\n",
              "  <matplotlib.lines.Line2D at 0x7f3e38b57850>,\n",
              "  <matplotlib.lines.Line2D at 0x7f3e38b63c40>,\n",
              "  <matplotlib.lines.Line2D at 0x7f3e38afd070>,\n",
              "  <matplotlib.lines.Line2D at 0x7f3e38b0a460>,\n",
              "  <matplotlib.lines.Line2D at 0x7f3e38b16850>,\n",
              "  <matplotlib.lines.Line2D at 0x7f3e38b24b20>,\n",
              "  <matplotlib.lines.Line2D at 0x7f3e38ab0f10>,\n",
              "  <matplotlib.lines.Line2D at 0x7f3e38acb340>,\n",
              "  <matplotlib.lines.Line2D at 0x7f3e38ad9730>,\n",
              "  <matplotlib.lines.Line2D at 0x7f3e38ae5b20>,\n",
              "  <matplotlib.lines.Line2D at 0x7f3e38a70f10>,\n",
              "  <matplotlib.lines.Line2D at 0x7f3e38a8a340>,\n",
              "  <matplotlib.lines.Line2D at 0x7f3e38a9a730>,\n",
              "  <matplotlib.lines.Line2D at 0x7f3e38aa5b20>,\n",
              "  <matplotlib.lines.Line2D at 0x7f3e38a34f10>,\n",
              "  <matplotlib.lines.Line2D at 0x7f3e38a4c340>,\n",
              "  <matplotlib.lines.Line2D at 0x7f3e38a5a760>,\n",
              "  <matplotlib.lines.Line2D at 0x7f3e38a67b50>,\n",
              "  <matplotlib.lines.Line2D at 0x7f3e389f2f40>,\n",
              "  <matplotlib.lines.Line2D at 0x7f3e38a0e370>,\n",
              "  <matplotlib.lines.Line2D at 0x7f3e38a1c760>,\n",
              "  <matplotlib.lines.Line2D at 0x7f3e38a27b50>],\n",
              " 'fliers': [<matplotlib.lines.Line2D at 0x7f3e38bd4af0>,\n",
              "  <matplotlib.lines.Line2D at 0x7f3e38be3f10>,\n",
              "  <matplotlib.lines.Line2D at 0x7f3e38b7c340>,\n",
              "  <matplotlib.lines.Line2D at 0x7f3e38b89730>,\n",
              "  <matplotlib.lines.Line2D at 0x7f3e38b96b20>,\n",
              "  <matplotlib.lines.Line2D at 0x7f3e38b9ef10>,\n",
              "  <matplotlib.lines.Line2D at 0x7f3e38b3d340>,\n",
              "  <matplotlib.lines.Line2D at 0x7f3e38b49730>,\n",
              "  <matplotlib.lines.Line2D at 0x7f3e38b57b20>,\n",
              "  <matplotlib.lines.Line2D at 0x7f3e38b63f10>,\n",
              "  <matplotlib.lines.Line2D at 0x7f3e38afd340>,\n",
              "  <matplotlib.lines.Line2D at 0x7f3e38b0a730>,\n",
              "  <matplotlib.lines.Line2D at 0x7f3e38b16a00>,\n",
              "  <matplotlib.lines.Line2D at 0x7f3e38b24df0>,\n",
              "  <matplotlib.lines.Line2D at 0x7f3e38abe220>,\n",
              "  <matplotlib.lines.Line2D at 0x7f3e38acb610>,\n",
              "  <matplotlib.lines.Line2D at 0x7f3e38ad9a00>,\n",
              "  <matplotlib.lines.Line2D at 0x7f3e38ae5df0>,\n",
              "  <matplotlib.lines.Line2D at 0x7f3e38a7f220>,\n",
              "  <matplotlib.lines.Line2D at 0x7f3e38a8a610>,\n",
              "  <matplotlib.lines.Line2D at 0x7f3e38a9aa00>,\n",
              "  <matplotlib.lines.Line2D at 0x7f3e38aa5df0>,\n",
              "  <matplotlib.lines.Line2D at 0x7f3e38a3f220>,\n",
              "  <matplotlib.lines.Line2D at 0x7f3e38a4c610>,\n",
              "  <matplotlib.lines.Line2D at 0x7f3e38a5aa30>,\n",
              "  <matplotlib.lines.Line2D at 0x7f3e38a67e20>,\n",
              "  <matplotlib.lines.Line2D at 0x7f3e389ff250>,\n",
              "  <matplotlib.lines.Line2D at 0x7f3e38a0e640>,\n",
              "  <matplotlib.lines.Line2D at 0x7f3e38a1ca30>,\n",
              "  <matplotlib.lines.Line2D at 0x7f3e38a27e20>],\n",
              " 'means': []}"
            ]
          },
          "metadata": {},
          "execution_count": 5
        },
        {
          "output_type": "display_data",
          "data": {
            "text/plain": [
              "<Figure size 432x288 with 1 Axes>"
            ],
            "image/png": "[encoded data removed]"
          },
          "metadata": {
            "needs_background": "light"
          }
        }
      ],
      "source": [
        "plt.boxplot(x_norm)"
      ]
    },
    {
      "cell_type": "code",
      "execution_count": null,
      "id": "977bb06d-8ae0-4b4f-a419-b7fa35cee67e",
      "metadata": {
        "colab": {
          "base_uri": "https://localhost:8080/",
          "height": 404
        },
        "id": "977bb06d-8ae0-4b4f-a419-b7fa35cee67e",
        "outputId": "469dae89-0715-42df-f747-da8720ba2098"
      },
      "outputs": [
        {
          "output_type": "execute_result",
          "data": {
            "text/plain": [
              "{'whiskers': [<matplotlib.lines.Line2D at 0x7f3e368a6ca0>,\n",
              "  <matplotlib.lines.Line2D at 0x7f3e368a6f70>],\n",
              " 'caps': [<matplotlib.lines.Line2D at 0x7f3e36835280>,\n",
              "  <matplotlib.lines.Line2D at 0x7f3e36835550>],\n",
              " 'boxes': [<matplotlib.lines.Line2D at 0x7f3e368a69d0>],\n",
              " 'medians': [<matplotlib.lines.Line2D at 0x7f3e36835820>],\n",
              " 'fliers': [<matplotlib.lines.Line2D at 0x7f3e36835af0>],\n",
              " 'means': []}"
            ]
          },
          "metadata": {},
          "execution_count": 6
        },
        {
          "output_type": "display_data",
          "data": {
            "text/plain": [
              "<Figure size 432x288 with 1 Axes>"
            ],
            "image/png": "[encoded data removed]"
          },
          "metadata": {
            "needs_background": "light"
          }
        }
      ],
      "source": [
        "plt.boxplot(x_norm[:,2])"
      ]
    },
    {
      "cell_type": "markdown",
      "source": [
        "### wyszukiwanie danych odstających (przykładowa metoda - Isolation Forest)"
      ],
      "metadata": {
        "id": "JIBPytJHWaTt"
      },
      "id": "JIBPytJHWaTt"
    },
    {
      "cell_type": "code",
      "execution_count": null,
      "id": "afd37af7-426d-4cf1-9021-690a84899960",
      "metadata": {
        "id": "afd37af7-426d-4cf1-9021-690a84899960"
      },
      "outputs": [],
      "source": [
        "IF = IsolationForest(n_estimators=100, max_samples='auto', contamination='auto')"
      ]
    },
    {
      "cell_type": "code",
      "execution_count": null,
      "id": "a9c15356-f2e2-4b89-9969-fd62e807ae9e",
      "metadata": {
        "colab": {
          "base_uri": "https://localhost:8080/",
          "height": 74
        },
        "id": "a9c15356-f2e2-4b89-9969-fd62e807ae9e",
        "outputId": "d6870ddf-a5b0-44f5-86cc-06dde12402f0"
      },
      "outputs": [
        {
          "output_type": "execute_result",
          "data": {
            "text/plain": [
              "IsolationForest()"
            ],
            "text/html": [
              "<style>#sk-container-id-1 {color: black;background-color: white;}#sk-container-id-1 pre{padding: 0;}#sk-container-id-1 div.sk-toggleable {background-color: white;}#sk-container-id-1 label.sk-toggleable__label {cursor: pointer;display: block;width: 100%;margin-bottom: 0;padding: 0.3em;box-sizing: border-box;text-align: center;}#sk-container-id-1 label.sk-toggleable__label-arrow:before {content: \"▸\";float: left;margin-right: 0.25em;color: #696969;}#sk-container-id-1 label.sk-toggleable__label-arrow:hover:before {color: black;}#sk-container-id-1 div.sk-estimator:hover label.sk-toggleable__label-arrow:before {color: black;}#sk-container-id-1 div.sk-toggleable__content {max-height: 0;max-width: 0;overflow: hidden;text-align: left;background-color: #f0f8ff;}#sk-container-id-1 div.sk-toggleable__content pre {margin: 0.2em;color: black;border-radius: 0.25em;background-color: #f0f8ff;}#sk-container-id-1 input.sk-toggleable__control:checked~div.sk-toggleable__content {max-height: 200px;max-width: 100%;overflow: auto;}#sk-container-id-1 input.sk-toggleable__control:checked~label.sk-toggleable__label-arrow:before {content: \"▾\";}#sk-container-id-1 div.sk-estimator input.sk-toggleable__control:checked~label.sk-toggleable__label {background-color: #d4ebff;}#sk-container-id-1 div.sk-label input.sk-toggleable__control:checked~label.sk-toggleable__label {background-color: #d4ebff;}#sk-container-id-1 input.sk-hidden--visually {border: 0;clip: rect(1px 1px 1px 1px);clip: rect(1px, 1px, 1px, 1px);height: 1px;margin: -1px;overflow: hidden;padding: 0;position: absolute;width: 1px;}#sk-container-id-1 div.sk-estimator {font-family: monospace;background-color: #f0f8ff;border: 1px dotted black;border-radius: 0.25em;box-sizing: border-box;margin-bottom: 0.5em;}#sk-container-id-1 div.sk-estimator:hover {background-color: #d4ebff;}#sk-container-id-1 div.sk-parallel-item::after {content: \"\";width: 100%;border-bottom: 1px solid gray;flex-grow: 1;}#sk-container-id-1 div.sk-label:hover label.sk-toggleable__label {background-color: #d4ebff;}#sk-container-id-1 div.sk-serial::before {content: \"\";position: absolute;border-left: 1px solid gray;box-sizing: border-box;top: 0;bottom: 0;left: 50%;z-index: 0;}#sk-container-id-1 div.sk-serial {display: flex;flex-direction: column;align-items: center;background-color: white;padding-right: 0.2em;padding-left: 0.2em;position: relative;}#sk-container-id-1 div.sk-item {position: relative;z-index: 1;}#sk-container-id-1 div.sk-parallel {display: flex;align-items: stretch;justify-content: center;background-color: white;position: relative;}#sk-container-id-1 div.sk-item::before, #sk-container-id-1 div.sk-parallel-item::before {content: \"\";position: absolute;border-left: 1px solid gray;box-sizing: border-box;top: 0;bottom: 0;left: 50%;z-index: -1;}#sk-container-id-1 div.sk-parallel-item {display: flex;flex-direction: column;z-index: 1;position: relative;background-color: white;}#sk-container-id-1 div.sk-parallel-item:first-child::after {align-self: flex-end;width: 50%;}#sk-container-id-1 div.sk-parallel-item:last-child::after {align-self: flex-start;width: 50%;}#sk-container-id-1 div.sk-parallel-item:only-child::after {width: 0;}#sk-container-id-1 div.sk-dashed-wrapped {border: 1px dashed gray;margin: 0 0.4em 0.5em 0.4em;box-sizing: border-box;padding-bottom: 0.4em;background-color: white;}#sk-container-id-1 div.sk-label label {font-family: monospace;font-weight: bold;display: inline-block;line-height: 1.2em;}#sk-container-id-1 div.sk-label-container {text-align: center;}#sk-container-id-1 div.sk-container {/* jupyter's `normalize.less` sets `[hidden] { display: none; }` but bootstrap.min.css set `[hidden] { display: none !important; }` so we also need the `!important` here to be able to override the default hidden behavior on the sphinx rendered scikit-learn.org. See: https://github.com/scikit-learn/scikit-learn/issues/21755 */display: inline-block !important;position: relative;}#sk-container-id-1 div.sk-text-repr-fallback {display: none;}</style><div id=\"sk-container-id-1\" class=\"sk-top-container\"><div class=\"sk-text-repr-fallback\"><pre>IsolationForest()</pre><b>In a Jupyter environment, please rerun this cell to show the HTML representation or trust the notebook. <br />On GitHub, the HTML representation is unable to render, please try loading this page with nbviewer.org.</b></div><div class=\"sk-container\" hidden><div class=\"sk-item\"><div class=\"sk-estimator sk-toggleable\"><input class=\"sk-toggleable__control sk-hidden--visually\" id=\"sk-estimator-id-1\" type=\"checkbox\" checked><label for=\"sk-estimator-id-1\" class=\"sk-toggleable__label sk-toggleable__label-arrow\">IsolationForest</label><div class=\"sk-toggleable__content\"><pre>IsolationForest()</pre></div></div></div></div></div>"
            ]
          },
          "metadata": {},
          "execution_count": 8
        }
      ],
      "source": [
        "IF.fit(x_norm)"
      ]
    },
    {
      "cell_type": "code",
      "execution_count": null,
      "id": "36c3632a-31c0-43df-b7b8-ff133d16c0dd",
      "metadata": {
        "id": "36c3632a-31c0-43df-b7b8-ff133d16c0dd"
      },
      "outputs": [],
      "source": [
        "if_results = IF.predict(x_norm)"
      ]
    },
    {
      "cell_type": "code",
      "execution_count": null,
      "id": "f8e5c7c5-c39a-435d-8c17-74dc83cf67c3",
      "metadata": {
        "id": "f8e5c7c5-c39a-435d-8c17-74dc83cf67c3"
      },
      "outputs": [],
      "source": [
        "x_norm_wo = x_norm[if_results==1]"
      ]
    },
    {
      "cell_type": "code",
      "execution_count": null,
      "id": "ab36b0b7-ef48-4463-8ede-601dbb8839d2",
      "metadata": {
        "id": "ab36b0b7-ef48-4463-8ede-601dbb8839d2"
      },
      "outputs": [],
      "source": [
        "outliers = x_norm[if_results==-1]"
      ]
    },
    {
      "cell_type": "code",
      "execution_count": null,
      "id": "4a7b15c9-38fa-4e81-9742-abc9239ed636",
      "metadata": {
        "colab": {
          "base_uri": "https://localhost:8080/"
        },
        "id": "4a7b15c9-38fa-4e81-9742-abc9239ed636",
        "outputId": "38491a00-8862-4d78-fa7e-8d71f4396db4"
      },
      "outputs": [
        {
          "output_type": "execute_result",
          "data": {
            "text/plain": [
              "(508, 30)"
            ]
          },
          "metadata": {},
          "execution_count": 12
        }
      ],
      "source": [
        "x_norm_wo.shape"
      ]
    },
    {
      "cell_type": "code",
      "execution_count": null,
      "id": "628c8dd2-2ae0-4654-96fc-25cea2f8f2fb",
      "metadata": {
        "colab": {
          "base_uri": "https://localhost:8080/",
          "height": 404
        },
        "id": "628c8dd2-2ae0-4654-96fc-25cea2f8f2fb",
        "outputId": "61eb3dcb-eb81-4df4-fb01-a0d11e17bac5"
      },
      "outputs": [
        {
          "output_type": "execute_result",
          "data": {
            "text/plain": [
              "{'whiskers': [<matplotlib.lines.Line2D at 0x7f3e367b68e0>,\n",
              "  <matplotlib.lines.Line2D at 0x7f3e367b6bb0>],\n",
              " 'caps': [<matplotlib.lines.Line2D at 0x7f3e367b6e80>,\n",
              "  <matplotlib.lines.Line2D at 0x7f3e367c6190>],\n",
              " 'boxes': [<matplotlib.lines.Line2D at 0x7f3e367b65e0>],\n",
              " 'medians': [<matplotlib.lines.Line2D at 0x7f3e367c6460>],\n",
              " 'fliers': [<matplotlib.lines.Line2D at 0x7f3e367c6730>],\n",
              " 'means': []}"
            ]
          },
          "metadata": {},
          "execution_count": 13
        },
        {
          "output_type": "display_data",
          "data": {
            "text/plain": [
              "<Figure size 432x288 with 1 Axes>"
            ],
            "image/png": "[encoded data removed]"
          },
          "metadata": {
            "needs_background": "light"
          }
        }
      ],
      "source": [
        "plt.boxplot(x_norm_wo[:,2])"
      ]
    },
    {
      "cell_type": "code",
      "execution_count": null,
      "id": "36007ee7-74aa-46ae-91d0-e7336c8faecb",
      "metadata": {
        "colab": {
          "base_uri": "https://localhost:8080/"
        },
        "id": "36007ee7-74aa-46ae-91d0-e7336c8faecb",
        "outputId": "1f9f1957-ca04-41ff-b47c-9ccefd4f068f"
      },
      "outputs": [
        {
          "output_type": "execute_result",
          "data": {
            "text/plain": [
              "0.05473014995508263"
            ]
          },
          "metadata": {},
          "execution_count": 14
        }
      ],
      "source": [
        "min(x_norm_wo[:,2])"
      ]
    },
    {
      "cell_type": "markdown",
      "source": [
        "### Uzupełnianie danych brakujących"
      ],
      "metadata": {
        "id": "16LVvzzaWkHk"
      },
      "id": "16LVvzzaWkHk"
    },
    {
      "cell_type": "code",
      "execution_count": null,
      "id": "a6dbf02c-054a-4a4a-8e1d-ea242f849bf5",
      "metadata": {
        "id": "a6dbf02c-054a-4a4a-8e1d-ea242f849bf5"
      },
      "outputs": [],
      "source": [
        "r = np.random.random(x_norm.shape)"
      ]
    },
    {
      "cell_type": "code",
      "execution_count": null,
      "id": "a78809fe-87ee-4f56-b6ad-bdb7fd930363",
      "metadata": {
        "id": "a78809fe-87ee-4f56-b6ad-bdb7fd930363"
      },
      "outputs": [],
      "source": [
        "x_norm_wnans = np.where(r > 0.15, x_norm, np.NaN)"
      ]
    },
    {
      "cell_type": "code",
      "execution_count": null,
      "id": "3637d213-24c3-4017-9d2c-bfa7b22eadd4",
      "metadata": {
        "id": "3637d213-24c3-4017-9d2c-bfa7b22eadd4"
      },
      "outputs": [],
      "source": [
        "simp = SimpleImputer(strategy='median')"
      ]
    },
    {
      "cell_type": "code",
      "execution_count": null,
      "id": "ce2d9c71-6d4a-42c3-81a0-85b9cff208cc",
      "metadata": {
        "colab": {
          "base_uri": "https://localhost:8080/",
          "height": 74
        },
        "id": "ce2d9c71-6d4a-42c3-81a0-85b9cff208cc",
        "outputId": "c37f84b1-002e-4df4-d0d9-077b6f9a308b"
      },
      "outputs": [
        {
          "output_type": "execute_result",
          "data": {
            "text/plain": [
              "SimpleImputer(strategy='median')"
            ],
            "text/html": [
              "<style>#sk-container-id-2 {color: black;background-color: white;}#sk-container-id-2 pre{padding: 0;}#sk-container-id-2 div.sk-toggleable {background-color: white;}#sk-container-id-2 label.sk-toggleable__label {cursor: pointer;display: block;width: 100%;margin-bottom: 0;padding: 0.3em;box-sizing: border-box;text-align: center;}#sk-container-id-2 label.sk-toggleable__label-arrow:before {content: \"▸\";float: left;margin-right: 0.25em;color: #696969;}#sk-container-id-2 label.sk-toggleable__label-arrow:hover:before {color: black;}#sk-container-id-2 div.sk-estimator:hover label.sk-toggleable__label-arrow:before {color: black;}#sk-container-id-2 div.sk-toggleable__content {max-height: 0;max-width: 0;overflow: hidden;text-align: left;background-color: #f0f8ff;}#sk-container-id-2 div.sk-toggleable__content pre {margin: 0.2em;color: black;border-radius: 0.25em;background-color: #f0f8ff;}#sk-container-id-2 input.sk-toggleable__control:checked~div.sk-toggleable__content {max-height: 200px;max-width: 100%;overflow: auto;}#sk-container-id-2 input.sk-toggleable__control:checked~label.sk-toggleable__label-arrow:before {content: \"▾\";}#sk-container-id-2 div.sk-estimator input.sk-toggleable__control:checked~label.sk-toggleable__label {background-color: #d4ebff;}#sk-container-id-2 div.sk-label input.sk-toggleable__control:checked~label.sk-toggleable__label {background-color: #d4ebff;}#sk-container-id-2 input.sk-hidden--visually {border: 0;clip: rect(1px 1px 1px 1px);clip: rect(1px, 1px, 1px, 1px);height: 1px;margin: -1px;overflow: hidden;padding: 0;position: absolute;width: 1px;}#sk-container-id-2 div.sk-estimator {font-family: monospace;background-color: #f0f8ff;border: 1px dotted black;border-radius: 0.25em;box-sizing: border-box;margin-bottom: 0.5em;}#sk-container-id-2 div.sk-estimator:hover {background-color: #d4ebff;}#sk-container-id-2 div.sk-parallel-item::after {content: \"\";width: 100%;border-bottom: 1px solid gray;flex-grow: 1;}#sk-container-id-2 div.sk-label:hover label.sk-toggleable__label {background-color: #d4ebff;}#sk-container-id-2 div.sk-serial::before {content: \"\";position: absolute;border-left: 1px solid gray;box-sizing: border-box;top: 0;bottom: 0;left: 50%;z-index: 0;}#sk-container-id-2 div.sk-serial {display: flex;flex-direction: column;align-items: center;background-color: white;padding-right: 0.2em;padding-left: 0.2em;position: relative;}#sk-container-id-2 div.sk-item {position: relative;z-index: 1;}#sk-container-id-2 div.sk-parallel {display: flex;align-items: stretch;justify-content: center;background-color: white;position: relative;}#sk-container-id-2 div.sk-item::before, #sk-container-id-2 div.sk-parallel-item::before {content: \"\";position: absolute;border-left: 1px solid gray;box-sizing: border-box;top: 0;bottom: 0;left: 50%;z-index: -1;}#sk-container-id-2 div.sk-parallel-item {display: flex;flex-direction: column;z-index: 1;position: relative;background-color: white;}#sk-container-id-2 div.sk-parallel-item:first-child::after {align-self: flex-end;width: 50%;}#sk-container-id-2 div.sk-parallel-item:last-child::after {align-self: flex-start;width: 50%;}#sk-container-id-2 div.sk-parallel-item:only-child::after {width: 0;}#sk-container-id-2 div.sk-dashed-wrapped {border: 1px dashed gray;margin: 0 0.4em 0.5em 0.4em;box-sizing: border-box;padding-bottom: 0.4em;background-color: white;}#sk-container-id-2 div.sk-label label {font-family: monospace;font-weight: bold;display: inline-block;line-height: 1.2em;}#sk-container-id-2 div.sk-label-container {text-align: center;}#sk-container-id-2 div.sk-container {/* jupyter's `normalize.less` sets `[hidden] { display: none; }` but bootstrap.min.css set `[hidden] { display: none !important; }` so we also need the `!important` here to be able to override the default hidden behavior on the sphinx rendered scikit-learn.org. See: https://github.com/scikit-learn/scikit-learn/issues/21755 */display: inline-block !important;position: relative;}#sk-container-id-2 div.sk-text-repr-fallback {display: none;}</style><div id=\"sk-container-id-2\" class=\"sk-top-container\"><div class=\"sk-text-repr-fallback\"><pre>SimpleImputer(strategy=&#x27;median&#x27;)</pre><b>In a Jupyter environment, please rerun this cell to show the HTML representation or trust the notebook. <br />On GitHub, the HTML representation is unable to render, please try loading this page with nbviewer.org.</b></div><div class=\"sk-container\" hidden><div class=\"sk-item\"><div class=\"sk-estimator sk-toggleable\"><input class=\"sk-toggleable__control sk-hidden--visually\" id=\"sk-estimator-id-2\" type=\"checkbox\" checked><label for=\"sk-estimator-id-2\" class=\"sk-toggleable__label sk-toggleable__label-arrow\">SimpleImputer</label><div class=\"sk-toggleable__content\"><pre>SimpleImputer(strategy=&#x27;median&#x27;)</pre></div></div></div></div></div>"
            ]
          },
          "metadata": {},
          "execution_count": 18
        }
      ],
      "source": [
        "simp.fit(x_norm_wnans)"
      ]
    },
    {
      "cell_type": "code",
      "execution_count": null,
      "id": "02122801-9fdb-4549-9e5f-c9b47bd5cb27",
      "metadata": {
        "id": "02122801-9fdb-4549-9e5f-c9b47bd5cb27"
      },
      "outputs": [],
      "source": [
        "x_norm_2 = simp.transform(x_norm_wnans)"
      ]
    },
    {
      "cell_type": "code",
      "execution_count": null,
      "id": "b052a7ce-89b5-45ab-a070-d6455050d7e7",
      "metadata": {
        "colab": {
          "base_uri": "https://localhost:8080/"
        },
        "id": "b052a7ce-89b5-45ab-a070-d6455050d7e7",
        "outputId": "c0a56443-2df1-4271-a98c-3bb9e2b50337"
      },
      "outputs": [
        {
          "output_type": "execute_result",
          "data": {
            "text/plain": [
              "array([[ 0.        ,  0.        ,  0.        , ..., -0.57718213,\n",
              "         0.        ,  0.        ],\n",
              "       [ 0.        ,  0.        , -0.31995025, ...,  0.        ,\n",
              "         0.        ,  0.        ],\n",
              "       [-0.29769511,  0.        , -0.29991017, ..., -0.50020619,\n",
              "        -0.15907747, -0.04912764],\n",
              "       ...,\n",
              "       [-0.15145061,  0.        ,  0.        , ..., -0.15243986,\n",
              "         0.        ,  0.        ],\n",
              "       [ 0.        ,  0.        ,  0.        , ...,  0.        ,\n",
              "         0.        ,  0.        ],\n",
              "       [ 0.        , -0.1951302 ,  0.        , ...,  0.        ,\n",
              "         0.        ,  0.        ]])"
            ]
          },
          "metadata": {},
          "execution_count": 20
        }
      ],
      "source": [
        "x_norm_2 - x_norm"
      ]
    },
    {
      "cell_type": "markdown",
      "source": [
        "### Redukcja i ekstrakcja cech metodą PCA"
      ],
      "metadata": {
        "id": "htR0BeGAWpS4"
      },
      "id": "htR0BeGAWpS4"
    },
    {
      "cell_type": "code",
      "execution_count": null,
      "id": "f2a6a6d2-345b-4170-a954-a9f53508170e",
      "metadata": {
        "id": "f2a6a6d2-345b-4170-a954-a9f53508170e"
      },
      "outputs": [],
      "source": [
        "pca = PCA(n_components=10)"
      ]
    },
    {
      "cell_type": "code",
      "source": [
        "pca.fit(x_norm)"
      ],
      "metadata": {
        "colab": {
          "base_uri": "https://localhost:8080/",
          "height": 74
        },
        "id": "O9DbNupvtKjq",
        "outputId": "a31f9220-b46d-4574-835d-fde5c8d17a6e"
      },
      "id": "O9DbNupvtKjq",
      "execution_count": null,
      "outputs": [
        {
          "output_type": "execute_result",
          "data": {
            "text/plain": [
              "PCA(n_components=10)"
            ],
            "text/html": [
              "<style>#sk-container-id-3 {color: black;background-color: white;}#sk-container-id-3 pre{padding: 0;}#sk-container-id-3 div.sk-toggleable {background-color: white;}#sk-container-id-3 label.sk-toggleable__label {cursor: pointer;display: block;width: 100%;margin-bottom: 0;padding: 0.3em;box-sizing: border-box;text-align: center;}#sk-container-id-3 label.sk-toggleable__label-arrow:before {content: \"▸\";float: left;margin-right: 0.25em;color: #696969;}#sk-container-id-3 label.sk-toggleable__label-arrow:hover:before {color: black;}#sk-container-id-3 div.sk-estimator:hover label.sk-toggleable__label-arrow:before {color: black;}#sk-container-id-3 div.sk-toggleable__content {max-height: 0;max-width: 0;overflow: hidden;text-align: left;background-color: #f0f8ff;}#sk-container-id-3 div.sk-toggleable__content pre {margin: 0.2em;color: black;border-radius: 0.25em;background-color: #f0f8ff;}#sk-container-id-3 input.sk-toggleable__control:checked~div.sk-toggleable__content {max-height: 200px;max-width: 100%;overflow: auto;}#sk-container-id-3 input.sk-toggleable__control:checked~label.sk-toggleable__label-arrow:before {content: \"▾\";}#sk-container-id-3 div.sk-estimator input.sk-toggleable__control:checked~label.sk-toggleable__label {background-color: #d4ebff;}#sk-container-id-3 div.sk-label input.sk-toggleable__control:checked~label.sk-toggleable__label {background-color: #d4ebff;}#sk-container-id-3 input.sk-hidden--visually {border: 0;clip: rect(1px 1px 1px 1px);clip: rect(1px, 1px, 1px, 1px);height: 1px;margin: -1px;overflow: hidden;padding: 0;position: absolute;width: 1px;}#sk-container-id-3 div.sk-estimator {font-family: monospace;background-color: #f0f8ff;border: 1px dotted black;border-radius: 0.25em;box-sizing: border-box;margin-bottom: 0.5em;}#sk-container-id-3 div.sk-estimator:hover {background-color: #d4ebff;}#sk-container-id-3 div.sk-parallel-item::after {content: \"\";width: 100%;border-bottom: 1px solid gray;flex-grow: 1;}#sk-container-id-3 div.sk-label:hover label.sk-toggleable__label {background-color: #d4ebff;}#sk-container-id-3 div.sk-serial::before {content: \"\";position: absolute;border-left: 1px solid gray;box-sizing: border-box;top: 0;bottom: 0;left: 50%;z-index: 0;}#sk-container-id-3 div.sk-serial {display: flex;flex-direction: column;align-items: center;background-color: white;padding-right: 0.2em;padding-left: 0.2em;position: relative;}#sk-container-id-3 div.sk-item {position: relative;z-index: 1;}#sk-container-id-3 div.sk-parallel {display: flex;align-items: stretch;justify-content: center;background-color: white;position: relative;}#sk-container-id-3 div.sk-item::before, #sk-container-id-3 div.sk-parallel-item::before {content: \"\";position: absolute;border-left: 1px solid gray;box-sizing: border-box;top: 0;bottom: 0;left: 50%;z-index: -1;}#sk-container-id-3 div.sk-parallel-item {display: flex;flex-direction: column;z-index: 1;position: relative;background-color: white;}#sk-container-id-3 div.sk-parallel-item:first-child::after {align-self: flex-end;width: 50%;}#sk-container-id-3 div.sk-parallel-item:last-child::after {align-self: flex-start;width: 50%;}#sk-container-id-3 div.sk-parallel-item:only-child::after {width: 0;}#sk-container-id-3 div.sk-dashed-wrapped {border: 1px dashed gray;margin: 0 0.4em 0.5em 0.4em;box-sizing: border-box;padding-bottom: 0.4em;background-color: white;}#sk-container-id-3 div.sk-label label {font-family: monospace;font-weight: bold;display: inline-block;line-height: 1.2em;}#sk-container-id-3 div.sk-label-container {text-align: center;}#sk-container-id-3 div.sk-container {/* jupyter's `normalize.less` sets `[hidden] { display: none; }` but bootstrap.min.css set `[hidden] { display: none !important; }` so we also need the `!important` here to be able to override the default hidden behavior on the sphinx rendered scikit-learn.org. See: https://github.com/scikit-learn/scikit-learn/issues/21755 */display: inline-block !important;position: relative;}#sk-container-id-3 div.sk-text-repr-fallback {display: none;}</style><div id=\"sk-container-id-3\" class=\"sk-top-container\"><div class=\"sk-text-repr-fallback\"><pre>PCA(n_components=10)</pre><b>In a Jupyter environment, please rerun this cell to show the HTML representation or trust the notebook. <br />On GitHub, the HTML representation is unable to render, please try loading this page with nbviewer.org.</b></div><div class=\"sk-container\" hidden><div class=\"sk-item\"><div class=\"sk-estimator sk-toggleable\"><input class=\"sk-toggleable__control sk-hidden--visually\" id=\"sk-estimator-id-3\" type=\"checkbox\" checked><label for=\"sk-estimator-id-3\" class=\"sk-toggleable__label sk-toggleable__label-arrow\">PCA</label><div class=\"sk-toggleable__content\"><pre>PCA(n_components=10)</pre></div></div></div></div></div>"
            ]
          },
          "metadata": {},
          "execution_count": 22
        }
      ]
    },
    {
      "cell_type": "code",
      "source": [
        "x_norm_pca = pca.transform(x_norm)"
      ],
      "metadata": {
        "id": "BhTUjq5KtVJ5"
      },
      "id": "BhTUjq5KtVJ5",
      "execution_count": null,
      "outputs": []
    },
    {
      "cell_type": "code",
      "source": [
        "x_norm_pca.shape"
      ],
      "metadata": {
        "colab": {
          "base_uri": "https://localhost:8080/"
        },
        "id": "bV2FrZiDtfeA",
        "outputId": "efbfc01a-9885-4d2f-e5f4-7eb5b74c0c21"
      },
      "id": "bV2FrZiDtfeA",
      "execution_count": null,
      "outputs": [
        {
          "output_type": "execute_result",
          "data": {
            "text/plain": [
              "(569, 10)"
            ]
          },
          "metadata": {},
          "execution_count": 24
        }
      ]
    },
    {
      "cell_type": "code",
      "source": [
        "pca.components_.shape"
      ],
      "metadata": {
        "colab": {
          "base_uri": "https://localhost:8080/"
        },
        "id": "zZO4l1CqtioC",
        "outputId": "71b3857e-9be5-4bac-be7d-7033566de021"
      },
      "id": "zZO4l1CqtioC",
      "execution_count": null,
      "outputs": [
        {
          "output_type": "execute_result",
          "data": {
            "text/plain": [
              "(10, 30)"
            ]
          },
          "metadata": {},
          "execution_count": 25
        }
      ]
    },
    {
      "cell_type": "code",
      "source": [
        "pca.components_[0]"
      ],
      "metadata": {
        "colab": {
          "base_uri": "https://localhost:8080/"
        },
        "id": "PcyTpZX4tu9q",
        "outputId": "f2989ba1-7ef0-40e6-cdd8-5297fea104c7"
      },
      "id": "PcyTpZX4tu9q",
      "execution_count": null,
      "outputs": [
        {
          "output_type": "execute_result",
          "data": {
            "text/plain": [
              "array([ 2.42675774e-01,  9.64786101e-02,  2.52550175e-01,  2.16494530e-01,\n",
              "        1.09694618e-01,  2.40397602e-01,  3.01914206e-01,  3.22475470e-01,\n",
              "        1.11431911e-01,  4.32983397e-02,  1.21760615e-01, -3.91796003e-05,\n",
              "        1.18580603e-01,  1.03569266e-01, -4.68418094e-03,  1.29319789e-01,\n",
              "        6.56807080e-02,  1.24746120e-01,  1.44902467e-02,  4.55013416e-02,\n",
              "        2.59386850e-01,  1.13833007e-01,  2.60708399e-01,  2.05917767e-01,\n",
              "        1.23773566e-01,  2.04993413e-01,  2.44083623e-01,  3.71065064e-01,\n",
              "        9.59229054e-02,  9.46335142e-02])"
            ]
          },
          "metadata": {},
          "execution_count": 26
        }
      ]
    },
    {
      "cell_type": "code",
      "source": [
        "pca.explained_variance_ratio_"
      ],
      "metadata": {
        "colab": {
          "base_uri": "https://localhost:8080/"
        },
        "id": "jgmWdWhut449",
        "outputId": "677acc01-eaf9-44d5-cdde-2d3cfca95716"
      },
      "id": "jgmWdWhut449",
      "execution_count": null,
      "outputs": [
        {
          "output_type": "execute_result",
          "data": {
            "text/plain": [
              "array([0.53097689, 0.1728349 , 0.07114442, 0.06411259, 0.04086072,\n",
              "       0.03071494, 0.01580837, 0.01191472, 0.00988429, 0.00945446])"
            ]
          },
          "metadata": {},
          "execution_count": 27
        }
      ]
    },
    {
      "cell_type": "code",
      "source": [
        "pca2 = PCA(n_components=10)\n",
        "pca2.fit(x_norm_wo)"
      ],
      "metadata": {
        "colab": {
          "base_uri": "https://localhost:8080/",
          "height": 74
        },
        "id": "b57lStLFuKdO",
        "outputId": "85ac39ce-9011-470f-a7ae-2b0e50081bb0"
      },
      "id": "b57lStLFuKdO",
      "execution_count": null,
      "outputs": [
        {
          "output_type": "execute_result",
          "data": {
            "text/plain": [
              "PCA(n_components=10)"
            ],
            "text/html": [
              "<style>#sk-container-id-4 {color: black;background-color: white;}#sk-container-id-4 pre{padding: 0;}#sk-container-id-4 div.sk-toggleable {background-color: white;}#sk-container-id-4 label.sk-toggleable__label {cursor: pointer;display: block;width: 100%;margin-bottom: 0;padding: 0.3em;box-sizing: border-box;text-align: center;}#sk-container-id-4 label.sk-toggleable__label-arrow:before {content: \"▸\";float: left;margin-right: 0.25em;color: #696969;}#sk-container-id-4 label.sk-toggleable__label-arrow:hover:before {color: black;}#sk-container-id-4 div.sk-estimator:hover label.sk-toggleable__label-arrow:before {color: black;}#sk-container-id-4 div.sk-toggleable__content {max-height: 0;max-width: 0;overflow: hidden;text-align: left;background-color: #f0f8ff;}#sk-container-id-4 div.sk-toggleable__content pre {margin: 0.2em;color: black;border-radius: 0.25em;background-color: #f0f8ff;}#sk-container-id-4 input.sk-toggleable__control:checked~div.sk-toggleable__content {max-height: 200px;max-width: 100%;overflow: auto;}#sk-container-id-4 input.sk-toggleable__control:checked~label.sk-toggleable__label-arrow:before {content: \"▾\";}#sk-container-id-4 div.sk-estimator input.sk-toggleable__control:checked~label.sk-toggleable__label {background-color: #d4ebff;}#sk-container-id-4 div.sk-label input.sk-toggleable__control:checked~label.sk-toggleable__label {background-color: #d4ebff;}#sk-container-id-4 input.sk-hidden--visually {border: 0;clip: rect(1px 1px 1px 1px);clip: rect(1px, 1px, 1px, 1px);height: 1px;margin: -1px;overflow: hidden;padding: 0;position: absolute;width: 1px;}#sk-container-id-4 div.sk-estimator {font-family: monospace;background-color: #f0f8ff;border: 1px dotted black;border-radius: 0.25em;box-sizing: border-box;margin-bottom: 0.5em;}#sk-container-id-4 div.sk-estimator:hover {background-color: #d4ebff;}#sk-container-id-4 div.sk-parallel-item::after {content: \"\";width: 100%;border-bottom: 1px solid gray;flex-grow: 1;}#sk-container-id-4 div.sk-label:hover label.sk-toggleable__label {background-color: #d4ebff;}#sk-container-id-4 div.sk-serial::before {content: \"\";position: absolute;border-left: 1px solid gray;box-sizing: border-box;top: 0;bottom: 0;left: 50%;z-index: 0;}#sk-container-id-4 div.sk-serial {display: flex;flex-direction: column;align-items: center;background-color: white;padding-right: 0.2em;padding-left: 0.2em;position: relative;}#sk-container-id-4 div.sk-item {position: relative;z-index: 1;}#sk-container-id-4 div.sk-parallel {display: flex;align-items: stretch;justify-content: center;background-color: white;position: relative;}#sk-container-id-4 div.sk-item::before, #sk-container-id-4 div.sk-parallel-item::before {content: \"\";position: absolute;border-left: 1px solid gray;box-sizing: border-box;top: 0;bottom: 0;left: 50%;z-index: -1;}#sk-container-id-4 div.sk-parallel-item {display: flex;flex-direction: column;z-index: 1;position: relative;background-color: white;}#sk-container-id-4 div.sk-parallel-item:first-child::after {align-self: flex-end;width: 50%;}#sk-container-id-4 div.sk-parallel-item:last-child::after {align-self: flex-start;width: 50%;}#sk-container-id-4 div.sk-parallel-item:only-child::after {width: 0;}#sk-container-id-4 div.sk-dashed-wrapped {border: 1px dashed gray;margin: 0 0.4em 0.5em 0.4em;box-sizing: border-box;padding-bottom: 0.4em;background-color: white;}#sk-container-id-4 div.sk-label label {font-family: monospace;font-weight: bold;display: inline-block;line-height: 1.2em;}#sk-container-id-4 div.sk-label-container {text-align: center;}#sk-container-id-4 div.sk-container {/* jupyter's `normalize.less` sets `[hidden] { display: none; }` but bootstrap.min.css set `[hidden] { display: none !important; }` so we also need the `!important` here to be able to override the default hidden behavior on the sphinx rendered scikit-learn.org. See: https://github.com/scikit-learn/scikit-learn/issues/21755 */display: inline-block !important;position: relative;}#sk-container-id-4 div.sk-text-repr-fallback {display: none;}</style><div id=\"sk-container-id-4\" class=\"sk-top-container\"><div class=\"sk-text-repr-fallback\"><pre>PCA(n_components=10)</pre><b>In a Jupyter environment, please rerun this cell to show the HTML representation or trust the notebook. <br />On GitHub, the HTML representation is unable to render, please try loading this page with nbviewer.org.</b></div><div class=\"sk-container\" hidden><div class=\"sk-item\"><div class=\"sk-estimator sk-toggleable\"><input class=\"sk-toggleable__control sk-hidden--visually\" id=\"sk-estimator-id-4\" type=\"checkbox\" checked><label for=\"sk-estimator-id-4\" class=\"sk-toggleable__label sk-toggleable__label-arrow\">PCA</label><div class=\"sk-toggleable__content\"><pre>PCA(n_components=10)</pre></div></div></div></div></div>"
            ]
          },
          "metadata": {},
          "execution_count": 28
        }
      ]
    },
    {
      "cell_type": "code",
      "source": [
        "x_norm_wo_pca = pca2.transform(x_norm_wo)"
      ],
      "metadata": {
        "id": "f6ormqgbu1Z6"
      },
      "id": "f6ormqgbu1Z6",
      "execution_count": null,
      "outputs": []
    },
    {
      "cell_type": "code",
      "source": [
        "pca.components_[0] - pca2.components_[0]"
      ],
      "metadata": {
        "colab": {
          "base_uri": "https://localhost:8080/"
        },
        "id": "hp91aauhu9pj",
        "outputId": "fcb23eb0-5935-4f61-8f90-159e42490377"
      },
      "id": "hp91aauhu9pj",
      "execution_count": null,
      "outputs": [
        {
          "output_type": "execute_result",
          "data": {
            "text/plain": [
              "array([ 0.0004617 , -0.02036454,  0.0031195 ,  0.01370915, -0.00349078,\n",
              "        0.01277297,  0.02082859,  0.00534697,  0.00445653,  0.01896329,\n",
              "        0.02688448,  0.00731154,  0.03001476,  0.02894334,  0.0126049 ,\n",
              "        0.02358104,  0.01166253,  0.00866573,  0.03197052,  0.01265078,\n",
              "       -0.00443333, -0.03374799,  0.00050391,  0.01010482, -0.02882867,\n",
              "       -0.00999084, -0.0121608 , -0.03003506, -0.0138413 , -0.00953426])"
            ]
          },
          "metadata": {},
          "execution_count": 30
        }
      ]
    },
    {
      "cell_type": "markdown",
      "source": [
        "# Uczenie modeli - KLASYFIKACJA"
      ],
      "metadata": {
        "id": "xE3Ive5NvYbN"
      },
      "id": "xE3Ive5NvYbN"
    },
    {
      "cell_type": "code",
      "source": [
        "from sklearn.model_selection import train_test_split\n",
        "from sklearn.neighbors import KNeighborsClassifier"
      ],
      "metadata": {
        "id": "l8jaUOIEvCdd"
      },
      "id": "l8jaUOIEvCdd",
      "execution_count": null,
      "outputs": []
    },
    {
      "cell_type": "markdown",
      "source": [
        "### utworzenie modeli (przykład - algorytm k-najbbliższych sąsiadów)"
      ],
      "metadata": {
        "id": "aMMAfKobWyoF"
      },
      "id": "aMMAfKobWyoF"
    },
    {
      "cell_type": "code",
      "source": [
        "kNN = KNeighborsClassifier(n_neighbors=5, weights='distance')\n",
        "kNN2 = KNeighborsClassifier(n_neighbors=10, weights='distance')\n",
        "kNN3 = KNeighborsClassifier(n_neighbors=15, weights='distance')"
      ],
      "metadata": {
        "id": "OnvJ3JR1v4Tj"
      },
      "id": "OnvJ3JR1v4Tj",
      "execution_count": null,
      "outputs": []
    },
    {
      "cell_type": "markdown",
      "source": [
        "### podział zbioru danych na treningowe i testowe metodą train_test_split"
      ],
      "metadata": {
        "id": "GwxPgy_iW4XF"
      },
      "id": "GwxPgy_iW4XF"
    },
    {
      "cell_type": "code",
      "source": [
        "x_norm_train, x_norm_test, y_norm_train, y_norm_test = train_test_split(x_norm, y, test_size=0.15, shuffle=True, stratify=y)"
      ],
      "metadata": {
        "id": "jte_3J70wzDr"
      },
      "id": "jte_3J70wzDr",
      "execution_count": null,
      "outputs": []
    },
    {
      "cell_type": "code",
      "source": [
        "y_norm_train.shape"
      ],
      "metadata": {
        "colab": {
          "base_uri": "https://localhost:8080/"
        },
        "id": "ccPJiAzdyqxx",
        "outputId": "15438a64-6600-4f0b-818d-c2fd772d3f2f"
      },
      "id": "ccPJiAzdyqxx",
      "execution_count": null,
      "outputs": [
        {
          "output_type": "execute_result",
          "data": {
            "text/plain": [
              "(483,)"
            ]
          },
          "metadata": {},
          "execution_count": 35
        }
      ]
    },
    {
      "cell_type": "code",
      "source": [
        "y_norm_test.shape"
      ],
      "metadata": {
        "colab": {
          "base_uri": "https://localhost:8080/"
        },
        "id": "O4FyUVVky7K6",
        "outputId": "7ebfdf3b-5c50-4cc1-f723-5398b383be9b"
      },
      "id": "O4FyUVVky7K6",
      "execution_count": null,
      "outputs": [
        {
          "output_type": "execute_result",
          "data": {
            "text/plain": [
              "(86,)"
            ]
          },
          "metadata": {},
          "execution_count": 36
        }
      ]
    },
    {
      "cell_type": "code",
      "source": [
        "sum(y_norm_train)/589"
      ],
      "metadata": {
        "colab": {
          "base_uri": "https://localhost:8080/"
        },
        "id": "lt_t3bVry-cF",
        "outputId": "1cb604cb-021d-4a74-e53d-042cdb4fbc11"
      },
      "id": "lt_t3bVry-cF",
      "execution_count": null,
      "outputs": [
        {
          "output_type": "execute_result",
          "data": {
            "text/plain": [
              "0.5144312393887945"
            ]
          },
          "metadata": {},
          "execution_count": 37
        }
      ]
    },
    {
      "cell_type": "markdown",
      "source": [
        "### Dopasowanie modeli do danych treningowych"
      ],
      "metadata": {
        "id": "NiUxKr70W_G-"
      },
      "id": "NiUxKr70W_G-"
    },
    {
      "cell_type": "code",
      "source": [
        "kNN.fit(x_norm_train, y_norm_train)\n",
        "kNN2.fit(x_norm_train, y_norm_train)\n",
        "kNN3.fit(x_norm_train, y_norm_train)"
      ],
      "metadata": {
        "colab": {
          "base_uri": "https://localhost:8080/",
          "height": 74
        },
        "id": "1gSIlZzXztlS",
        "outputId": "3be68475-36c0-4f8e-9d10-4b9a1c097a4c"
      },
      "id": "1gSIlZzXztlS",
      "execution_count": null,
      "outputs": [
        {
          "output_type": "execute_result",
          "data": {
            "text/plain": [
              "KNeighborsClassifier(n_neighbors=15, weights='distance')"
            ],
            "text/html": [
              "<style>#sk-container-id-10 {color: black;background-color: white;}#sk-container-id-10 pre{padding: 0;}#sk-container-id-10 div.sk-toggleable {background-color: white;}#sk-container-id-10 label.sk-toggleable__label {cursor: pointer;display: block;width: 100%;margin-bottom: 0;padding: 0.3em;box-sizing: border-box;text-align: center;}#sk-container-id-10 label.sk-toggleable__label-arrow:before {content: \"▸\";float: left;margin-right: 0.25em;color: #696969;}#sk-container-id-10 label.sk-toggleable__label-arrow:hover:before {color: black;}#sk-container-id-10 div.sk-estimator:hover label.sk-toggleable__label-arrow:before {color: black;}#sk-container-id-10 div.sk-toggleable__content {max-height: 0;max-width: 0;overflow: hidden;text-align: left;background-color: #f0f8ff;}#sk-container-id-10 div.sk-toggleable__content pre {margin: 0.2em;color: black;border-radius: 0.25em;background-color: #f0f8ff;}#sk-container-id-10 input.sk-toggleable__control:checked~div.sk-toggleable__content {max-height: 200px;max-width: 100%;overflow: auto;}#sk-container-id-10 input.sk-toggleable__control:checked~label.sk-toggleable__label-arrow:before {content: \"▾\";}#sk-container-id-10 div.sk-estimator input.sk-toggleable__control:checked~label.sk-toggleable__label {background-color: #d4ebff;}#sk-container-id-10 div.sk-label input.sk-toggleable__control:checked~label.sk-toggleable__label {background-color: #d4ebff;}#sk-container-id-10 input.sk-hidden--visually {border: 0;clip: rect(1px 1px 1px 1px);clip: rect(1px, 1px, 1px, 1px);height: 1px;margin: -1px;overflow: hidden;padding: 0;position: absolute;width: 1px;}#sk-container-id-10 div.sk-estimator {font-family: monospace;background-color: #f0f8ff;border: 1px dotted black;border-radius: 0.25em;box-sizing: border-box;margin-bottom: 0.5em;}#sk-container-id-10 div.sk-estimator:hover {background-color: #d4ebff;}#sk-container-id-10 div.sk-parallel-item::after {content: \"\";width: 100%;border-bottom: 1px solid gray;flex-grow: 1;}#sk-container-id-10 div.sk-label:hover label.sk-toggleable__label {background-color: #d4ebff;}#sk-container-id-10 div.sk-serial::before {content: \"\";position: absolute;border-left: 1px solid gray;box-sizing: border-box;top: 0;bottom: 0;left: 50%;z-index: 0;}#sk-container-id-10 div.sk-serial {display: flex;flex-direction: column;align-items: center;background-color: white;padding-right: 0.2em;padding-left: 0.2em;position: relative;}#sk-container-id-10 div.sk-item {position: relative;z-index: 1;}#sk-container-id-10 div.sk-parallel {display: flex;align-items: stretch;justify-content: center;background-color: white;position: relative;}#sk-container-id-10 div.sk-item::before, #sk-container-id-10 div.sk-parallel-item::before {content: \"\";position: absolute;border-left: 1px solid gray;box-sizing: border-box;top: 0;bottom: 0;left: 50%;z-index: -1;}#sk-container-id-10 div.sk-parallel-item {display: flex;flex-direction: column;z-index: 1;position: relative;background-color: white;}#sk-container-id-10 div.sk-parallel-item:first-child::after {align-self: flex-end;width: 50%;}#sk-container-id-10 div.sk-parallel-item:last-child::after {align-self: flex-start;width: 50%;}#sk-container-id-10 div.sk-parallel-item:only-child::after {width: 0;}#sk-container-id-10 div.sk-dashed-wrapped {border: 1px dashed gray;margin: 0 0.4em 0.5em 0.4em;box-sizing: border-box;padding-bottom: 0.4em;background-color: white;}#sk-container-id-10 div.sk-label label {font-family: monospace;font-weight: bold;display: inline-block;line-height: 1.2em;}#sk-container-id-10 div.sk-label-container {text-align: center;}#sk-container-id-10 div.sk-container {/* jupyter's `normalize.less` sets `[hidden] { display: none; }` but bootstrap.min.css set `[hidden] { display: none !important; }` so we also need the `!important` here to be able to override the default hidden behavior on the sphinx rendered scikit-learn.org. See: https://github.com/scikit-learn/scikit-learn/issues/21755 */display: inline-block !important;position: relative;}#sk-container-id-10 div.sk-text-repr-fallback {display: none;}</style><div id=\"sk-container-id-10\" class=\"sk-top-container\"><div class=\"sk-text-repr-fallback\"><pre>KNeighborsClassifier(n_neighbors=15, weights=&#x27;distance&#x27;)</pre><b>In a Jupyter environment, please rerun this cell to show the HTML representation or trust the notebook. <br />On GitHub, the HTML representation is unable to render, please try loading this page with nbviewer.org.</b></div><div class=\"sk-container\" hidden><div class=\"sk-item\"><div class=\"sk-estimator sk-toggleable\"><input class=\"sk-toggleable__control sk-hidden--visually\" id=\"sk-estimator-id-14\" type=\"checkbox\" checked><label for=\"sk-estimator-id-14\" class=\"sk-toggleable__label sk-toggleable__label-arrow\">KNeighborsClassifier</label><div class=\"sk-toggleable__content\"><pre>KNeighborsClassifier(n_neighbors=15, weights=&#x27;distance&#x27;)</pre></div></div></div></div></div>"
            ]
          },
          "metadata": {},
          "execution_count": 102
        }
      ]
    },
    {
      "cell_type": "markdown",
      "source": [
        "### predykcja danych testowych i ewaluacja modeli"
      ],
      "metadata": {
        "id": "oErVw7X0XDQO"
      },
      "id": "oErVw7X0XDQO"
    },
    {
      "cell_type": "code",
      "source": [
        "y_pred = kNN.predict(x_norm_test)"
      ],
      "metadata": {
        "id": "Q0Un0w9F0uNe"
      },
      "id": "Q0Un0w9F0uNe",
      "execution_count": null,
      "outputs": []
    },
    {
      "cell_type": "code",
      "source": [
        "kNN.score(x_norm_test, y_norm_test)"
      ],
      "metadata": {
        "colab": {
          "base_uri": "https://localhost:8080/"
        },
        "id": "wutXzMLL07Uu",
        "outputId": "490f37a9-7693-40fd-ee60-30db1df98182"
      },
      "id": "wutXzMLL07Uu",
      "execution_count": null,
      "outputs": [
        {
          "output_type": "execute_result",
          "data": {
            "text/plain": [
              "0.9767441860465116"
            ]
          },
          "metadata": {},
          "execution_count": 40
        }
      ]
    },
    {
      "cell_type": "code",
      "source": [
        "kNN.score(x_norm_train, y_norm_train)"
      ],
      "metadata": {
        "colab": {
          "base_uri": "https://localhost:8080/"
        },
        "id": "4Xra_ATN09gv",
        "outputId": "381ba108-eccf-4974-c9d2-b9489ab4f52f"
      },
      "id": "4Xra_ATN09gv",
      "execution_count": null,
      "outputs": [
        {
          "output_type": "execute_result",
          "data": {
            "text/plain": [
              "1.0"
            ]
          },
          "metadata": {},
          "execution_count": 41
        }
      ]
    },
    {
      "cell_type": "code",
      "source": [
        "y_pred_proba = kNN.predict_proba(x_norm_test)"
      ],
      "metadata": {
        "id": "rZ9ugKpu1O8A"
      },
      "id": "rZ9ugKpu1O8A",
      "execution_count": null,
      "outputs": []
    },
    {
      "cell_type": "code",
      "source": [
        "y_pred_proba"
      ],
      "metadata": {
        "colab": {
          "base_uri": "https://localhost:8080/"
        },
        "id": "x4tFm80D1X-I",
        "outputId": "e7488c84-9bcc-466c-93e7-1efde236571c"
      },
      "id": "x4tFm80D1X-I",
      "execution_count": null,
      "outputs": [
        {
          "output_type": "execute_result",
          "data": {
            "text/plain": [
              "array([[0.        , 1.        ],\n",
              "       [1.        , 0.        ],\n",
              "       [0.        , 1.        ],\n",
              "       [0.        , 1.        ],\n",
              "       [1.        , 0.        ],\n",
              "       [0.        , 1.        ],\n",
              "       [1.        , 0.        ],\n",
              "       [0.20170214, 0.79829786],\n",
              "       [0.        , 1.        ],\n",
              "       [0.80934273, 0.19065727],\n",
              "       [0.58679231, 0.41320769],\n",
              "       [0.18379237, 0.81620763],\n",
              "       [0.        , 1.        ],\n",
              "       [1.        , 0.        ],\n",
              "       [1.        , 0.        ],\n",
              "       [1.        , 0.        ],\n",
              "       [0.        , 1.        ],\n",
              "       [0.        , 1.        ],\n",
              "       [1.        , 0.        ],\n",
              "       [1.        , 0.        ],\n",
              "       [0.        , 1.        ],\n",
              "       [0.59759108, 0.40240892],\n",
              "       [0.        , 1.        ],\n",
              "       [1.        , 0.        ],\n",
              "       [0.        , 1.        ],\n",
              "       [1.        , 0.        ],\n",
              "       [0.        , 1.        ],\n",
              "       [1.        , 0.        ],\n",
              "       [0.        , 1.        ],\n",
              "       [0.        , 1.        ],\n",
              "       [0.7884218 , 0.2115782 ],\n",
              "       [1.        , 0.        ],\n",
              "       [1.        , 0.        ],\n",
              "       [0.        , 1.        ],\n",
              "       [1.        , 0.        ],\n",
              "       [1.        , 0.        ],\n",
              "       [0.        , 1.        ],\n",
              "       [1.        , 0.        ],\n",
              "       [0.79300568, 0.20699432],\n",
              "       [0.        , 1.        ],\n",
              "       [1.        , 0.        ],\n",
              "       [0.81490693, 0.18509307],\n",
              "       [0.        , 1.        ],\n",
              "       [0.        , 1.        ],\n",
              "       [0.        , 1.        ],\n",
              "       [1.        , 0.        ],\n",
              "       [0.        , 1.        ],\n",
              "       [0.        , 1.        ],\n",
              "       [0.        , 1.        ],\n",
              "       [0.        , 1.        ],\n",
              "       [0.        , 1.        ],\n",
              "       [1.        , 0.        ],\n",
              "       [0.22007098, 0.77992902],\n",
              "       [1.        , 0.        ],\n",
              "       [1.        , 0.        ],\n",
              "       [0.82001914, 0.17998086],\n",
              "       [0.18768402, 0.81231598],\n",
              "       [0.21061055, 0.78938945],\n",
              "       [0.        , 1.        ],\n",
              "       [0.        , 1.        ],\n",
              "       [0.        , 1.        ],\n",
              "       [0.        , 1.        ],\n",
              "       [0.        , 1.        ],\n",
              "       [0.        , 1.        ],\n",
              "       [1.        , 0.        ],\n",
              "       [0.        , 1.        ],\n",
              "       [1.        , 0.        ],\n",
              "       [0.        , 1.        ],\n",
              "       [0.        , 1.        ],\n",
              "       [1.        , 0.        ],\n",
              "       [1.        , 0.        ],\n",
              "       [0.        , 1.        ],\n",
              "       [0.        , 1.        ],\n",
              "       [0.        , 1.        ],\n",
              "       [0.        , 1.        ],\n",
              "       [0.        , 1.        ],\n",
              "       [0.        , 1.        ],\n",
              "       [0.        , 1.        ],\n",
              "       [0.        , 1.        ],\n",
              "       [0.        , 1.        ],\n",
              "       [0.        , 1.        ],\n",
              "       [0.        , 1.        ],\n",
              "       [0.1883256 , 0.8116744 ],\n",
              "       [0.        , 1.        ],\n",
              "       [0.        , 1.        ],\n",
              "       [0.        , 1.        ]])"
            ]
          },
          "metadata": {},
          "execution_count": 43
        }
      ]
    },
    {
      "cell_type": "code",
      "source": [
        "kNN.kneighbors(x_norm_test)"
      ],
      "metadata": {
        "colab": {
          "base_uri": "https://localhost:8080/"
        },
        "id": "B8vN0pgT1Zvn",
        "outputId": "05f31a53-320c-4a82-b16f-38298a967663"
      },
      "id": "B8vN0pgT1Zvn",
      "execution_count": null,
      "outputs": [
        {
          "output_type": "execute_result",
          "data": {
            "text/plain": [
              "(array([[0.28213544, 0.29169464, 0.31109017, 0.31949296, 0.32144259],\n",
              "        [0.25072906, 0.25500195, 0.33826063, 0.38210589, 0.3837567 ],\n",
              "        [0.26212837, 0.34484388, 0.34915116, 0.35635447, 0.37079248],\n",
              "        [0.25341958, 0.27687369, 0.27731449, 0.2823136 , 0.29190372],\n",
              "        [0.32278486, 0.33620237, 0.36884124, 0.37822593, 0.40874079],\n",
              "        [0.24905036, 0.29196542, 0.30907733, 0.31581723, 0.32145512],\n",
              "        [0.38888191, 0.41470845, 0.41752548, 0.435971  , 0.46795621],\n",
              "        [0.29451186, 0.29520494, 0.29561045, 0.29807622, 0.30545077],\n",
              "        [0.38238101, 0.41247445, 0.43832056, 0.45686567, 0.45779263],\n",
              "        [0.46405842, 0.48094212, 0.53460674, 0.53674198, 0.542536  ],\n",
              "        [0.43561744, 0.47978153, 0.50637643, 0.50970167, 0.51432412],\n",
              "        [0.26108382, 0.34441114, 0.36443105, 0.36479867, 0.37092978],\n",
              "        [0.61089405, 0.79145792, 0.80718797, 0.86329132, 0.91072189],\n",
              "        [0.38657124, 0.40367148, 0.42519713, 0.45306095, 0.47688747],\n",
              "        [0.35481402, 0.42910077, 0.50814582, 0.52901564, 0.57083535],\n",
              "        [0.3834566 , 0.45117926, 0.54806676, 0.56122156, 0.57485316],\n",
              "        [0.218332  , 0.24848106, 0.24858181, 0.26823299, 0.27243557],\n",
              "        [0.23603188, 0.23999623, 0.25491709, 0.27347563, 0.28587917],\n",
              "        [0.33905682, 0.37314825, 0.43161621, 0.43263811, 0.44171863],\n",
              "        [0.3318214 , 0.35805795, 0.37258454, 0.38748844, 0.387673  ],\n",
              "        [0.16494022, 0.20360604, 0.23179186, 0.24951413, 0.25194908],\n",
              "        [0.27188288, 0.30265196, 0.31111316, 0.33128813, 0.33518152],\n",
              "        [0.20790439, 0.22245087, 0.22946785, 0.24020632, 0.24050699],\n",
              "        [0.32676752, 0.38718758, 0.40047196, 0.40089798, 0.40608494],\n",
              "        [0.37575982, 0.49203821, 0.50945   , 0.54245351, 0.5439742 ],\n",
              "        [0.43622992, 0.47462438, 0.49152437, 0.509479  , 0.53116544],\n",
              "        [0.35561656, 0.40146783, 0.44028198, 0.44963667, 0.45321116],\n",
              "        [0.53672396, 0.59217828, 0.64305322, 0.64460793, 0.70432697],\n",
              "        [0.16195764, 0.23881575, 0.26443633, 0.30015077, 0.31903024],\n",
              "        [0.27127055, 0.32356722, 0.33953459, 0.36386305, 0.3772184 ],\n",
              "        [0.28872122, 0.2976329 , 0.30798623, 0.34290364, 0.34561991],\n",
              "        [0.33107114, 0.36017104, 0.39268501, 0.43572979, 0.44447323],\n",
              "        [0.4245105 , 0.42750016, 0.44036987, 0.44353763, 0.4485904 ],\n",
              "        [0.18212839, 0.2111808 , 0.22246236, 0.22422704, 0.23528419],\n",
              "        [0.34944302, 0.42577938, 0.44838107, 0.44993252, 0.45255742],\n",
              "        [0.28015467, 0.32988023, 0.3458739 , 0.38681663, 0.38885746],\n",
              "        [0.22151771, 0.22692727, 0.24686898, 0.24766957, 0.24960146],\n",
              "        [0.29456834, 0.34507155, 0.35955649, 0.3922411 , 0.39753269],\n",
              "        [0.37299832, 0.38614899, 0.39297765, 0.42438367, 0.42750356],\n",
              "        [0.2682078 , 0.28793151, 0.29034031, 0.31541392, 0.34373445],\n",
              "        [0.33440939, 0.36555557, 0.37135146, 0.41892849, 0.42249642],\n",
              "        [0.510582  , 0.51532206, 0.51877337, 0.52802857, 0.5702561 ],\n",
              "        [0.40395063, 0.40762696, 0.41473473, 0.43038258, 0.43050106],\n",
              "        [0.31370675, 0.3379558 , 0.34516125, 0.34943705, 0.35264298],\n",
              "        [0.20410506, 0.21981407, 0.22716398, 0.23433859, 0.24808216],\n",
              "        [0.46674959, 0.52790041, 0.61311374, 0.64111581, 0.7294303 ],\n",
              "        [0.26059081, 0.28158204, 0.28395147, 0.29484356, 0.2963396 ],\n",
              "        [0.26213556, 0.27547382, 0.31440055, 0.32252675, 0.3301813 ],\n",
              "        [0.28752298, 0.3291163 , 0.33875749, 0.34245316, 0.34626773],\n",
              "        [0.24095423, 0.26940719, 0.28048174, 0.29957053, 0.30507314],\n",
              "        [0.23601873, 0.29089455, 0.29637293, 0.29922788, 0.29958237],\n",
              "        [0.37234401, 0.47331613, 0.47636967, 0.49754618, 0.49892593],\n",
              "        [0.33991296, 0.37847624, 0.38331487, 0.38594589, 0.386977  ],\n",
              "        [0.28469178, 0.34435655, 0.38290986, 0.38332708, 0.38402383],\n",
              "        [0.24397758, 0.27214219, 0.3168232 , 0.32658068, 0.3467208 ],\n",
              "        [0.25283034, 0.27527959, 0.27745623, 0.31953774, 0.32610563],\n",
              "        [0.30114866, 0.33904613, 0.34599521, 0.35525949, 0.36142446],\n",
              "        [0.273256  , 0.2793071 , 0.29849477, 0.30608763, 0.31821522],\n",
              "        [0.23124389, 0.24471445, 0.25810083, 0.25860077, 0.26143188],\n",
              "        [0.32299477, 0.32528712, 0.33321484, 0.37786362, 0.3856623 ],\n",
              "        [0.16855844, 0.20124662, 0.23571221, 0.24181572, 0.25236772],\n",
              "        [0.16831985, 0.21784544, 0.22880894, 0.23675647, 0.23853788],\n",
              "        [0.18684222, 0.22695489, 0.23762249, 0.25528444, 0.26073739],\n",
              "        [0.17529342, 0.21498126, 0.22012265, 0.24412946, 0.24519668],\n",
              "        [0.35796521, 0.38162589, 0.40817249, 0.40955515, 0.43910989],\n",
              "        [0.31214278, 0.34731285, 0.37544669, 0.38164275, 0.39121677],\n",
              "        [0.26742761, 0.31359571, 0.3272144 , 0.35726423, 0.38494817],\n",
              "        [0.17669398, 0.18358636, 0.23677293, 0.23793995, 0.2435844 ],\n",
              "        [0.7256335 , 0.73768622, 0.73798641, 0.75458501, 0.77112743],\n",
              "        [0.51166326, 0.52941162, 0.5404856 , 0.54862598, 0.57764179],\n",
              "        [0.32136605, 0.38728598, 0.39252325, 0.40253279, 0.41033521],\n",
              "        [0.76050659, 0.78097177, 0.80085352, 0.81223608, 0.81317423],\n",
              "        [0.2813551 , 0.30788363, 0.34519129, 0.36108358, 0.36275216],\n",
              "        [0.2829445 , 0.30159093, 0.33237115, 0.34483505, 0.3596037 ],\n",
              "        [0.21972684, 0.26273727, 0.27114135, 0.27262741, 0.27521375],\n",
              "        [0.18156114, 0.24052233, 0.24076033, 0.24320999, 0.24723553],\n",
              "        [0.24577217, 0.24673423, 0.29998515, 0.30036594, 0.33685838],\n",
              "        [0.36082821, 0.42100002, 0.43352287, 0.46032817, 0.47238288],\n",
              "        [0.17594079, 0.18859736, 0.20082198, 0.25486762, 0.264825  ],\n",
              "        [0.24503338, 0.25558916, 0.26245092, 0.27067672, 0.27690874],\n",
              "        [0.32108826, 0.38464035, 0.39277731, 0.41222097, 0.41510913],\n",
              "        [0.27910997, 0.27957825, 0.2909606 , 0.29968007, 0.30007992],\n",
              "        [0.33567363, 0.4032001 , 0.40818835, 0.41752108, 0.41827225],\n",
              "        [0.22845652, 0.256192  , 0.31932209, 0.32308549, 0.3252421 ],\n",
              "        [0.18356129, 0.21862778, 0.25290697, 0.25574399, 0.26823402],\n",
              "        [0.28010688, 0.40286182, 0.41537251, 0.41776152, 0.42066909]]),\n",
              " array([[340, 394,   6,  65, 329],\n",
              "        [168, 396, 136, 114, 391],\n",
              "        [ 38, 415, 374, 232, 215],\n",
              "        [211, 308, 325, 342, 254],\n",
              "        [114, 391, 363,  82, 102],\n",
              "        [345, 403, 127, 280, 192],\n",
              "        [417, 434, 304, 397, 134],\n",
              "        [ 80, 100, 259, 284, 336],\n",
              "        [199, 154, 420, 461,  39],\n",
              "        [134, 417, 303, 272, 304],\n",
              "        [371, 298, 347, 177, 127],\n",
              "        [249, 346, 394, 362,  86],\n",
              "        [477, 383, 251, 307, 113],\n",
              "        [363, 391, 114, 397, 482],\n",
              "        [366,  44, 219,  22, 472],\n",
              "        [ 26, 441, 191, 104,  24],\n",
              "        [308, 141, 250, 464,  76],\n",
              "        [ 62, 405, 401,  39, 267],\n",
              "        [142, 304, 417, 104, 135],\n",
              "        [272, 304, 134, 194, 434],\n",
              "        [405,  16, 267,  19, 105],\n",
              "        [158, 424, 179, 184, 362],\n",
              "        [159, 258, 404, 467, 326],\n",
              "        [ 53, 397, 247, 408, 338],\n",
              "        [160,  12, 169, 260, 109],\n",
              "        [441, 476, 322, 143, 202],\n",
              "        [ 14, 453, 420,  48, 154],\n",
              "        [ 50,  22, 411,  44, 366],\n",
              "        [197, 159, 404, 215, 167],\n",
              "        [154, 288, 420,  78,  48],\n",
              "        [296,  12, 184, 410, 112],\n",
              "        [328, 305, 435,  73, 257],\n",
              "        [ 26, 114, 482,  43, 244],\n",
              "        [  2,  16, 119,  19, 409],\n",
              "        [116,  13, 146, 373, 274],\n",
              "        [296, 184,  40, 410, 191],\n",
              "        [152,   3, 470, 148,  94],\n",
              "        [134, 194, 272, 475, 304],\n",
              "        [360, 303, 476, 316, 417],\n",
              "        [461, 401,  39, 361, 199],\n",
              "        [316, 476, 360, 202, 143],\n",
              "        [476, 316, 360, 112, 303],\n",
              "        [103, 299, 250, 141, 153],\n",
              "        [279, 221, 237, 464, 254],\n",
              "        [  6, 368, 345,   2, 409],\n",
              "        [  7, 472, 411, 227, 366],\n",
              "        [481, 317, 395, 386, 422],\n",
              "        [ 48, 429,  95, 461, 154],\n",
              "        [433, 444, 211, 264, 418],\n",
              "        [381, 294, 103, 345, 446],\n",
              "        [470, 254,  16, 121, 148],\n",
              "        [196, 320, 390, 106, 373],\n",
              "        [158,  35, 101, 226, 283],\n",
              "        [102, 274, 195, 246, 244],\n",
              "        [222, 379, 136, 434,   9],\n",
              "        [448,  46, 177, 199, 176],\n",
              "        [261, 283, 294, 226, 158],\n",
              "        [294, 158, 381, 103, 101],\n",
              "        [299, 456, 381, 250, 394],\n",
              "        [424, 385,  45, 276, 352],\n",
              "        [318,  59,  88, 148, 127],\n",
              "        [254, 470, 221, 325, 308],\n",
              "        [398, 404, 132, 253, 150],\n",
              "        [ 39, 401,  62, 333, 461],\n",
              "        [396, 168, 465, 136, 439],\n",
              "        [229,  84, 415, 374,  64],\n",
              "        [ 73, 397, 338, 408,  53],\n",
              "        [329, 275, 313, 431,  39],\n",
              "        [290, 416, 249,  66,  57],\n",
              "        [417, 471, 360, 316, 476],\n",
              "        [202, 184, 316, 112, 301],\n",
              "        [217, 206, 388, 295, 372],\n",
              "        [ 91, 369, 285, 249, 416],\n",
              "        [369,  91,  87, 385, 478],\n",
              "        [308, 250, 230, 279, 175],\n",
              "        [243, 445,  54, 225,  88],\n",
              "        [  1, 261, 226,  80, 336],\n",
              "        [389, 286, 123,  57, 361],\n",
              "        [308, 175, 293, 279, 254],\n",
              "        [394,  70, 275, 323, 351],\n",
              "        [312, 415, 232, 145, 198],\n",
              "        [450, 405, 399, 111,  62],\n",
              "        [ 86, 369, 394, 381, 158],\n",
              "        [ 64, 171, 181,  86, 275],\n",
              "        [283, 460, 149, 474,   1],\n",
              "        [385,  45, 276, 172, 478]]))"
            ]
          },
          "metadata": {},
          "execution_count": 44
        }
      ]
    },
    {
      "cell_type": "code",
      "source": [
        "from sklearn.metrics import accuracy_score, precision_score, recall_score, f1_score, confusion_matrix"
      ],
      "metadata": {
        "id": "RO6r3nEo2SNp"
      },
      "id": "RO6r3nEo2SNp",
      "execution_count": null,
      "outputs": []
    },
    {
      "cell_type": "code",
      "source": [
        "print('accuracy: ', accuracy_score(y_norm_test, y_pred))\n",
        "print('precision: ', precision_score(y_norm_test, y_pred))\n",
        "print('recall: ', recall_score(y_norm_test, y_pred))\n",
        "print('f1-score: ', f1_score(y_norm_test, y_pred))"
      ],
      "metadata": {
        "colab": {
          "base_uri": "https://localhost:8080/"
        },
        "id": "ph4X3hYf3ENT",
        "outputId": "a111ce2a-26e3-4749-dc1c-278d3ec19f5a"
      },
      "id": "ph4X3hYf3ENT",
      "execution_count": null,
      "outputs": [
        {
          "output_type": "stream",
          "name": "stdout",
          "text": [
            "accuracy:  0.9767441860465116\n",
            "precision:  0.9814814814814815\n",
            "recall:  0.9814814814814815\n",
            "f1-score:  0.9814814814814815\n"
          ]
        }
      ]
    },
    {
      "cell_type": "code",
      "source": [
        "confusion_matrix(y_norm_test, y_pred)"
      ],
      "metadata": {
        "colab": {
          "base_uri": "https://localhost:8080/"
        },
        "id": "EYayabee3OoZ",
        "outputId": "07151e12-fd5c-42f0-ac39-63c8d4cb617c"
      },
      "id": "EYayabee3OoZ",
      "execution_count": null,
      "outputs": [
        {
          "output_type": "execute_result",
          "data": {
            "text/plain": [
              "array([[31,  1],\n",
              "       [ 1, 53]])"
            ]
          },
          "metadata": {},
          "execution_count": 47
        }
      ]
    },
    {
      "cell_type": "markdown",
      "source": [
        "# Uczenie Modeli - REGRESJA"
      ],
      "metadata": {
        "id": "LeqCJxil4wrn"
      },
      "id": "LeqCJxil4wrn"
    },
    {
      "cell_type": "markdown",
      "source": [
        "### utworzenie sztucznego zbioru danych"
      ],
      "metadata": {
        "id": "i_g-0WYBXaTV"
      },
      "id": "i_g-0WYBXaTV"
    },
    {
      "cell_type": "code",
      "source": [
        "xr = np.sort(10*np.random.rand(30))"
      ],
      "metadata": {
        "id": "Q-E52CYY4boj"
      },
      "id": "Q-E52CYY4boj",
      "execution_count": null,
      "outputs": []
    },
    {
      "cell_type": "code",
      "source": [
        "yr = np.sin(xr) + 0.5*(0.5-np.random.rand(30))"
      ],
      "metadata": {
        "id": "ih4MNerM49NM"
      },
      "id": "ih4MNerM49NM",
      "execution_count": null,
      "outputs": []
    },
    {
      "cell_type": "code",
      "source": [
        "plt.scatter(xr, yr)"
      ],
      "metadata": {
        "colab": {
          "base_uri": "https://localhost:8080/",
          "height": 282
        },
        "id": "HcTDmLWO4-1q",
        "outputId": "57de9b83-064e-4297-8cb1-2e6b1336faad"
      },
      "id": "HcTDmLWO4-1q",
      "execution_count": null,
      "outputs": [
        {
          "output_type": "execute_result",
          "data": {
            "text/plain": [
              "<matplotlib.collections.PathCollection at 0x7f3e2aeb4dc0>"
            ]
          },
          "metadata": {},
          "execution_count": 50
        },
        {
          "output_type": "display_data",
          "data": {
            "text/plain": [
              "<Figure size 432x288 with 1 Axes>"
            ],
            "image/png": "[encoded data removed]"
          },
          "metadata": {
            "needs_background": "light"
          }
        }
      ]
    },
    {
      "cell_type": "code",
      "source": [
        "from sklearn.neighbors import KNeighborsRegressor\n",
        "from sklearn.metrics import mean_squared_error"
      ],
      "metadata": {
        "id": "SQsHeCbF5OBi"
      },
      "id": "SQsHeCbF5OBi",
      "execution_count": null,
      "outputs": []
    },
    {
      "cell_type": "markdown",
      "source": [
        "### utworzenie modeli (przykład - k-najbliżzych sąsiadów)"
      ],
      "metadata": {
        "id": "vyA0wa8BXeYw"
      },
      "id": "vyA0wa8BXeYw"
    },
    {
      "cell_type": "code",
      "source": [
        "kNR = KNeighborsRegressor(n_neighbors=3, weights='uniform')\n",
        "kNR2 = KNeighborsRegressor(n_neighbors=3, weights='distance')"
      ],
      "metadata": {
        "id": "Ub4bjxFm5xWc"
      },
      "id": "Ub4bjxFm5xWc",
      "execution_count": null,
      "outputs": []
    },
    {
      "cell_type": "code",
      "source": [
        "xr = xr.reshape(-1, 1)"
      ],
      "metadata": {
        "id": "YA3I7vS26Qhc"
      },
      "id": "YA3I7vS26Qhc",
      "execution_count": null,
      "outputs": []
    },
    {
      "cell_type": "code",
      "source": [
        "xr.shape"
      ],
      "metadata": {
        "colab": {
          "base_uri": "https://localhost:8080/"
        },
        "id": "Qh-otzGG6J1d",
        "outputId": "ae508952-1041-4ddb-eb64-2b5a79ca1c97"
      },
      "id": "Qh-otzGG6J1d",
      "execution_count": null,
      "outputs": [
        {
          "output_type": "execute_result",
          "data": {
            "text/plain": [
              "(30, 1)"
            ]
          },
          "metadata": {},
          "execution_count": 54
        }
      ]
    },
    {
      "cell_type": "markdown",
      "source": [
        "### dopasowanie modeli do danych treningowych"
      ],
      "metadata": {
        "id": "QtL2AytnXj_Q"
      },
      "id": "QtL2AytnXj_Q"
    },
    {
      "cell_type": "code",
      "source": [
        "kNR.fit(xr, yr)\n",
        "kNR2.fit(xr, yr)"
      ],
      "metadata": {
        "colab": {
          "base_uri": "https://localhost:8080/",
          "height": 74
        },
        "id": "pMo8Ic0e561S",
        "outputId": "513f42e8-c6c8-41ae-cc44-2bbf8bb9967c"
      },
      "id": "pMo8Ic0e561S",
      "execution_count": null,
      "outputs": [
        {
          "output_type": "execute_result",
          "data": {
            "text/plain": [
              "KNeighborsRegressor(n_neighbors=3, weights='distance')"
            ],
            "text/html": [
              "<style>#sk-container-id-6 {color: black;background-color: white;}#sk-container-id-6 pre{padding: 0;}#sk-container-id-6 div.sk-toggleable {background-color: white;}#sk-container-id-6 label.sk-toggleable__label {cursor: pointer;display: block;width: 100%;margin-bottom: 0;padding: 0.3em;box-sizing: border-box;text-align: center;}#sk-container-id-6 label.sk-toggleable__label-arrow:before {content: \"▸\";float: left;margin-right: 0.25em;color: #696969;}#sk-container-id-6 label.sk-toggleable__label-arrow:hover:before {color: black;}#sk-container-id-6 div.sk-estimator:hover label.sk-toggleable__label-arrow:before {color: black;}#sk-container-id-6 div.sk-toggleable__content {max-height: 0;max-width: 0;overflow: hidden;text-align: left;background-color: #f0f8ff;}#sk-container-id-6 div.sk-toggleable__content pre {margin: 0.2em;color: black;border-radius: 0.25em;background-color: #f0f8ff;}#sk-container-id-6 input.sk-toggleable__control:checked~div.sk-toggleable__content {max-height: 200px;max-width: 100%;overflow: auto;}#sk-container-id-6 input.sk-toggleable__control:checked~label.sk-toggleable__label-arrow:before {content: \"▾\";}#sk-container-id-6 div.sk-estimator input.sk-toggleable__control:checked~label.sk-toggleable__label {background-color: #d4ebff;}#sk-container-id-6 div.sk-label input.sk-toggleable__control:checked~label.sk-toggleable__label {background-color: #d4ebff;}#sk-container-id-6 input.sk-hidden--visually {border: 0;clip: rect(1px 1px 1px 1px);clip: rect(1px, 1px, 1px, 1px);height: 1px;margin: -1px;overflow: hidden;padding: 0;position: absolute;width: 1px;}#sk-container-id-6 div.sk-estimator {font-family: monospace;background-color: #f0f8ff;border: 1px dotted black;border-radius: 0.25em;box-sizing: border-box;margin-bottom: 0.5em;}#sk-container-id-6 div.sk-estimator:hover {background-color: #d4ebff;}#sk-container-id-6 div.sk-parallel-item::after {content: \"\";width: 100%;border-bottom: 1px solid gray;flex-grow: 1;}#sk-container-id-6 div.sk-label:hover label.sk-toggleable__label {background-color: #d4ebff;}#sk-container-id-6 div.sk-serial::before {content: \"\";position: absolute;border-left: 1px solid gray;box-sizing: border-box;top: 0;bottom: 0;left: 50%;z-index: 0;}#sk-container-id-6 div.sk-serial {display: flex;flex-direction: column;align-items: center;background-color: white;padding-right: 0.2em;padding-left: 0.2em;position: relative;}#sk-container-id-6 div.sk-item {position: relative;z-index: 1;}#sk-container-id-6 div.sk-parallel {display: flex;align-items: stretch;justify-content: center;background-color: white;position: relative;}#sk-container-id-6 div.sk-item::before, #sk-container-id-6 div.sk-parallel-item::before {content: \"\";position: absolute;border-left: 1px solid gray;box-sizing: border-box;top: 0;bottom: 0;left: 50%;z-index: -1;}#sk-container-id-6 div.sk-parallel-item {display: flex;flex-direction: column;z-index: 1;position: relative;background-color: white;}#sk-container-id-6 div.sk-parallel-item:first-child::after {align-self: flex-end;width: 50%;}#sk-container-id-6 div.sk-parallel-item:last-child::after {align-self: flex-start;width: 50%;}#sk-container-id-6 div.sk-parallel-item:only-child::after {width: 0;}#sk-container-id-6 div.sk-dashed-wrapped {border: 1px dashed gray;margin: 0 0.4em 0.5em 0.4em;box-sizing: border-box;padding-bottom: 0.4em;background-color: white;}#sk-container-id-6 div.sk-label label {font-family: monospace;font-weight: bold;display: inline-block;line-height: 1.2em;}#sk-container-id-6 div.sk-label-container {text-align: center;}#sk-container-id-6 div.sk-container {/* jupyter's `normalize.less` sets `[hidden] { display: none; }` but bootstrap.min.css set `[hidden] { display: none !important; }` so we also need the `!important` here to be able to override the default hidden behavior on the sphinx rendered scikit-learn.org. See: https://github.com/scikit-learn/scikit-learn/issues/21755 */display: inline-block !important;position: relative;}#sk-container-id-6 div.sk-text-repr-fallback {display: none;}</style><div id=\"sk-container-id-6\" class=\"sk-top-container\"><div class=\"sk-text-repr-fallback\"><pre>KNeighborsRegressor(n_neighbors=3, weights=&#x27;distance&#x27;)</pre><b>In a Jupyter environment, please rerun this cell to show the HTML representation or trust the notebook. <br />On GitHub, the HTML representation is unable to render, please try loading this page with nbviewer.org.</b></div><div class=\"sk-container\" hidden><div class=\"sk-item\"><div class=\"sk-estimator sk-toggleable\"><input class=\"sk-toggleable__control sk-hidden--visually\" id=\"sk-estimator-id-6\" type=\"checkbox\" checked><label for=\"sk-estimator-id-6\" class=\"sk-toggleable__label sk-toggleable__label-arrow\">KNeighborsRegressor</label><div class=\"sk-toggleable__content\"><pre>KNeighborsRegressor(n_neighbors=3, weights=&#x27;distance&#x27;)</pre></div></div></div></div></div>"
            ]
          },
          "metadata": {},
          "execution_count": 55
        }
      ]
    },
    {
      "cell_type": "markdown",
      "source": [
        "utworzenie zbioru testowego"
      ],
      "metadata": {
        "id": "RoUA4iBIXpMi"
      },
      "id": "RoUA4iBIXpMi"
    },
    {
      "cell_type": "code",
      "source": [
        "xr_test = np.linspace(0, 10, 200)\n",
        "yr_test = np.sin(xr_test)\n",
        "xr_test = xr_test.reshape(-1, 1)\n",
        "yr_pred = kNR.predict(xr_test)\n",
        "yr_pred2 = kNR2.predict(xr_test)"
      ],
      "metadata": {
        "id": "6het39R96AbE"
      },
      "id": "6het39R96AbE",
      "execution_count": null,
      "outputs": []
    },
    {
      "cell_type": "code",
      "source": [
        "plt.scatter(xr, yr)\n",
        "plt.plot(xr_test[:,0], yr_test)\n",
        "plt.plot(xr_test[:,0], yr_pred)\n",
        "plt.plot(xr_test[:,0], yr_pred2)"
      ],
      "metadata": {
        "colab": {
          "base_uri": "https://localhost:8080/",
          "height": 282
        },
        "id": "3i9b-oMQ6u_3",
        "outputId": "44c4a4d9-1634-49d7-dd0e-2ee7b9692fee"
      },
      "id": "3i9b-oMQ6u_3",
      "execution_count": null,
      "outputs": [
        {
          "output_type": "execute_result",
          "data": {
            "text/plain": [
              "[<matplotlib.lines.Line2D at 0x7f3e2ae37280>]"
            ]
          },
          "metadata": {},
          "execution_count": 57
        },
        {
          "output_type": "display_data",
          "data": {
            "text/plain": [
              "<Figure size 432x288 with 1 Axes>"
            ],
            "image/png": "[encoded data removed]"
          },
          "metadata": {
            "needs_background": "light"
          }
        }
      ]
    },
    {
      "cell_type": "markdown",
      "source": [
        "Ewaluacja modeli regresji"
      ],
      "metadata": {
        "id": "GhynGkRaXtUz"
      },
      "id": "GhynGkRaXtUz"
    },
    {
      "cell_type": "code",
      "source": [
        "print('MSE kNR:  ', mean_squared_error(yr_test, yr_pred))\n",
        "print('MSE kNR2: ', mean_squared_error(yr_test, yr_pred2))"
      ],
      "metadata": {
        "colab": {
          "base_uri": "https://localhost:8080/"
        },
        "id": "ZhRFzcPM66v2",
        "outputId": "88096aa4-b584-43b7-e8bc-65884b828f24"
      },
      "id": "ZhRFzcPM66v2",
      "execution_count": null,
      "outputs": [
        {
          "output_type": "stream",
          "name": "stdout",
          "text": [
            "MSE kNR:   0.06081534506408302\n",
            "MSE kNR2:  0.03302386982202301\n"
          ]
        }
      ]
    },
    {
      "cell_type": "code",
      "source": [
        "print('r2 kNR:  ', kNR.score(xr_test, yr_test))\n",
        "print('r2 kNR2: ', kNR2.score(xr_test, yr_test))"
      ],
      "metadata": {
        "colab": {
          "base_uri": "https://localhost:8080/"
        },
        "id": "5rUsqtrP9PRO",
        "outputId": "e493119d-e76b-429d-a12a-f7864652b8b9"
      },
      "id": "5rUsqtrP9PRO",
      "execution_count": null,
      "outputs": [
        {
          "output_type": "stream",
          "name": "stdout",
          "text": [
            "r2 kNR:   0.8625874565751432\n",
            "r2 kNR2:  0.925382418841925\n"
          ]
        }
      ]
    },
    {
      "cell_type": "markdown",
      "source": [
        "# OPTYMALIZACJA HIPERPARAMETRÓW (przykład dla modeli klasyfikacji)"
      ],
      "metadata": {
        "id": "0-wrEzptyZps"
      },
      "id": "0-wrEzptyZps"
    },
    {
      "cell_type": "code",
      "source": [
        "from sklearn.model_selection import GridSearchCV"
      ],
      "metadata": {
        "id": "vU49ekiz9axn"
      },
      "id": "vU49ekiz9axn",
      "execution_count": null,
      "outputs": []
    },
    {
      "cell_type": "code",
      "source": [
        "param_grid = {'n_neighbors': [1,2,3,4,5,6,7,8,9,10], 'weights': ('uniform', 'distance'), 'p': [1,2,3]}"
      ],
      "metadata": {
        "id": "-abtMS0-zo9K"
      },
      "id": "-abtMS0-zo9K",
      "execution_count": null,
      "outputs": []
    },
    {
      "cell_type": "code",
      "source": [
        "gskNN = GridSearchCV(kNN, param_grid, cv=5)"
      ],
      "metadata": {
        "id": "mBX08Yf-yuHp"
      },
      "id": "mBX08Yf-yuHp",
      "execution_count": null,
      "outputs": []
    },
    {
      "cell_type": "code",
      "source": [
        "gskNN.fit(x_norm, y)"
      ],
      "metadata": {
        "colab": {
          "base_uri": "https://localhost:8080/",
          "height": 117
        },
        "id": "kFj6Bc_I1l7z",
        "outputId": "698d8049-8155-42ec-d925-3f44f2de0b60"
      },
      "id": "kFj6Bc_I1l7z",
      "execution_count": null,
      "outputs": [
        {
          "output_type": "execute_result",
          "data": {
            "text/plain": [
              "GridSearchCV(cv=5, estimator=KNeighborsClassifier(weights='distance'),\n",
              "             param_grid={'n_neighbors': [1, 2, 3, 4, 5, 6, 7, 8, 9, 10],\n",
              "                         'p': [1, 2, 3], 'weights': ('uniform', 'distance')})"
            ],
            "text/html": [
              "<style>#sk-container-id-8 {color: black;background-color: white;}#sk-container-id-8 pre{padding: 0;}#sk-container-id-8 div.sk-toggleable {background-color: white;}#sk-container-id-8 label.sk-toggleable__label {cursor: pointer;display: block;width: 100%;margin-bottom: 0;padding: 0.3em;box-sizing: border-box;text-align: center;}#sk-container-id-8 label.sk-toggleable__label-arrow:before {content: \"▸\";float: left;margin-right: 0.25em;color: #696969;}#sk-container-id-8 label.sk-toggleable__label-arrow:hover:before {color: black;}#sk-container-id-8 div.sk-estimator:hover label.sk-toggleable__label-arrow:before {color: black;}#sk-container-id-8 div.sk-toggleable__content {max-height: 0;max-width: 0;overflow: hidden;text-align: left;background-color: #f0f8ff;}#sk-container-id-8 div.sk-toggleable__content pre {margin: 0.2em;color: black;border-radius: 0.25em;background-color: #f0f8ff;}#sk-container-id-8 input.sk-toggleable__control:checked~div.sk-toggleable__content {max-height: 200px;max-width: 100%;overflow: auto;}#sk-container-id-8 input.sk-toggleable__control:checked~label.sk-toggleable__label-arrow:before {content: \"▾\";}#sk-container-id-8 div.sk-estimator input.sk-toggleable__control:checked~label.sk-toggleable__label {background-color: #d4ebff;}#sk-container-id-8 div.sk-label input.sk-toggleable__control:checked~label.sk-toggleable__label {background-color: #d4ebff;}#sk-container-id-8 input.sk-hidden--visually {border: 0;clip: rect(1px 1px 1px 1px);clip: rect(1px, 1px, 1px, 1px);height: 1px;margin: -1px;overflow: hidden;padding: 0;position: absolute;width: 1px;}#sk-container-id-8 div.sk-estimator {font-family: monospace;background-color: #f0f8ff;border: 1px dotted black;border-radius: 0.25em;box-sizing: border-box;margin-bottom: 0.5em;}#sk-container-id-8 div.sk-estimator:hover {background-color: #d4ebff;}#sk-container-id-8 div.sk-parallel-item::after {content: \"\";width: 100%;border-bottom: 1px solid gray;flex-grow: 1;}#sk-container-id-8 div.sk-label:hover label.sk-toggleable__label {background-color: #d4ebff;}#sk-container-id-8 div.sk-serial::before {content: \"\";position: absolute;border-left: 1px solid gray;box-sizing: border-box;top: 0;bottom: 0;left: 50%;z-index: 0;}#sk-container-id-8 div.sk-serial {display: flex;flex-direction: column;align-items: center;background-color: white;padding-right: 0.2em;padding-left: 0.2em;position: relative;}#sk-container-id-8 div.sk-item {position: relative;z-index: 1;}#sk-container-id-8 div.sk-parallel {display: flex;align-items: stretch;justify-content: center;background-color: white;position: relative;}#sk-container-id-8 div.sk-item::before, #sk-container-id-8 div.sk-parallel-item::before {content: \"\";position: absolute;border-left: 1px solid gray;box-sizing: border-box;top: 0;bottom: 0;left: 50%;z-index: -1;}#sk-container-id-8 div.sk-parallel-item {display: flex;flex-direction: column;z-index: 1;position: relative;background-color: white;}#sk-container-id-8 div.sk-parallel-item:first-child::after {align-self: flex-end;width: 50%;}#sk-container-id-8 div.sk-parallel-item:last-child::after {align-self: flex-start;width: 50%;}#sk-container-id-8 div.sk-parallel-item:only-child::after {width: 0;}#sk-container-id-8 div.sk-dashed-wrapped {border: 1px dashed gray;margin: 0 0.4em 0.5em 0.4em;box-sizing: border-box;padding-bottom: 0.4em;background-color: white;}#sk-container-id-8 div.sk-label label {font-family: monospace;font-weight: bold;display: inline-block;line-height: 1.2em;}#sk-container-id-8 div.sk-label-container {text-align: center;}#sk-container-id-8 div.sk-container {/* jupyter's `normalize.less` sets `[hidden] { display: none; }` but bootstrap.min.css set `[hidden] { display: none !important; }` so we also need the `!important` here to be able to override the default hidden behavior on the sphinx rendered scikit-learn.org. See: https://github.com/scikit-learn/scikit-learn/issues/21755 */display: inline-block !important;position: relative;}#sk-container-id-8 div.sk-text-repr-fallback {display: none;}</style><div id=\"sk-container-id-8\" class=\"sk-top-container\"><div class=\"sk-text-repr-fallback\"><pre>GridSearchCV(cv=5, estimator=KNeighborsClassifier(weights=&#x27;distance&#x27;),\n",
              "             param_grid={&#x27;n_neighbors&#x27;: [1, 2, 3, 4, 5, 6, 7, 8, 9, 10],\n",
              "                         &#x27;p&#x27;: [1, 2, 3], &#x27;weights&#x27;: (&#x27;uniform&#x27;, &#x27;distance&#x27;)})</pre><b>In a Jupyter environment, please rerun this cell to show the HTML representation or trust the notebook. <br />On GitHub, the HTML representation is unable to render, please try loading this page with nbviewer.org.</b></div><div class=\"sk-container\" hidden><div class=\"sk-item sk-dashed-wrapped\"><div class=\"sk-label-container\"><div class=\"sk-label sk-toggleable\"><input class=\"sk-toggleable__control sk-hidden--visually\" id=\"sk-estimator-id-10\" type=\"checkbox\" ><label for=\"sk-estimator-id-10\" class=\"sk-toggleable__label sk-toggleable__label-arrow\">GridSearchCV</label><div class=\"sk-toggleable__content\"><pre>GridSearchCV(cv=5, estimator=KNeighborsClassifier(weights=&#x27;distance&#x27;),\n",
              "             param_grid={&#x27;n_neighbors&#x27;: [1, 2, 3, 4, 5, 6, 7, 8, 9, 10],\n",
              "                         &#x27;p&#x27;: [1, 2, 3], &#x27;weights&#x27;: (&#x27;uniform&#x27;, &#x27;distance&#x27;)})</pre></div></div></div><div class=\"sk-parallel\"><div class=\"sk-parallel-item\"><div class=\"sk-item\"><div class=\"sk-label-container\"><div class=\"sk-label sk-toggleable\"><input class=\"sk-toggleable__control sk-hidden--visually\" id=\"sk-estimator-id-11\" type=\"checkbox\" ><label for=\"sk-estimator-id-11\" class=\"sk-toggleable__label sk-toggleable__label-arrow\">estimator: KNeighborsClassifier</label><div class=\"sk-toggleable__content\"><pre>KNeighborsClassifier(weights=&#x27;distance&#x27;)</pre></div></div></div><div class=\"sk-serial\"><div class=\"sk-item\"><div class=\"sk-estimator sk-toggleable\"><input class=\"sk-toggleable__control sk-hidden--visually\" id=\"sk-estimator-id-12\" type=\"checkbox\" ><label for=\"sk-estimator-id-12\" class=\"sk-toggleable__label sk-toggleable__label-arrow\">KNeighborsClassifier</label><div class=\"sk-toggleable__content\"><pre>KNeighborsClassifier(weights=&#x27;distance&#x27;)</pre></div></div></div></div></div></div></div></div></div></div>"
            ]
          },
          "metadata": {},
          "execution_count": 69
        }
      ]
    },
    {
      "cell_type": "code",
      "source": [
        "gskNN.score(x_norm, y)"
      ],
      "metadata": {
        "colab": {
          "base_uri": "https://localhost:8080/"
        },
        "id": "gkSvNWVi1-Wq",
        "outputId": "3e2ffa81-f97a-4a65-9f03-425198084525"
      },
      "id": "gkSvNWVi1-Wq",
      "execution_count": null,
      "outputs": [
        {
          "output_type": "execute_result",
          "data": {
            "text/plain": [
              "1.0"
            ]
          },
          "metadata": {},
          "execution_count": 70
        }
      ]
    },
    {
      "cell_type": "code",
      "source": [
        "gskNN.cv_results_"
      ],
      "metadata": {
        "colab": {
          "base_uri": "https://localhost:8080/"
        },
        "id": "6wzw8dkm2G6i",
        "outputId": "140822ab-6bda-41f5-9ea1-880911087b58"
      },
      "id": "6wzw8dkm2G6i",
      "execution_count": null,
      "outputs": [
        {
          "output_type": "execute_result",
          "data": {
            "text/plain": [
              "{'mean_fit_time': array([0.00085425, 0.00099001, 0.00095701, 0.00061822, 0.00078526,\n",
              "        0.00085645, 0.00080252, 0.00069036, 0.0005909 , 0.00059648,\n",
              "        0.00076375, 0.00081115, 0.00072994, 0.00062513, 0.00082655,\n",
              "        0.00062141, 0.00077462, 0.00082102, 0.00074201, 0.00064993,\n",
              "        0.00062671, 0.00060954, 0.00089364, 0.0009511 , 0.00074506,\n",
              "        0.00065699, 0.00065475, 0.00061159, 0.00078449, 0.00078621,\n",
              "        0.00077901, 0.00076809, 0.0009038 , 0.00066099, 0.00080695,\n",
              "        0.00072513, 0.00070133, 0.00062995, 0.00102854, 0.00060368,\n",
              "        0.00073228, 0.00080085, 0.00069485, 0.00067129, 0.00065274,\n",
              "        0.00066509, 0.00078149, 0.00084023, 0.00078807, 0.00069022,\n",
              "        0.00071359, 0.00069928, 0.00077505, 0.00098152, 0.00081773,\n",
              "        0.00069838, 0.0007525 , 0.00066261, 0.00068326, 0.00069914]),\n",
              " 'std_fit_time': array([1.20621423e-04, 2.99150623e-05, 2.00913570e-04, 4.72749835e-05,\n",
              "        1.12286454e-04, 8.29414890e-05, 8.75102071e-05, 1.38694840e-04,\n",
              "        8.65245956e-06, 3.02005483e-05, 8.71438138e-05, 9.77504544e-06,\n",
              "        6.27171572e-05, 2.94328677e-05, 1.78281143e-04, 2.15378429e-05,\n",
              "        9.76709871e-05, 1.96330715e-05, 2.26863265e-05, 5.99403464e-05,\n",
              "        2.96455456e-05, 3.55909032e-05, 2.85928729e-04, 1.59034121e-04,\n",
              "        3.26433260e-05, 4.00209856e-05, 2.26220916e-05, 1.67799260e-05,\n",
              "        5.12538063e-05, 5.48453116e-05, 5.73466023e-05, 6.78488508e-05,\n",
              "        9.66681235e-05, 3.90807543e-05, 1.12015798e-04, 1.59449098e-05,\n",
              "        6.94710993e-06, 1.99915933e-05, 6.75131318e-04, 3.72955555e-05,\n",
              "        1.71479818e-05, 1.59069260e-04, 1.37529293e-05, 6.65143569e-05,\n",
              "        1.35855919e-05, 9.28058644e-05, 1.07179099e-04, 5.38444806e-05,\n",
              "        4.61753702e-05, 3.58440747e-05, 3.63298598e-05, 1.38226119e-04,\n",
              "        6.10607436e-05, 3.29878186e-04, 8.74350073e-05, 3.97100870e-05,\n",
              "        1.10742122e-04, 4.14638357e-05, 4.69044913e-05, 1.95634612e-05]),\n",
              " 'mean_score_time': array([0.03473954, 0.10480971, 0.06890802, 0.00175314, 0.0396688 ,\n",
              "        0.04028449, 0.00780678, 0.00406947, 0.00501037, 0.00174098,\n",
              "        0.03922658, 0.03466334, 0.00713334, 0.00347357, 0.00744748,\n",
              "        0.00179791, 0.03784394, 0.03948326, 0.00729699, 0.00350189,\n",
              "        0.00513988, 0.00176082, 0.03841543, 0.03535233, 0.00722299,\n",
              "        0.00360518, 0.00524416, 0.00183759, 0.03941941, 0.04072361,\n",
              "        0.00841794, 0.00787249, 0.00617895, 0.00212593, 0.0378449 ,\n",
              "        0.03421645, 0.00709729, 0.00367522, 0.0069911 , 0.00189013,\n",
              "        0.03794651, 0.03687439, 0.00707998, 0.00590043, 0.00529766,\n",
              "        0.00199466, 0.03959489, 0.03491526, 0.00916452, 0.00389113,\n",
              "        0.00574431, 0.00224142, 0.04026246, 0.04473405, 0.00742478,\n",
              "        0.00391903, 0.00604982, 0.00219541, 0.03801889, 0.03420248]),\n",
              " 'std_score_time': array([3.18422180e-02, 8.46990581e-03, 5.84300227e-02, 1.55036942e-04,\n",
              "        1.75307341e-03, 9.33509820e-03, 1.05741829e-03, 9.85802012e-04,\n",
              "        9.26213681e-05, 1.05866591e-04, 2.39958992e-03, 5.43077910e-04,\n",
              "        3.35620830e-04, 9.62343628e-05, 2.03350429e-03, 9.78577433e-05,\n",
              "        2.09336563e-04, 4.78263057e-03, 2.48608069e-04, 1.10222949e-04,\n",
              "        1.11255051e-04, 8.85360387e-05, 1.03012040e-03, 7.54408627e-04,\n",
              "        2.31910898e-04, 6.94963617e-05, 4.85500318e-05, 6.48127829e-05,\n",
              "        2.03322646e-03, 8.03850936e-03, 5.58659220e-04, 7.35691032e-03,\n",
              "        6.32086542e-04, 2.62338341e-04, 5.86691902e-04, 1.61702884e-04,\n",
              "        1.57335193e-04, 7.83951322e-05, 3.25553547e-03, 8.11585248e-05,\n",
              "        4.84826473e-04, 3.11248777e-03, 4.95749227e-05, 2.76497947e-03,\n",
              "        5.11032858e-05, 3.90329589e-05, 1.37765639e-03, 2.45573099e-04,\n",
              "        2.02517071e-03, 9.86784055e-05, 2.12019014e-04, 2.31819101e-04,\n",
              "        3.42487658e-03, 1.22043679e-02, 7.04624965e-05, 8.44494089e-05,\n",
              "        3.56773226e-04, 8.65358158e-05, 6.33389806e-04, 1.92148371e-04]),\n",
              " 'param_n_neighbors': masked_array(data=[1, 1, 1, 1, 1, 1, 2, 2, 2, 2, 2, 2, 3, 3, 3, 3, 3, 3,\n",
              "                    4, 4, 4, 4, 4, 4, 5, 5, 5, 5, 5, 5, 6, 6, 6, 6, 6, 6,\n",
              "                    7, 7, 7, 7, 7, 7, 8, 8, 8, 8, 8, 8, 9, 9, 9, 9, 9, 9,\n",
              "                    10, 10, 10, 10, 10, 10],\n",
              "              mask=[False, False, False, False, False, False, False, False,\n",
              "                    False, False, False, False, False, False, False, False,\n",
              "                    False, False, False, False, False, False, False, False,\n",
              "                    False, False, False, False, False, False, False, False,\n",
              "                    False, False, False, False, False, False, False, False,\n",
              "                    False, False, False, False, False, False, False, False,\n",
              "                    False, False, False, False, False, False, False, False,\n",
              "                    False, False, False, False],\n",
              "        fill_value='?',\n",
              "             dtype=object),\n",
              " 'param_p': masked_array(data=[1, 1, 2, 2, 3, 3, 1, 1, 2, 2, 3, 3, 1, 1, 2, 2, 3, 3,\n",
              "                    1, 1, 2, 2, 3, 3, 1, 1, 2, 2, 3, 3, 1, 1, 2, 2, 3, 3,\n",
              "                    1, 1, 2, 2, 3, 3, 1, 1, 2, 2, 3, 3, 1, 1, 2, 2, 3, 3,\n",
              "                    1, 1, 2, 2, 3, 3],\n",
              "              mask=[False, False, False, False, False, False, False, False,\n",
              "                    False, False, False, False, False, False, False, False,\n",
              "                    False, False, False, False, False, False, False, False,\n",
              "                    False, False, False, False, False, False, False, False,\n",
              "                    False, False, False, False, False, False, False, False,\n",
              "                    False, False, False, False, False, False, False, False,\n",
              "                    False, False, False, False, False, False, False, False,\n",
              "                    False, False, False, False],\n",
              "        fill_value='?',\n",
              "             dtype=object),\n",
              " 'param_weights': masked_array(data=['uniform', 'distance', 'uniform', 'distance',\n",
              "                    'uniform', 'distance', 'uniform', 'distance',\n",
              "                    'uniform', 'distance', 'uniform', 'distance',\n",
              "                    'uniform', 'distance', 'uniform', 'distance',\n",
              "                    'uniform', 'distance', 'uniform', 'distance',\n",
              "                    'uniform', 'distance', 'uniform', 'distance',\n",
              "                    'uniform', 'distance', 'uniform', 'distance',\n",
              "                    'uniform', 'distance', 'uniform', 'distance',\n",
              "                    'uniform', 'distance', 'uniform', 'distance',\n",
              "                    'uniform', 'distance', 'uniform', 'distance',\n",
              "                    'uniform', 'distance', 'uniform', 'distance',\n",
              "                    'uniform', 'distance', 'uniform', 'distance',\n",
              "                    'uniform', 'distance', 'uniform', 'distance',\n",
              "                    'uniform', 'distance', 'uniform', 'distance',\n",
              "                    'uniform', 'distance', 'uniform', 'distance'],\n",
              "              mask=[False, False, False, False, False, False, False, False,\n",
              "                    False, False, False, False, False, False, False, False,\n",
              "                    False, False, False, False, False, False, False, False,\n",
              "                    False, False, False, False, False, False, False, False,\n",
              "                    False, False, False, False, False, False, False, False,\n",
              "                    False, False, False, False, False, False, False, False,\n",
              "                    False, False, False, False, False, False, False, False,\n",
              "                    False, False, False, False],\n",
              "        fill_value='?',\n",
              "             dtype=object),\n",
              " 'params': [{'n_neighbors': 1, 'p': 1, 'weights': 'uniform'},\n",
              "  {'n_neighbors': 1, 'p': 1, 'weights': 'distance'},\n",
              "  {'n_neighbors': 1, 'p': 2, 'weights': 'uniform'},\n",
              "  {'n_neighbors': 1, 'p': 2, 'weights': 'distance'},\n",
              "  {'n_neighbors': 1, 'p': 3, 'weights': 'uniform'},\n",
              "  {'n_neighbors': 1, 'p': 3, 'weights': 'distance'},\n",
              "  {'n_neighbors': 2, 'p': 1, 'weights': 'uniform'},\n",
              "  {'n_neighbors': 2, 'p': 1, 'weights': 'distance'},\n",
              "  {'n_neighbors': 2, 'p': 2, 'weights': 'uniform'},\n",
              "  {'n_neighbors': 2, 'p': 2, 'weights': 'distance'},\n",
              "  {'n_neighbors': 2, 'p': 3, 'weights': 'uniform'},\n",
              "  {'n_neighbors': 2, 'p': 3, 'weights': 'distance'},\n",
              "  {'n_neighbors': 3, 'p': 1, 'weights': 'uniform'},\n",
              "  {'n_neighbors': 3, 'p': 1, 'weights': 'distance'},\n",
              "  {'n_neighbors': 3, 'p': 2, 'weights': 'uniform'},\n",
              "  {'n_neighbors': 3, 'p': 2, 'weights': 'distance'},\n",
              "  {'n_neighbors': 3, 'p': 3, 'weights': 'uniform'},\n",
              "  {'n_neighbors': 3, 'p': 3, 'weights': 'distance'},\n",
              "  {'n_neighbors': 4, 'p': 1, 'weights': 'uniform'},\n",
              "  {'n_neighbors': 4, 'p': 1, 'weights': 'distance'},\n",
              "  {'n_neighbors': 4, 'p': 2, 'weights': 'uniform'},\n",
              "  {'n_neighbors': 4, 'p': 2, 'weights': 'distance'},\n",
              "  {'n_neighbors': 4, 'p': 3, 'weights': 'uniform'},\n",
              "  {'n_neighbors': 4, 'p': 3, 'weights': 'distance'},\n",
              "  {'n_neighbors': 5, 'p': 1, 'weights': 'uniform'},\n",
              "  {'n_neighbors': 5, 'p': 1, 'weights': 'distance'},\n",
              "  {'n_neighbors': 5, 'p': 2, 'weights': 'uniform'},\n",
              "  {'n_neighbors': 5, 'p': 2, 'weights': 'distance'},\n",
              "  {'n_neighbors': 5, 'p': 3, 'weights': 'uniform'},\n",
              "  {'n_neighbors': 5, 'p': 3, 'weights': 'distance'},\n",
              "  {'n_neighbors': 6, 'p': 1, 'weights': 'uniform'},\n",
              "  {'n_neighbors': 6, 'p': 1, 'weights': 'distance'},\n",
              "  {'n_neighbors': 6, 'p': 2, 'weights': 'uniform'},\n",
              "  {'n_neighbors': 6, 'p': 2, 'weights': 'distance'},\n",
              "  {'n_neighbors': 6, 'p': 3, 'weights': 'uniform'},\n",
              "  {'n_neighbors': 6, 'p': 3, 'weights': 'distance'},\n",
              "  {'n_neighbors': 7, 'p': 1, 'weights': 'uniform'},\n",
              "  {'n_neighbors': 7, 'p': 1, 'weights': 'distance'},\n",
              "  {'n_neighbors': 7, 'p': 2, 'weights': 'uniform'},\n",
              "  {'n_neighbors': 7, 'p': 2, 'weights': 'distance'},\n",
              "  {'n_neighbors': 7, 'p': 3, 'weights': 'uniform'},\n",
              "  {'n_neighbors': 7, 'p': 3, 'weights': 'distance'},\n",
              "  {'n_neighbors': 8, 'p': 1, 'weights': 'uniform'},\n",
              "  {'n_neighbors': 8, 'p': 1, 'weights': 'distance'},\n",
              "  {'n_neighbors': 8, 'p': 2, 'weights': 'uniform'},\n",
              "  {'n_neighbors': 8, 'p': 2, 'weights': 'distance'},\n",
              "  {'n_neighbors': 8, 'p': 3, 'weights': 'uniform'},\n",
              "  {'n_neighbors': 8, 'p': 3, 'weights': 'distance'},\n",
              "  {'n_neighbors': 9, 'p': 1, 'weights': 'uniform'},\n",
              "  {'n_neighbors': 9, 'p': 1, 'weights': 'distance'},\n",
              "  {'n_neighbors': 9, 'p': 2, 'weights': 'uniform'},\n",
              "  {'n_neighbors': 9, 'p': 2, 'weights': 'distance'},\n",
              "  {'n_neighbors': 9, 'p': 3, 'weights': 'uniform'},\n",
              "  {'n_neighbors': 9, 'p': 3, 'weights': 'distance'},\n",
              "  {'n_neighbors': 10, 'p': 1, 'weights': 'uniform'},\n",
              "  {'n_neighbors': 10, 'p': 1, 'weights': 'distance'},\n",
              "  {'n_neighbors': 10, 'p': 2, 'weights': 'uniform'},\n",
              "  {'n_neighbors': 10, 'p': 2, 'weights': 'distance'},\n",
              "  {'n_neighbors': 10, 'p': 3, 'weights': 'uniform'},\n",
              "  {'n_neighbors': 10, 'p': 3, 'weights': 'distance'}],\n",
              " 'split0_test_score': array([0.9122807 , 0.9122807 , 0.95614035, 0.95614035, 0.94736842,\n",
              "        0.94736842, 0.94736842, 0.9122807 , 0.93859649, 0.95614035,\n",
              "        0.93859649, 0.94736842, 0.96491228, 0.96491228, 0.95614035,\n",
              "        0.95614035, 0.96491228, 0.96491228, 0.94736842, 0.96491228,\n",
              "        0.94736842, 0.97368421, 0.94736842, 0.97368421, 0.96491228,\n",
              "        0.96491228, 0.95614035, 0.95614035, 0.95614035, 0.95614035,\n",
              "        0.94736842, 0.96491228, 0.95614035, 0.96491228, 0.95614035,\n",
              "        0.96491228, 0.95614035, 0.95614035, 0.95614035, 0.95614035,\n",
              "        0.96491228, 0.96491228, 0.94736842, 0.96491228, 0.95614035,\n",
              "        0.96491228, 0.94736842, 0.96491228, 0.94736842, 0.94736842,\n",
              "        0.95614035, 0.95614035, 0.95614035, 0.95614035, 0.94736842,\n",
              "        0.96491228, 0.93859649, 0.97368421, 0.95614035, 0.96491228]),\n",
              " 'split1_test_score': array([0.95614035, 0.95614035, 0.95614035, 0.95614035, 0.97368421,\n",
              "        0.97368421, 0.94736842, 0.95614035, 0.95614035, 0.95614035,\n",
              "        0.96491228, 0.97368421, 0.97368421, 0.97368421, 0.95614035,\n",
              "        0.95614035, 0.95614035, 0.95614035, 0.96491228, 0.96491228,\n",
              "        0.95614035, 0.95614035, 0.96491228, 0.96491228, 0.94736842,\n",
              "        0.94736842, 0.95614035, 0.95614035, 0.96491228, 0.96491228,\n",
              "        0.95614035, 0.95614035, 0.94736842, 0.94736842, 0.96491228,\n",
              "        0.95614035, 0.93859649, 0.93859649, 0.93859649, 0.93859649,\n",
              "        0.95614035, 0.95614035, 0.94736842, 0.94736842, 0.95614035,\n",
              "        0.95614035, 0.96491228, 0.96491228, 0.94736842, 0.94736842,\n",
              "        0.95614035, 0.95614035, 0.94736842, 0.94736842, 0.94736842,\n",
              "        0.94736842, 0.95614035, 0.95614035, 0.96491228, 0.95614035]),\n",
              " 'split2_test_score': array([0.98245614, 0.98245614, 0.98245614, 0.98245614, 0.98245614,\n",
              "        0.98245614, 0.98245614, 0.98245614, 0.98245614, 0.98245614,\n",
              "        0.98245614, 0.98245614, 0.99122807, 0.99122807, 0.99122807,\n",
              "        0.99122807, 0.98245614, 0.98245614, 0.99122807, 0.99122807,\n",
              "        0.99122807, 0.99122807, 0.99122807, 0.98245614, 0.99122807,\n",
              "        0.99122807, 0.99122807, 0.99122807, 0.98245614, 0.98245614,\n",
              "        0.99122807, 0.99122807, 0.99122807, 0.99122807, 0.99122807,\n",
              "        0.98245614, 0.99122807, 0.99122807, 0.98245614, 0.98245614,\n",
              "        0.97368421, 0.97368421, 0.99122807, 0.99122807, 0.98245614,\n",
              "        0.98245614, 0.98245614, 0.97368421, 0.98245614, 0.98245614,\n",
              "        0.98245614, 0.98245614, 0.98245614, 0.98245614, 0.98245614,\n",
              "        0.98245614, 0.99122807, 0.99122807, 0.98245614, 0.98245614]),\n",
              " 'split3_test_score': array([0.96491228, 0.96491228, 0.93859649, 0.93859649, 0.93859649,\n",
              "        0.93859649, 0.96491228, 0.96491228, 0.94736842, 0.93859649,\n",
              "        0.95614035, 0.93859649, 0.95614035, 0.95614035, 0.95614035,\n",
              "        0.95614035, 0.96491228, 0.96491228, 0.95614035, 0.95614035,\n",
              "        0.97368421, 0.97368421, 0.97368421, 0.96491228, 0.95614035,\n",
              "        0.95614035, 0.95614035, 0.95614035, 0.97368421, 0.97368421,\n",
              "        0.96491228, 0.95614035, 0.96491228, 0.97368421, 0.96491228,\n",
              "        0.96491228, 0.96491228, 0.96491228, 0.96491228, 0.96491228,\n",
              "        0.96491228, 0.96491228, 0.96491228, 0.97368421, 0.96491228,\n",
              "        0.96491228, 0.96491228, 0.96491228, 0.96491228, 0.96491228,\n",
              "        0.96491228, 0.96491228, 0.96491228, 0.96491228, 0.95614035,\n",
              "        0.96491228, 0.96491228, 0.96491228, 0.96491228, 0.96491228]),\n",
              " 'split4_test_score': array([0.94690265, 0.94690265, 0.92920354, 0.92920354, 0.92035398,\n",
              "        0.92035398, 0.92920354, 0.94690265, 0.92920354, 0.92920354,\n",
              "        0.92035398, 0.92035398, 0.96460177, 0.96460177, 0.95575221,\n",
              "        0.95575221, 0.9380531 , 0.9380531 , 0.95575221, 0.96460177,\n",
              "        0.9380531 , 0.95575221, 0.91150442, 0.92920354, 0.96460177,\n",
              "        0.96460177, 0.97345133, 0.97345133, 0.94690265, 0.94690265,\n",
              "        0.96460177, 0.96460177, 0.96460177, 0.97345133, 0.94690265,\n",
              "        0.9380531 , 0.97345133, 0.97345133, 0.97345133, 0.97345133,\n",
              "        0.95575221, 0.95575221, 0.96460177, 0.96460177, 0.97345133,\n",
              "        0.98230088, 0.95575221, 0.95575221, 0.96460177, 0.96460177,\n",
              "        0.98230088, 0.98230088, 0.95575221, 0.95575221, 0.96460177,\n",
              "        0.96460177, 0.96460177, 0.96460177, 0.95575221, 0.95575221]),\n",
              " 'mean_test_score': array([0.95253843, 0.95253843, 0.95250737, 0.95250737, 0.95249185,\n",
              "        0.95249185, 0.95426176, 0.95253843, 0.95075299, 0.95250737,\n",
              "        0.95249185, 0.95249185, 0.97011334, 0.97011334, 0.96308027,\n",
              "        0.96308027, 0.96129483, 0.96129483, 0.96308027, 0.96835895,\n",
              "        0.96129483, 0.97009781, 0.95773948, 0.96303369, 0.96485018,\n",
              "        0.96485018, 0.96662009, 0.96662009, 0.96481913, 0.96481913,\n",
              "        0.96485018, 0.96660456, 0.96485018, 0.97012886, 0.96481913,\n",
              "        0.96129483, 0.9648657 , 0.9648657 , 0.96311132, 0.96311132,\n",
              "        0.96308027, 0.96308027, 0.96309579, 0.96835895, 0.96662009,\n",
              "        0.97014439, 0.96308027, 0.96483465, 0.96134141, 0.96134141,\n",
              "        0.96839   , 0.96839   , 0.96132588, 0.96132588, 0.95958702,\n",
              "        0.96485018, 0.96309579, 0.97011334, 0.96483465, 0.96483465]),\n",
              " 'std_test_score': array([0.02329636, 0.02329636, 0.01822036, 0.01822036, 0.02279977,\n",
              "        0.02279977, 0.01806271, 0.02329636, 0.01820839, 0.01822036,\n",
              "        0.02140729, 0.02279977, 0.01192691, 0.01192691, 0.0140747 ,\n",
              "        0.0140747 , 0.01442719, 0.01442719, 0.01512865, 0.01191777,\n",
              "        0.01902728, 0.01321226, 0.02710132, 0.01812293, 0.01467877,\n",
              "        0.01467877, 0.01401209, 0.01401209, 0.01253781, 0.01253781,\n",
              "        0.01467877, 0.0129011 , 0.01467877, 0.01424153, 0.01479034,\n",
              "        0.01442719, 0.0175208 , 0.0175208 , 0.01505957, 0.01505957,\n",
              "        0.00664859, 0.00664859, 0.01607292, 0.01426852, 0.01019816,\n",
              "        0.01049021, 0.01168503, 0.00567139, 0.0131126 , 0.0131126 ,\n",
              "        0.0118623 , 0.0118623 , 0.01193412, 0.01193412, 0.01310429,\n",
              "        0.01109641, 0.01700345, 0.01192691, 0.00968102, 0.00968102]),\n",
              " 'rank_test_score': array([50, 50, 53, 53, 56, 56, 49, 50, 60, 53, 56, 56,  3,  3, 32, 32, 43,\n",
              "        43, 32,  9, 43,  6, 48, 38, 17, 17, 11, 11, 25, 25, 19, 14, 19,  2,\n",
              "        25, 43, 15, 15, 28, 28, 32, 32, 30,  9, 11,  1, 37, 22, 39, 39,  7,\n",
              "         7, 41, 41, 47, 19, 30,  3, 22, 22], dtype=int32)}"
            ]
          },
          "metadata": {},
          "execution_count": 71
        }
      ]
    },
    {
      "cell_type": "code",
      "source": [
        "gskNN.best_estimator_"
      ],
      "metadata": {
        "colab": {
          "base_uri": "https://localhost:8080/"
        },
        "id": "B_XqExc32WBp",
        "outputId": "2f41a1f8-e6d4-4e9d-e70f-3f6280387c89"
      },
      "id": "B_XqExc32WBp",
      "execution_count": null,
      "outputs": [
        {
          "output_type": "execute_result",
          "data": {
            "text/plain": [
              "{'algorithm': 'auto',\n",
              " 'leaf_size': 30,\n",
              " 'metric': 'minkowski',\n",
              " 'metric_params': None,\n",
              " 'n_jobs': None,\n",
              " 'n_neighbors': 8,\n",
              " 'p': 2,\n",
              " 'weights': 'distance'}"
            ]
          },
          "metadata": {},
          "execution_count": 73
        }
      ]
    },
    {
      "cell_type": "code",
      "source": [
        "gskNN.best_score_"
      ],
      "metadata": {
        "colab": {
          "base_uri": "https://localhost:8080/"
        },
        "id": "YW6CfMfa3HpW",
        "outputId": "57b6c7ac-6897-491e-8dfc-381f66f5db4d"
      },
      "id": "YW6CfMfa3HpW",
      "execution_count": null,
      "outputs": [
        {
          "output_type": "execute_result",
          "data": {
            "text/plain": [
              "0.9701443875174661"
            ]
          },
          "metadata": {},
          "execution_count": 74
        }
      ]
    },
    {
      "cell_type": "code",
      "source": [
        "gskNN.best_params_"
      ],
      "metadata": {
        "colab": {
          "base_uri": "https://localhost:8080/"
        },
        "id": "lUh5bTif3h30",
        "outputId": "58c53ba4-be74-439a-b19a-f60ab0ccee35"
      },
      "id": "lUh5bTif3h30",
      "execution_count": null,
      "outputs": [
        {
          "output_type": "execute_result",
          "data": {
            "text/plain": [
              "{'n_neighbors': 8, 'p': 2, 'weights': 'distance'}"
            ]
          },
          "metadata": {},
          "execution_count": 77
        }
      ]
    },
    {
      "cell_type": "markdown",
      "source": [
        "### Ocena modeli metodą walidacji krzyżowej"
      ],
      "metadata": {
        "id": "w-NdXBLcX_1i"
      },
      "id": "w-NdXBLcX_1i"
    },
    {
      "cell_type": "code",
      "source": [
        "from sklearn.model_selection import cross_val_score"
      ],
      "metadata": {
        "id": "0QxuKmzo5Dbg"
      },
      "id": "0QxuKmzo5Dbg",
      "execution_count": null,
      "outputs": []
    },
    {
      "cell_type": "code",
      "source": [
        "cv_scores = cross_val_score(kNN, x_norm, y, cv=10)"
      ],
      "metadata": {
        "id": "kMpYa4xX5GNv"
      },
      "id": "kMpYa4xX5GNv",
      "execution_count": null,
      "outputs": []
    },
    {
      "cell_type": "code",
      "source": [
        "print('mean:', cv_scores.mean(), 'std:', cv_scores.std())"
      ],
      "metadata": {
        "colab": {
          "base_uri": "https://localhost:8080/"
        },
        "id": "D7EfkBzf5Wzx",
        "outputId": "03d46ebc-6ba8-4705-8cea-6d5132ea19d5"
      },
      "id": "D7EfkBzf5Wzx",
      "execution_count": null,
      "outputs": [
        {
          "output_type": "stream",
          "name": "stdout",
          "text": [
            "mean:  0.9666353383458647 std:  0.022785512217752144\n"
          ]
        }
      ]
    },
    {
      "cell_type": "markdown",
      "source": [
        "## krzywe ROC"
      ],
      "metadata": {
        "id": "fqe_Mmms6A2b"
      },
      "id": "fqe_Mmms6A2b"
    },
    {
      "cell_type": "code",
      "source": [
        "from sklearn.metrics import roc_curve\n",
        "from sklearn.metrics import auc\n",
        "from sklearn.metrics import RocCurveDisplay"
      ],
      "metadata": {
        "id": "8D93bOYO5xMc"
      },
      "id": "8D93bOYO5xMc",
      "execution_count": null,
      "outputs": []
    },
    {
      "cell_type": "code",
      "source": [
        "y_norm_pred = kNN.predict_proba(x_norm_test)"
      ],
      "metadata": {
        "id": "3o8FHObP6bKR"
      },
      "id": "3o8FHObP6bKR",
      "execution_count": null,
      "outputs": []
    },
    {
      "cell_type": "code",
      "source": [
        "y_norm_pred[:,1]"
      ],
      "metadata": {
        "colab": {
          "base_uri": "https://localhost:8080/"
        },
        "id": "YYODcGjY8mJr",
        "outputId": "62a61aff-bed4-4af5-d676-9dc980e1144b"
      },
      "id": "YYODcGjY8mJr",
      "execution_count": null,
      "outputs": [
        {
          "output_type": "execute_result",
          "data": {
            "text/plain": [
              "array([1.        , 0.        , 1.        , 1.        , 0.        ,\n",
              "       1.        , 0.        , 0.79829786, 1.        , 0.19065727,\n",
              "       0.41320769, 0.81620763, 1.        , 0.        , 0.        ,\n",
              "       0.        , 1.        , 1.        , 0.        , 0.        ,\n",
              "       1.        , 0.40240892, 1.        , 0.        , 1.        ,\n",
              "       0.        , 1.        , 0.        , 1.        , 1.        ,\n",
              "       0.2115782 , 0.        , 0.        , 1.        , 0.        ,\n",
              "       0.        , 1.        , 0.        , 0.20699432, 1.        ,\n",
              "       0.        , 0.18509307, 1.        , 1.        , 1.        ,\n",
              "       0.        , 1.        , 1.        , 1.        , 1.        ,\n",
              "       1.        , 0.        , 0.77992902, 0.        , 0.        ,\n",
              "       0.17998086, 0.81231598, 0.78938945, 1.        , 1.        ,\n",
              "       1.        , 1.        , 1.        , 1.        , 0.        ,\n",
              "       1.        , 0.        , 1.        , 1.        , 0.        ,\n",
              "       0.        , 1.        , 1.        , 1.        , 1.        ,\n",
              "       1.        , 1.        , 1.        , 1.        , 1.        ,\n",
              "       1.        , 1.        , 0.8116744 , 1.        , 1.        ,\n",
              "       1.        ])"
            ]
          },
          "metadata": {},
          "execution_count": 89
        }
      ]
    },
    {
      "cell_type": "code",
      "source": [
        "rc = roc_curve(y_norm_test, y_norm_pred[:, 1])"
      ],
      "metadata": {
        "id": "2w3q-AHv6ns-"
      },
      "id": "2w3q-AHv6ns-",
      "execution_count": null,
      "outputs": []
    },
    {
      "cell_type": "code",
      "source": [
        "plt.plot(rc[0], rc[1])"
      ],
      "metadata": {
        "colab": {
          "base_uri": "https://localhost:8080/",
          "height": 282
        },
        "id": "fRq1Bzlz8yFg",
        "outputId": "669eaebe-a1a2-41ff-836c-072203966164"
      },
      "id": "fRq1Bzlz8yFg",
      "execution_count": null,
      "outputs": [
        {
          "output_type": "execute_result",
          "data": {
            "text/plain": [
              "[<matplotlib.lines.Line2D at 0x7f3e29f83160>]"
            ]
          },
          "metadata": {},
          "execution_count": 92
        },
        {
          "output_type": "display_data",
          "data": {
            "text/plain": [
              "<Figure size 432x288 with 1 Axes>"
            ],
            "image/png": "[encoded data removed]"
          },
          "metadata": {
            "needs_background": "light"
          }
        }
      ]
    },
    {
      "cell_type": "code",
      "source": [
        "auc(rc[0], rc[1])"
      ],
      "metadata": {
        "colab": {
          "base_uri": "https://localhost:8080/"
        },
        "id": "g2Dls8pO8zYC",
        "outputId": "158b78a9-aea0-4eba-dda4-05d016e307d1"
      },
      "id": "g2Dls8pO8zYC",
      "execution_count": null,
      "outputs": [
        {
          "output_type": "execute_result",
          "data": {
            "text/plain": [
              "0.9817708333333334"
            ]
          },
          "metadata": {},
          "execution_count": 94
        }
      ]
    },
    {
      "cell_type": "code",
      "source": [
        "RocCurveDisplay(fpr=rc[0], tpr=rc[1], roc_auc=auc(rc[0], rc[1])).plot()"
      ],
      "metadata": {
        "colab": {
          "base_uri": "https://localhost:8080/",
          "height": 296
        },
        "id": "0wFDeD--90Rq",
        "outputId": "9987b4b9-2424-452c-e441-ff893788c32a"
      },
      "id": "0wFDeD--90Rq",
      "execution_count": null,
      "outputs": [
        {
          "output_type": "execute_result",
          "data": {
            "text/plain": [
              "<sklearn.metrics._plot.roc_curve.RocCurveDisplay at 0x7f3e2fa52d00>"
            ]
          },
          "metadata": {},
          "execution_count": 100
        },
        {
          "output_type": "display_data",
          "data": {
            "text/plain": [
              "<Figure size 432x288 with 1 Axes>"
            ],
            "image/png": "[encoded data removed]"
          },
          "metadata": {
            "needs_background": "light"
          }
        }
      ]
    },
    {
      "cell_type": "markdown",
      "source": [
        "# Zespoły klasyfikatorów - przykład Voting Classifier"
      ],
      "metadata": {
        "id": "w2AirjbQABHS"
      },
      "id": "w2AirjbQABHS"
    },
    {
      "cell_type": "code",
      "source": [
        "from sklearn.ensemble import VotingClassifier"
      ],
      "metadata": {
        "id": "5a3bTkX5-Y_l"
      },
      "id": "5a3bTkX5-Y_l",
      "execution_count": null,
      "outputs": []
    },
    {
      "cell_type": "code",
      "source": [
        "vc = VotingClassifier(estimators=[('knn1', kNN), ('knn2', kNN2), ('knn3', kNN3)], voting='hard')"
      ],
      "metadata": {
        "id": "o4EdGaY7ADk5"
      },
      "id": "o4EdGaY7ADk5",
      "execution_count": null,
      "outputs": []
    },
    {
      "cell_type": "code",
      "source": [
        "vc.fit(x_norm_train, y_norm_train)"
      ],
      "metadata": {
        "colab": {
          "base_uri": "https://localhost:8080/",
          "height": 109
        },
        "id": "RSfFtRyqApz3",
        "outputId": "524a1f51-8c6a-477b-9026-e6732cf8ff38"
      },
      "id": "RSfFtRyqApz3",
      "execution_count": null,
      "outputs": [
        {
          "output_type": "execute_result",
          "data": {
            "text/plain": [
              "VotingClassifier(estimators=[('knn1', KNeighborsClassifier(weights='distance')),\n",
              "                             ('knn2',\n",
              "                              KNeighborsClassifier(n_neighbors=10,\n",
              "                                                   weights='distance')),\n",
              "                             ('knn3',\n",
              "                              KNeighborsClassifier(n_neighbors=15,\n",
              "                                                   weights='distance'))])"
            ],
            "text/html": [
              "<style>#sk-container-id-11 {color: black;background-color: white;}#sk-container-id-11 pre{padding: 0;}#sk-container-id-11 div.sk-toggleable {background-color: white;}#sk-container-id-11 label.sk-toggleable__label {cursor: pointer;display: block;width: 100%;margin-bottom: 0;padding: 0.3em;box-sizing: border-box;text-align: center;}#sk-container-id-11 label.sk-toggleable__label-arrow:before {content: \"▸\";float: left;margin-right: 0.25em;color: #696969;}#sk-container-id-11 label.sk-toggleable__label-arrow:hover:before {color: black;}#sk-container-id-11 div.sk-estimator:hover label.sk-toggleable__label-arrow:before {color: black;}#sk-container-id-11 div.sk-toggleable__content {max-height: 0;max-width: 0;overflow: hidden;text-align: left;background-color: #f0f8ff;}#sk-container-id-11 div.sk-toggleable__content pre {margin: 0.2em;color: black;border-radius: 0.25em;background-color: #f0f8ff;}#sk-container-id-11 input.sk-toggleable__control:checked~div.sk-toggleable__content {max-height: 200px;max-width: 100%;overflow: auto;}#sk-container-id-11 input.sk-toggleable__control:checked~label.sk-toggleable__label-arrow:before {content: \"▾\";}#sk-container-id-11 div.sk-estimator input.sk-toggleable__control:checked~label.sk-toggleable__label {background-color: #d4ebff;}#sk-container-id-11 div.sk-label input.sk-toggleable__control:checked~label.sk-toggleable__label {background-color: #d4ebff;}#sk-container-id-11 input.sk-hidden--visually {border: 0;clip: rect(1px 1px 1px 1px);clip: rect(1px, 1px, 1px, 1px);height: 1px;margin: -1px;overflow: hidden;padding: 0;position: absolute;width: 1px;}#sk-container-id-11 div.sk-estimator {font-family: monospace;background-color: #f0f8ff;border: 1px dotted black;border-radius: 0.25em;box-sizing: border-box;margin-bottom: 0.5em;}#sk-container-id-11 div.sk-estimator:hover {background-color: #d4ebff;}#sk-container-id-11 div.sk-parallel-item::after {content: \"\";width: 100%;border-bottom: 1px solid gray;flex-grow: 1;}#sk-container-id-11 div.sk-label:hover label.sk-toggleable__label {background-color: #d4ebff;}#sk-container-id-11 div.sk-serial::before {content: \"\";position: absolute;border-left: 1px solid gray;box-sizing: border-box;top: 0;bottom: 0;left: 50%;z-index: 0;}#sk-container-id-11 div.sk-serial {display: flex;flex-direction: column;align-items: center;background-color: white;padding-right: 0.2em;padding-left: 0.2em;position: relative;}#sk-container-id-11 div.sk-item {position: relative;z-index: 1;}#sk-container-id-11 div.sk-parallel {display: flex;align-items: stretch;justify-content: center;background-color: white;position: relative;}#sk-container-id-11 div.sk-item::before, #sk-container-id-11 div.sk-parallel-item::before {content: \"\";position: absolute;border-left: 1px solid gray;box-sizing: border-box;top: 0;bottom: 0;left: 50%;z-index: -1;}#sk-container-id-11 div.sk-parallel-item {display: flex;flex-direction: column;z-index: 1;position: relative;background-color: white;}#sk-container-id-11 div.sk-parallel-item:first-child::after {align-self: flex-end;width: 50%;}#sk-container-id-11 div.sk-parallel-item:last-child::after {align-self: flex-start;width: 50%;}#sk-container-id-11 div.sk-parallel-item:only-child::after {width: 0;}#sk-container-id-11 div.sk-dashed-wrapped {border: 1px dashed gray;margin: 0 0.4em 0.5em 0.4em;box-sizing: border-box;padding-bottom: 0.4em;background-color: white;}#sk-container-id-11 div.sk-label label {font-family: monospace;font-weight: bold;display: inline-block;line-height: 1.2em;}#sk-container-id-11 div.sk-label-container {text-align: center;}#sk-container-id-11 div.sk-container {/* jupyter's `normalize.less` sets `[hidden] { display: none; }` but bootstrap.min.css set `[hidden] { display: none !important; }` so we also need the `!important` here to be able to override the default hidden behavior on the sphinx rendered scikit-learn.org. See: https://github.com/scikit-learn/scikit-learn/issues/21755 */display: inline-block !important;position: relative;}#sk-container-id-11 div.sk-text-repr-fallback {display: none;}</style><div id=\"sk-container-id-11\" class=\"sk-top-container\"><div class=\"sk-text-repr-fallback\"><pre>VotingClassifier(estimators=[(&#x27;knn1&#x27;, KNeighborsClassifier(weights=&#x27;distance&#x27;)),\n",
              "                             (&#x27;knn2&#x27;,\n",
              "                              KNeighborsClassifier(n_neighbors=10,\n",
              "                                                   weights=&#x27;distance&#x27;)),\n",
              "                             (&#x27;knn3&#x27;,\n",
              "                              KNeighborsClassifier(n_neighbors=15,\n",
              "                                                   weights=&#x27;distance&#x27;))])</pre><b>In a Jupyter environment, please rerun this cell to show the HTML representation or trust the notebook. <br />On GitHub, the HTML representation is unable to render, please try loading this page with nbviewer.org.</b></div><div class=\"sk-container\" hidden><div class=\"sk-item sk-dashed-wrapped\"><div class=\"sk-label-container\"><div class=\"sk-label sk-toggleable\"><input class=\"sk-toggleable__control sk-hidden--visually\" id=\"sk-estimator-id-15\" type=\"checkbox\" ><label for=\"sk-estimator-id-15\" class=\"sk-toggleable__label sk-toggleable__label-arrow\">VotingClassifier</label><div class=\"sk-toggleable__content\"><pre>VotingClassifier(estimators=[(&#x27;knn1&#x27;, KNeighborsClassifier(weights=&#x27;distance&#x27;)),\n",
              "                             (&#x27;knn2&#x27;,\n",
              "                              KNeighborsClassifier(n_neighbors=10,\n",
              "                                                   weights=&#x27;distance&#x27;)),\n",
              "                             (&#x27;knn3&#x27;,\n",
              "                              KNeighborsClassifier(n_neighbors=15,\n",
              "                                                   weights=&#x27;distance&#x27;))])</pre></div></div></div><div class=\"sk-parallel\"><div class=\"sk-parallel-item\"><div class=\"sk-item\"><div class=\"sk-label-container\"><div class=\"sk-label sk-toggleable\"><label>knn1</label></div></div><div class=\"sk-serial\"><div class=\"sk-item\"><div class=\"sk-estimator sk-toggleable\"><input class=\"sk-toggleable__control sk-hidden--visually\" id=\"sk-estimator-id-16\" type=\"checkbox\" ><label for=\"sk-estimator-id-16\" class=\"sk-toggleable__label sk-toggleable__label-arrow\">KNeighborsClassifier</label><div class=\"sk-toggleable__content\"><pre>KNeighborsClassifier(weights=&#x27;distance&#x27;)</pre></div></div></div></div></div></div><div class=\"sk-parallel-item\"><div class=\"sk-item\"><div class=\"sk-label-container\"><div class=\"sk-label sk-toggleable\"><label>knn2</label></div></div><div class=\"sk-serial\"><div class=\"sk-item\"><div class=\"sk-estimator sk-toggleable\"><input class=\"sk-toggleable__control sk-hidden--visually\" id=\"sk-estimator-id-17\" type=\"checkbox\" ><label for=\"sk-estimator-id-17\" class=\"sk-toggleable__label sk-toggleable__label-arrow\">KNeighborsClassifier</label><div class=\"sk-toggleable__content\"><pre>KNeighborsClassifier(n_neighbors=10, weights=&#x27;distance&#x27;)</pre></div></div></div></div></div></div><div class=\"sk-parallel-item\"><div class=\"sk-item\"><div class=\"sk-label-container\"><div class=\"sk-label sk-toggleable\"><label>knn3</label></div></div><div class=\"sk-serial\"><div class=\"sk-item\"><div class=\"sk-estimator sk-toggleable\"><input class=\"sk-toggleable__control sk-hidden--visually\" id=\"sk-estimator-id-18\" type=\"checkbox\" ><label for=\"sk-estimator-id-18\" class=\"sk-toggleable__label sk-toggleable__label-arrow\">KNeighborsClassifier</label><div class=\"sk-toggleable__content\"><pre>KNeighborsClassifier(n_neighbors=15, weights=&#x27;distance&#x27;)</pre></div></div></div></div></div></div></div></div></div></div>"
            ]
          },
          "metadata": {},
          "execution_count": 106
        }
      ]
    },
    {
      "cell_type": "code",
      "source": [
        "vc.score(x_norm_test, y_norm_test)"
      ],
      "metadata": {
        "colab": {
          "base_uri": "https://localhost:8080/"
        },
        "id": "fHouNnlvAjz9",
        "outputId": "4739a52a-3243-4ab5-876b-6fed54e3e1e6"
      },
      "id": "fHouNnlvAjz9",
      "execution_count": null,
      "outputs": [
        {
          "output_type": "execute_result",
          "data": {
            "text/plain": [
              "0.9883720930232558"
            ]
          },
          "metadata": {},
          "execution_count": 107
        }
      ]
    },
    {
      "cell_type": "code",
      "source": [
        "kNN3.score(x_norm_test, y_norm_test)"
      ],
      "metadata": {
        "colab": {
          "base_uri": "https://localhost:8080/"
        },
        "id": "Je5rnZAsAnsa",
        "outputId": "a545e48a-58ce-4e2d-d8f4-ccb7df097806"
      },
      "id": "Je5rnZAsAnsa",
      "execution_count": null,
      "outputs": [
        {
          "output_type": "execute_result",
          "data": {
            "text/plain": [
              "0.9767441860465116"
            ]
          },
          "metadata": {},
          "execution_count": 111
        }
      ]
    },
    {
      "cell_type": "code",
      "source": [],
      "metadata": {
        "id": "NIhf2-vfA7a5"
      },
      "id": "NIhf2-vfA7a5",
      "execution_count": null,
      "outputs": []
    }
  ],
  "metadata": {
    "kernelspec": {
      "display_name": "Python 3 (ipykernel)",
      "language": "python",
      "name": "python3"
    },
    "language_info": {
      "codemirror_mode": {
        "name": "ipython",
        "version": 3
      },
      "file_extension": ".py",
      "mimetype": "text/x-python",
      "name": "python",
      "nbconvert_exporter": "python",
      "pygments_lexer": "ipython3",
      "version": "3.9.7"
    },
    "colab": {
      "provenance": []
    },
    "gpuClass": "standard"
  },
  "nbformat": 4,
  "nbformat_minor": 5
}